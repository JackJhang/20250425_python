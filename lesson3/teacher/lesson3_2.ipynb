{
 "cells": [
  {
   "cell_type": "markdown",
   "id": "c3613803",
   "metadata": {},
   "source": [
    "# 下載internet的資源\n",
    "- 使用第3方套件(requests)"
   ]
  },
  {
   "cell_type": "code",
   "execution_count": null,
   "id": "76f53e8a",
   "metadata": {},
   "outputs": [],
   "source": [
    "import requests\n",
    "\n",
    "url = '\thttps://data.moenv.gov.tw/api/v2/aqx_p_432?api_key=540e2ca4-41e1-4186-8497-fdd67024ac44&limit=1000&sort=ImportDate desc&format=CSV'"
   ]
  }
 ],
 "metadata": {
  "kernelspec": {
   "display_name": ".venv",
   "language": "python",
   "name": "python3"
  },
  "language_info": {
   "name": "python",
   "version": "3.10.8"
  }
 },
 "nbformat": 4,
 "nbformat_minor": 5
}
