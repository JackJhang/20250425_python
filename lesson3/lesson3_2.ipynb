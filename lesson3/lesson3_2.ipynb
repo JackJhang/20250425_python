{
 "cells": [
  {
   "cell_type": "markdown",
   "metadata": {},
   "source": [
    "# 下載internet的資源\n",
    "- 使用第三方套件 (requests)"
   ]
  },
  {
   "cell_type": "markdown",
   "metadata": {},
   "source": [
    "流程：\n",
    "1. 進入 https://pypi.org/\n",
    "2. 搜尋 requests，找到該套件，進入到該套件的頁面 https://pypi.org/project/requests/\n",
    "3. 在頁面左上角複製 [ pip install requests ] 指令\n",
    "4. 在 VSCODE 新增終端機，執行 [ pip install requests ] 指令，便會自動安裝\n",
    "5. 要檢查是否有安裝該套件，用 [ pip show 套件名稱 ] 指令，比如輸入 [ pip show requests ]\n",
    "6. 如果有安裝該套件，便會顯示該套件資訊(比如套件名字、版本等等)；如果未安裝，則不會顯示資訊。"
   ]
  },
  {
   "cell_type": "markdown",
   "metadata": {},
   "source": [
    "- 安裝套件指令：pip install 套件名稱"
   ]
  },
  {
   "cell_type": "code",
   "execution_count": 7,
   "metadata": {},
   "outputs": [
    {
     "name": "stdout",
     "output_type": "stream",
     "text": [
      "Note: you may need to restart the kernel to use updated packages.\n"
     ]
    },
    {
     "name": "stderr",
     "output_type": "stream",
     "text": [
      "ERROR: Invalid requirement: '#安裝': Expected package name at the start of dependency specifier\n",
      "    #安裝\n",
      "    ^\n"
     ]
    }
   ],
   "source": [
    "pip install requests #安裝 requests"
   ]
  },
  {
   "cell_type": "markdown",
   "metadata": {},
   "source": [
    "- 查詢套件是否有安裝的指令：pip show 套件名稱"
   ]
  },
  {
   "cell_type": "code",
   "execution_count": 6,
   "metadata": {},
   "outputs": [
    {
     "name": "stdout",
     "output_type": "stream",
     "text": [
      "Note: you may need to restart the kernel to use updated packages.\n"
     ]
    },
    {
     "name": "stderr",
     "output_type": "stream",
     "text": [
      "WARNING: Package(s) not found: #查詢, requests, requests, 是否有安裝\n"
     ]
    }
   ],
   "source": [
    "pip show requests #查詢 requests 是否有安裝"
   ]
  },
  {
   "cell_type": "markdown",
   "metadata": {},
   "source": [
    "- 移除套件指令：pip uninstall 套件名稱"
   ]
  },
  {
   "cell_type": "code",
   "execution_count": null,
   "metadata": {},
   "outputs": [],
   "source": [
    "pip uninstall requests #移除 requests 套件"
   ]
  },
  {
   "cell_type": "markdown",
   "metadata": {},
   "source": [
    "---"
   ]
  },
  {
   "cell_type": "markdown",
   "metadata": {},
   "source": [
    "### 課堂實作\n"
   ]
  },
  {
   "cell_type": "markdown",
   "metadata": {},
   "source": [
    "\n",
    "#### 題目\n",
    "\n",
    "- 利用 requests 套件，下載網站資料\n",
    "- url = '\thttps://data.moenv.gov.tw/api/v2/aqx_p_432?api_key=540e2ca4-41e1-4186-8497-fdd67024ac44&limit=1000&sort=ImportDate desc&format=CSV'"
   ]
  },
  {
   "cell_type": "markdown",
   "metadata": {},
   "source": [
    "#### 實作"
   ]
  },
  {
   "cell_type": "code",
   "execution_count": 11,
   "metadata": {},
   "outputs": [
    {
     "name": "stdout",
     "output_type": "stream",
     "text": [
      "Collecting requests\n",
      "  Using cached requests-2.32.3-py3-none-any.whl.metadata (4.6 kB)\n",
      "Collecting charset-normalizer<4,>=2 (from requests)\n",
      "  Using cached charset_normalizer-3.4.2-cp313-cp313-win_amd64.whl.metadata (36 kB)\n",
      "Collecting idna<4,>=2.5 (from requests)\n",
      "  Using cached idna-3.10-py3-none-any.whl.metadata (10 kB)\n",
      "Collecting urllib3<3,>=1.21.1 (from requests)\n",
      "  Using cached urllib3-2.4.0-py3-none-any.whl.metadata (6.5 kB)\n",
      "Collecting certifi>=2017.4.17 (from requests)\n",
      "  Using cached certifi-2025.4.26-py3-none-any.whl.metadata (2.5 kB)\n",
      "Using cached requests-2.32.3-py3-none-any.whl (64 kB)\n",
      "Using cached charset_normalizer-3.4.2-cp313-cp313-win_amd64.whl (105 kB)\n",
      "Using cached idna-3.10-py3-none-any.whl (70 kB)\n",
      "Using cached urllib3-2.4.0-py3-none-any.whl (128 kB)\n",
      "Using cached certifi-2025.4.26-py3-none-any.whl (159 kB)\n",
      "Installing collected packages: urllib3, idna, charset-normalizer, certifi, requests\n",
      "\n",
      "   ---------------------------------------- 0/5 [urllib3]\n",
      "   ---------------------------------------- 0/5 [urllib3]\n",
      "   ---------------------------------------- 0/5 [urllib3]\n",
      "   -------- ------------------------------- 1/5 [idna]\n",
      "   -------- ------------------------------- 1/5 [idna]\n",
      "   ---------------- ----------------------- 2/5 [charset-normalizer]\n",
      "   ---------------- ----------------------- 2/5 [charset-normalizer]\n",
      "   ---------------- ----------------------- 2/5 [charset-normalizer]\n",
      "   ------------------------ --------------- 3/5 [certifi]\n",
      "   -------------------------------- ------- 4/5 [requests]\n",
      "   ---------------------------------------- 5/5 [requests]\n",
      "\n",
      "Successfully installed certifi-2025.4.26 charset-normalizer-3.4.2 idna-3.10 requests-2.32.3 urllib3-2.4.0\n",
      "Note: you may need to restart the kernel to use updated packages.\n"
     ]
    }
   ],
   "source": [
    "pip install requests"
   ]
  },
  {
   "cell_type": "code",
   "execution_count": 12,
   "metadata": {},
   "outputs": [
    {
     "name": "stdout",
     "output_type": "stream",
     "text": [
      "Name: requests\n",
      "Version: 2.32.3\n",
      "Summary: Python HTTP for Humans.\n",
      "Home-page: https://requests.readthedocs.io\n",
      "Author: Kenneth Reitz\n",
      "Author-email: me@kennethreitz.org\n",
      "License: Apache-2.0\n",
      "Location: d:\\[Github]\\20250425_python\\.venv\\Lib\\site-packages\n",
      "Requires: certifi, charset-normalizer, idna, urllib3\n",
      "Required-by: \n",
      "---\n",
      "Name: requests\n",
      "Version: 2.32.3\n",
      "Summary: Python HTTP for Humans.\n",
      "Home-page: https://requests.readthedocs.io\n",
      "Author: Kenneth Reitz\n",
      "Author-email: me@kennethreitz.org\n",
      "License: Apache-2.0\n",
      "Location: d:\\[Github]\\20250425_python\\.venv\\Lib\\site-packages\n",
      "Requires: certifi, charset-normalizer, idna, urllib3\n",
      "Required-by: \n",
      "Note: you may need to restart the kernel to use updated packages.\n"
     ]
    },
    {
     "name": "stderr",
     "output_type": "stream",
     "text": [
      "WARNING: Package(s) not found: #查詢, 是否有安裝\n"
     ]
    }
   ],
   "source": [
    "pip show requests #查詢 requests 是否有安裝"
   ]
  },
  {
   "cell_type": "code",
   "execution_count": null,
   "metadata": {},
   "outputs": [
    {
     "ename": "SSLError",
     "evalue": "HTTPSConnectionPool(host='data.moenv.gov.tw', port=443): Max retries exceeded with url: /api/v2/aqx_p_432?api_key=540e2ca4-41e1-4186-8497-fdd67024ac44&limit=1000&sort=ImportDate%20desc&format=CSV (Caused by SSLError(SSLCertVerificationError(1, '[SSL: CERTIFICATE_VERIFY_FAILED] certificate verify failed: Missing Subject Key Identifier (_ssl.c:1028)')))",
     "output_type": "error",
     "traceback": [
      "\u001b[31m---------------------------------------------------------------------------\u001b[39m",
      "\u001b[31mSSLCertVerificationError\u001b[39m                  Traceback (most recent call last)",
      "\u001b[36mFile \u001b[39m\u001b[32md:\\[Github]\\20250425_python\\.venv\\Lib\\site-packages\\urllib3\\connectionpool.py:464\u001b[39m, in \u001b[36mHTTPConnectionPool._make_request\u001b[39m\u001b[34m(self, conn, method, url, body, headers, retries, timeout, chunked, response_conn, preload_content, decode_content, enforce_content_length)\u001b[39m\n\u001b[32m    463\u001b[39m \u001b[38;5;28;01mtry\u001b[39;00m:\n\u001b[32m--> \u001b[39m\u001b[32m464\u001b[39m     \u001b[38;5;28;43mself\u001b[39;49m\u001b[43m.\u001b[49m\u001b[43m_validate_conn\u001b[49m\u001b[43m(\u001b[49m\u001b[43mconn\u001b[49m\u001b[43m)\u001b[49m\n\u001b[32m    465\u001b[39m \u001b[38;5;28;01mexcept\u001b[39;00m (SocketTimeout, BaseSSLError) \u001b[38;5;28;01mas\u001b[39;00m e:\n",
      "\u001b[36mFile \u001b[39m\u001b[32md:\\[Github]\\20250425_python\\.venv\\Lib\\site-packages\\urllib3\\connectionpool.py:1093\u001b[39m, in \u001b[36mHTTPSConnectionPool._validate_conn\u001b[39m\u001b[34m(self, conn)\u001b[39m\n\u001b[32m   1092\u001b[39m \u001b[38;5;28;01mif\u001b[39;00m conn.is_closed:\n\u001b[32m-> \u001b[39m\u001b[32m1093\u001b[39m     \u001b[43mconn\u001b[49m\u001b[43m.\u001b[49m\u001b[43mconnect\u001b[49m\u001b[43m(\u001b[49m\u001b[43m)\u001b[49m\n\u001b[32m   1095\u001b[39m \u001b[38;5;66;03m# TODO revise this, see https://github.com/urllib3/urllib3/issues/2791\u001b[39;00m\n",
      "\u001b[36mFile \u001b[39m\u001b[32md:\\[Github]\\20250425_python\\.venv\\Lib\\site-packages\\urllib3\\connection.py:741\u001b[39m, in \u001b[36mHTTPSConnection.connect\u001b[39m\u001b[34m(self)\u001b[39m\n\u001b[32m    739\u001b[39m server_hostname_rm_dot = server_hostname.rstrip(\u001b[33m\"\u001b[39m\u001b[33m.\u001b[39m\u001b[33m\"\u001b[39m)\n\u001b[32m--> \u001b[39m\u001b[32m741\u001b[39m sock_and_verified = \u001b[43m_ssl_wrap_socket_and_match_hostname\u001b[49m\u001b[43m(\u001b[49m\n\u001b[32m    742\u001b[39m \u001b[43m    \u001b[49m\u001b[43msock\u001b[49m\u001b[43m=\u001b[49m\u001b[43msock\u001b[49m\u001b[43m,\u001b[49m\n\u001b[32m    743\u001b[39m \u001b[43m    \u001b[49m\u001b[43mcert_reqs\u001b[49m\u001b[43m=\u001b[49m\u001b[38;5;28;43mself\u001b[39;49m\u001b[43m.\u001b[49m\u001b[43mcert_reqs\u001b[49m\u001b[43m,\u001b[49m\n\u001b[32m    744\u001b[39m \u001b[43m    \u001b[49m\u001b[43mssl_version\u001b[49m\u001b[43m=\u001b[49m\u001b[38;5;28;43mself\u001b[39;49m\u001b[43m.\u001b[49m\u001b[43mssl_version\u001b[49m\u001b[43m,\u001b[49m\n\u001b[32m    745\u001b[39m \u001b[43m    \u001b[49m\u001b[43mssl_minimum_version\u001b[49m\u001b[43m=\u001b[49m\u001b[38;5;28;43mself\u001b[39;49m\u001b[43m.\u001b[49m\u001b[43mssl_minimum_version\u001b[49m\u001b[43m,\u001b[49m\n\u001b[32m    746\u001b[39m \u001b[43m    \u001b[49m\u001b[43mssl_maximum_version\u001b[49m\u001b[43m=\u001b[49m\u001b[38;5;28;43mself\u001b[39;49m\u001b[43m.\u001b[49m\u001b[43mssl_maximum_version\u001b[49m\u001b[43m,\u001b[49m\n\u001b[32m    747\u001b[39m \u001b[43m    \u001b[49m\u001b[43mca_certs\u001b[49m\u001b[43m=\u001b[49m\u001b[38;5;28;43mself\u001b[39;49m\u001b[43m.\u001b[49m\u001b[43mca_certs\u001b[49m\u001b[43m,\u001b[49m\n\u001b[32m    748\u001b[39m \u001b[43m    \u001b[49m\u001b[43mca_cert_dir\u001b[49m\u001b[43m=\u001b[49m\u001b[38;5;28;43mself\u001b[39;49m\u001b[43m.\u001b[49m\u001b[43mca_cert_dir\u001b[49m\u001b[43m,\u001b[49m\n\u001b[32m    749\u001b[39m \u001b[43m    \u001b[49m\u001b[43mca_cert_data\u001b[49m\u001b[43m=\u001b[49m\u001b[38;5;28;43mself\u001b[39;49m\u001b[43m.\u001b[49m\u001b[43mca_cert_data\u001b[49m\u001b[43m,\u001b[49m\n\u001b[32m    750\u001b[39m \u001b[43m    \u001b[49m\u001b[43mcert_file\u001b[49m\u001b[43m=\u001b[49m\u001b[38;5;28;43mself\u001b[39;49m\u001b[43m.\u001b[49m\u001b[43mcert_file\u001b[49m\u001b[43m,\u001b[49m\n\u001b[32m    751\u001b[39m \u001b[43m    \u001b[49m\u001b[43mkey_file\u001b[49m\u001b[43m=\u001b[49m\u001b[38;5;28;43mself\u001b[39;49m\u001b[43m.\u001b[49m\u001b[43mkey_file\u001b[49m\u001b[43m,\u001b[49m\n\u001b[32m    752\u001b[39m \u001b[43m    \u001b[49m\u001b[43mkey_password\u001b[49m\u001b[43m=\u001b[49m\u001b[38;5;28;43mself\u001b[39;49m\u001b[43m.\u001b[49m\u001b[43mkey_password\u001b[49m\u001b[43m,\u001b[49m\n\u001b[32m    753\u001b[39m \u001b[43m    \u001b[49m\u001b[43mserver_hostname\u001b[49m\u001b[43m=\u001b[49m\u001b[43mserver_hostname_rm_dot\u001b[49m\u001b[43m,\u001b[49m\n\u001b[32m    754\u001b[39m \u001b[43m    \u001b[49m\u001b[43mssl_context\u001b[49m\u001b[43m=\u001b[49m\u001b[38;5;28;43mself\u001b[39;49m\u001b[43m.\u001b[49m\u001b[43mssl_context\u001b[49m\u001b[43m,\u001b[49m\n\u001b[32m    755\u001b[39m \u001b[43m    \u001b[49m\u001b[43mtls_in_tls\u001b[49m\u001b[43m=\u001b[49m\u001b[43mtls_in_tls\u001b[49m\u001b[43m,\u001b[49m\n\u001b[32m    756\u001b[39m \u001b[43m    \u001b[49m\u001b[43massert_hostname\u001b[49m\u001b[43m=\u001b[49m\u001b[38;5;28;43mself\u001b[39;49m\u001b[43m.\u001b[49m\u001b[43massert_hostname\u001b[49m\u001b[43m,\u001b[49m\n\u001b[32m    757\u001b[39m \u001b[43m    \u001b[49m\u001b[43massert_fingerprint\u001b[49m\u001b[43m=\u001b[49m\u001b[38;5;28;43mself\u001b[39;49m\u001b[43m.\u001b[49m\u001b[43massert_fingerprint\u001b[49m\u001b[43m,\u001b[49m\n\u001b[32m    758\u001b[39m \u001b[43m\u001b[49m\u001b[43m)\u001b[49m\n\u001b[32m    759\u001b[39m \u001b[38;5;28mself\u001b[39m.sock = sock_and_verified.socket\n",
      "\u001b[36mFile \u001b[39m\u001b[32md:\\[Github]\\20250425_python\\.venv\\Lib\\site-packages\\urllib3\\connection.py:920\u001b[39m, in \u001b[36m_ssl_wrap_socket_and_match_hostname\u001b[39m\u001b[34m(sock, cert_reqs, ssl_version, ssl_minimum_version, ssl_maximum_version, cert_file, key_file, key_password, ca_certs, ca_cert_dir, ca_cert_data, assert_hostname, assert_fingerprint, server_hostname, ssl_context, tls_in_tls)\u001b[39m\n\u001b[32m    918\u001b[39m         server_hostname = normalized\n\u001b[32m--> \u001b[39m\u001b[32m920\u001b[39m ssl_sock = \u001b[43mssl_wrap_socket\u001b[49m\u001b[43m(\u001b[49m\n\u001b[32m    921\u001b[39m \u001b[43m    \u001b[49m\u001b[43msock\u001b[49m\u001b[43m=\u001b[49m\u001b[43msock\u001b[49m\u001b[43m,\u001b[49m\n\u001b[32m    922\u001b[39m \u001b[43m    \u001b[49m\u001b[43mkeyfile\u001b[49m\u001b[43m=\u001b[49m\u001b[43mkey_file\u001b[49m\u001b[43m,\u001b[49m\n\u001b[32m    923\u001b[39m \u001b[43m    \u001b[49m\u001b[43mcertfile\u001b[49m\u001b[43m=\u001b[49m\u001b[43mcert_file\u001b[49m\u001b[43m,\u001b[49m\n\u001b[32m    924\u001b[39m \u001b[43m    \u001b[49m\u001b[43mkey_password\u001b[49m\u001b[43m=\u001b[49m\u001b[43mkey_password\u001b[49m\u001b[43m,\u001b[49m\n\u001b[32m    925\u001b[39m \u001b[43m    \u001b[49m\u001b[43mca_certs\u001b[49m\u001b[43m=\u001b[49m\u001b[43mca_certs\u001b[49m\u001b[43m,\u001b[49m\n\u001b[32m    926\u001b[39m \u001b[43m    \u001b[49m\u001b[43mca_cert_dir\u001b[49m\u001b[43m=\u001b[49m\u001b[43mca_cert_dir\u001b[49m\u001b[43m,\u001b[49m\n\u001b[32m    927\u001b[39m \u001b[43m    \u001b[49m\u001b[43mca_cert_data\u001b[49m\u001b[43m=\u001b[49m\u001b[43mca_cert_data\u001b[49m\u001b[43m,\u001b[49m\n\u001b[32m    928\u001b[39m \u001b[43m    \u001b[49m\u001b[43mserver_hostname\u001b[49m\u001b[43m=\u001b[49m\u001b[43mserver_hostname\u001b[49m\u001b[43m,\u001b[49m\n\u001b[32m    929\u001b[39m \u001b[43m    \u001b[49m\u001b[43mssl_context\u001b[49m\u001b[43m=\u001b[49m\u001b[43mcontext\u001b[49m\u001b[43m,\u001b[49m\n\u001b[32m    930\u001b[39m \u001b[43m    \u001b[49m\u001b[43mtls_in_tls\u001b[49m\u001b[43m=\u001b[49m\u001b[43mtls_in_tls\u001b[49m\u001b[43m,\u001b[49m\n\u001b[32m    931\u001b[39m \u001b[43m\u001b[49m\u001b[43m)\u001b[49m\n\u001b[32m    933\u001b[39m \u001b[38;5;28;01mtry\u001b[39;00m:\n",
      "\u001b[36mFile \u001b[39m\u001b[32md:\\[Github]\\20250425_python\\.venv\\Lib\\site-packages\\urllib3\\util\\ssl_.py:480\u001b[39m, in \u001b[36mssl_wrap_socket\u001b[39m\u001b[34m(sock, keyfile, certfile, cert_reqs, ca_certs, server_hostname, ssl_version, ciphers, ssl_context, ca_cert_dir, key_password, ca_cert_data, tls_in_tls)\u001b[39m\n\u001b[32m    478\u001b[39m context.set_alpn_protocols(ALPN_PROTOCOLS)\n\u001b[32m--> \u001b[39m\u001b[32m480\u001b[39m ssl_sock = \u001b[43m_ssl_wrap_socket_impl\u001b[49m\u001b[43m(\u001b[49m\u001b[43msock\u001b[49m\u001b[43m,\u001b[49m\u001b[43m \u001b[49m\u001b[43mcontext\u001b[49m\u001b[43m,\u001b[49m\u001b[43m \u001b[49m\u001b[43mtls_in_tls\u001b[49m\u001b[43m,\u001b[49m\u001b[43m \u001b[49m\u001b[43mserver_hostname\u001b[49m\u001b[43m)\u001b[49m\n\u001b[32m    481\u001b[39m \u001b[38;5;28;01mreturn\u001b[39;00m ssl_sock\n",
      "\u001b[36mFile \u001b[39m\u001b[32md:\\[Github]\\20250425_python\\.venv\\Lib\\site-packages\\urllib3\\util\\ssl_.py:524\u001b[39m, in \u001b[36m_ssl_wrap_socket_impl\u001b[39m\u001b[34m(sock, ssl_context, tls_in_tls, server_hostname)\u001b[39m\n\u001b[32m    522\u001b[39m     \u001b[38;5;28;01mreturn\u001b[39;00m SSLTransport(sock, ssl_context, server_hostname)\n\u001b[32m--> \u001b[39m\u001b[32m524\u001b[39m \u001b[38;5;28;01mreturn\u001b[39;00m \u001b[43mssl_context\u001b[49m\u001b[43m.\u001b[49m\u001b[43mwrap_socket\u001b[49m\u001b[43m(\u001b[49m\u001b[43msock\u001b[49m\u001b[43m,\u001b[49m\u001b[43m \u001b[49m\u001b[43mserver_hostname\u001b[49m\u001b[43m=\u001b[49m\u001b[43mserver_hostname\u001b[49m\u001b[43m)\u001b[49m\n",
      "\u001b[36mFile \u001b[39m\u001b[32m~\\AppData\\Local\\Programs\\Python\\Python313\\Lib\\ssl.py:455\u001b[39m, in \u001b[36mSSLContext.wrap_socket\u001b[39m\u001b[34m(self, sock, server_side, do_handshake_on_connect, suppress_ragged_eofs, server_hostname, session)\u001b[39m\n\u001b[32m    449\u001b[39m \u001b[38;5;28;01mdef\u001b[39;00m\u001b[38;5;250m \u001b[39m\u001b[34mwrap_socket\u001b[39m(\u001b[38;5;28mself\u001b[39m, sock, server_side=\u001b[38;5;28;01mFalse\u001b[39;00m,\n\u001b[32m    450\u001b[39m                 do_handshake_on_connect=\u001b[38;5;28;01mTrue\u001b[39;00m,\n\u001b[32m    451\u001b[39m                 suppress_ragged_eofs=\u001b[38;5;28;01mTrue\u001b[39;00m,\n\u001b[32m    452\u001b[39m                 server_hostname=\u001b[38;5;28;01mNone\u001b[39;00m, session=\u001b[38;5;28;01mNone\u001b[39;00m):\n\u001b[32m    453\u001b[39m     \u001b[38;5;66;03m# SSLSocket class handles server_hostname encoding before it calls\u001b[39;00m\n\u001b[32m    454\u001b[39m     \u001b[38;5;66;03m# ctx._wrap_socket()\u001b[39;00m\n\u001b[32m--> \u001b[39m\u001b[32m455\u001b[39m     \u001b[38;5;28;01mreturn\u001b[39;00m \u001b[38;5;28;43mself\u001b[39;49m\u001b[43m.\u001b[49m\u001b[43msslsocket_class\u001b[49m\u001b[43m.\u001b[49m\u001b[43m_create\u001b[49m\u001b[43m(\u001b[49m\n\u001b[32m    456\u001b[39m \u001b[43m        \u001b[49m\u001b[43msock\u001b[49m\u001b[43m=\u001b[49m\u001b[43msock\u001b[49m\u001b[43m,\u001b[49m\n\u001b[32m    457\u001b[39m \u001b[43m        \u001b[49m\u001b[43mserver_side\u001b[49m\u001b[43m=\u001b[49m\u001b[43mserver_side\u001b[49m\u001b[43m,\u001b[49m\n\u001b[32m    458\u001b[39m \u001b[43m        \u001b[49m\u001b[43mdo_handshake_on_connect\u001b[49m\u001b[43m=\u001b[49m\u001b[43mdo_handshake_on_connect\u001b[49m\u001b[43m,\u001b[49m\n\u001b[32m    459\u001b[39m \u001b[43m        \u001b[49m\u001b[43msuppress_ragged_eofs\u001b[49m\u001b[43m=\u001b[49m\u001b[43msuppress_ragged_eofs\u001b[49m\u001b[43m,\u001b[49m\n\u001b[32m    460\u001b[39m \u001b[43m        \u001b[49m\u001b[43mserver_hostname\u001b[49m\u001b[43m=\u001b[49m\u001b[43mserver_hostname\u001b[49m\u001b[43m,\u001b[49m\n\u001b[32m    461\u001b[39m \u001b[43m        \u001b[49m\u001b[43mcontext\u001b[49m\u001b[43m=\u001b[49m\u001b[38;5;28;43mself\u001b[39;49m\u001b[43m,\u001b[49m\n\u001b[32m    462\u001b[39m \u001b[43m        \u001b[49m\u001b[43msession\u001b[49m\u001b[43m=\u001b[49m\u001b[43msession\u001b[49m\n\u001b[32m    463\u001b[39m \u001b[43m    \u001b[49m\u001b[43m)\u001b[49m\n",
      "\u001b[36mFile \u001b[39m\u001b[32m~\\AppData\\Local\\Programs\\Python\\Python313\\Lib\\ssl.py:1076\u001b[39m, in \u001b[36mSSLSocket._create\u001b[39m\u001b[34m(cls, sock, server_side, do_handshake_on_connect, suppress_ragged_eofs, server_hostname, context, session)\u001b[39m\n\u001b[32m   1075\u001b[39m                 \u001b[38;5;28;01mraise\u001b[39;00m \u001b[38;5;167;01mValueError\u001b[39;00m(\u001b[33m\"\u001b[39m\u001b[33mdo_handshake_on_connect should not be specified for non-blocking sockets\u001b[39m\u001b[33m\"\u001b[39m)\n\u001b[32m-> \u001b[39m\u001b[32m1076\u001b[39m             \u001b[38;5;28;43mself\u001b[39;49m\u001b[43m.\u001b[49m\u001b[43mdo_handshake\u001b[49m\u001b[43m(\u001b[49m\u001b[43m)\u001b[49m\n\u001b[32m   1077\u001b[39m \u001b[38;5;28;01mexcept\u001b[39;00m:\n",
      "\u001b[36mFile \u001b[39m\u001b[32m~\\AppData\\Local\\Programs\\Python\\Python313\\Lib\\ssl.py:1372\u001b[39m, in \u001b[36mSSLSocket.do_handshake\u001b[39m\u001b[34m(self, block)\u001b[39m\n\u001b[32m   1371\u001b[39m         \u001b[38;5;28mself\u001b[39m.settimeout(\u001b[38;5;28;01mNone\u001b[39;00m)\n\u001b[32m-> \u001b[39m\u001b[32m1372\u001b[39m     \u001b[38;5;28;43mself\u001b[39;49m\u001b[43m.\u001b[49m\u001b[43m_sslobj\u001b[49m\u001b[43m.\u001b[49m\u001b[43mdo_handshake\u001b[49m\u001b[43m(\u001b[49m\u001b[43m)\u001b[49m\n\u001b[32m   1373\u001b[39m \u001b[38;5;28;01mfinally\u001b[39;00m:\n",
      "\u001b[31mSSLCertVerificationError\u001b[39m: [SSL: CERTIFICATE_VERIFY_FAILED] certificate verify failed: Missing Subject Key Identifier (_ssl.c:1028)",
      "\nDuring handling of the above exception, another exception occurred:\n",
      "\u001b[31mSSLError\u001b[39m                                  Traceback (most recent call last)",
      "\u001b[36mFile \u001b[39m\u001b[32md:\\[Github]\\20250425_python\\.venv\\Lib\\site-packages\\urllib3\\connectionpool.py:787\u001b[39m, in \u001b[36mHTTPConnectionPool.urlopen\u001b[39m\u001b[34m(self, method, url, body, headers, retries, redirect, assert_same_host, timeout, pool_timeout, release_conn, chunked, body_pos, preload_content, decode_content, **response_kw)\u001b[39m\n\u001b[32m    786\u001b[39m \u001b[38;5;66;03m# Make the request on the HTTPConnection object\u001b[39;00m\n\u001b[32m--> \u001b[39m\u001b[32m787\u001b[39m response = \u001b[38;5;28;43mself\u001b[39;49m\u001b[43m.\u001b[49m\u001b[43m_make_request\u001b[49m\u001b[43m(\u001b[49m\n\u001b[32m    788\u001b[39m \u001b[43m    \u001b[49m\u001b[43mconn\u001b[49m\u001b[43m,\u001b[49m\n\u001b[32m    789\u001b[39m \u001b[43m    \u001b[49m\u001b[43mmethod\u001b[49m\u001b[43m,\u001b[49m\n\u001b[32m    790\u001b[39m \u001b[43m    \u001b[49m\u001b[43murl\u001b[49m\u001b[43m,\u001b[49m\n\u001b[32m    791\u001b[39m \u001b[43m    \u001b[49m\u001b[43mtimeout\u001b[49m\u001b[43m=\u001b[49m\u001b[43mtimeout_obj\u001b[49m\u001b[43m,\u001b[49m\n\u001b[32m    792\u001b[39m \u001b[43m    \u001b[49m\u001b[43mbody\u001b[49m\u001b[43m=\u001b[49m\u001b[43mbody\u001b[49m\u001b[43m,\u001b[49m\n\u001b[32m    793\u001b[39m \u001b[43m    \u001b[49m\u001b[43mheaders\u001b[49m\u001b[43m=\u001b[49m\u001b[43mheaders\u001b[49m\u001b[43m,\u001b[49m\n\u001b[32m    794\u001b[39m \u001b[43m    \u001b[49m\u001b[43mchunked\u001b[49m\u001b[43m=\u001b[49m\u001b[43mchunked\u001b[49m\u001b[43m,\u001b[49m\n\u001b[32m    795\u001b[39m \u001b[43m    \u001b[49m\u001b[43mretries\u001b[49m\u001b[43m=\u001b[49m\u001b[43mretries\u001b[49m\u001b[43m,\u001b[49m\n\u001b[32m    796\u001b[39m \u001b[43m    \u001b[49m\u001b[43mresponse_conn\u001b[49m\u001b[43m=\u001b[49m\u001b[43mresponse_conn\u001b[49m\u001b[43m,\u001b[49m\n\u001b[32m    797\u001b[39m \u001b[43m    \u001b[49m\u001b[43mpreload_content\u001b[49m\u001b[43m=\u001b[49m\u001b[43mpreload_content\u001b[49m\u001b[43m,\u001b[49m\n\u001b[32m    798\u001b[39m \u001b[43m    \u001b[49m\u001b[43mdecode_content\u001b[49m\u001b[43m=\u001b[49m\u001b[43mdecode_content\u001b[49m\u001b[43m,\u001b[49m\n\u001b[32m    799\u001b[39m \u001b[43m    \u001b[49m\u001b[43m*\u001b[49m\u001b[43m*\u001b[49m\u001b[43mresponse_kw\u001b[49m\u001b[43m,\u001b[49m\n\u001b[32m    800\u001b[39m \u001b[43m\u001b[49m\u001b[43m)\u001b[49m\n\u001b[32m    802\u001b[39m \u001b[38;5;66;03m# Everything went great!\u001b[39;00m\n",
      "\u001b[36mFile \u001b[39m\u001b[32md:\\[Github]\\20250425_python\\.venv\\Lib\\site-packages\\urllib3\\connectionpool.py:488\u001b[39m, in \u001b[36mHTTPConnectionPool._make_request\u001b[39m\u001b[34m(self, conn, method, url, body, headers, retries, timeout, chunked, response_conn, preload_content, decode_content, enforce_content_length)\u001b[39m\n\u001b[32m    487\u001b[39m         new_e = _wrap_proxy_error(new_e, conn.proxy.scheme)\n\u001b[32m--> \u001b[39m\u001b[32m488\u001b[39m     \u001b[38;5;28;01mraise\u001b[39;00m new_e\n\u001b[32m    490\u001b[39m \u001b[38;5;66;03m# conn.request() calls http.client.*.request, not the method in\u001b[39;00m\n\u001b[32m    491\u001b[39m \u001b[38;5;66;03m# urllib3.request. It also calls makefile (recv) on the socket.\u001b[39;00m\n",
      "\u001b[31mSSLError\u001b[39m: [SSL: CERTIFICATE_VERIFY_FAILED] certificate verify failed: Missing Subject Key Identifier (_ssl.c:1028)",
      "\nThe above exception was the direct cause of the following exception:\n",
      "\u001b[31mMaxRetryError\u001b[39m                             Traceback (most recent call last)",
      "\u001b[36mFile \u001b[39m\u001b[32md:\\[Github]\\20250425_python\\.venv\\Lib\\site-packages\\requests\\adapters.py:667\u001b[39m, in \u001b[36mHTTPAdapter.send\u001b[39m\u001b[34m(self, request, stream, timeout, verify, cert, proxies)\u001b[39m\n\u001b[32m    666\u001b[39m \u001b[38;5;28;01mtry\u001b[39;00m:\n\u001b[32m--> \u001b[39m\u001b[32m667\u001b[39m     resp = \u001b[43mconn\u001b[49m\u001b[43m.\u001b[49m\u001b[43murlopen\u001b[49m\u001b[43m(\u001b[49m\n\u001b[32m    668\u001b[39m \u001b[43m        \u001b[49m\u001b[43mmethod\u001b[49m\u001b[43m=\u001b[49m\u001b[43mrequest\u001b[49m\u001b[43m.\u001b[49m\u001b[43mmethod\u001b[49m\u001b[43m,\u001b[49m\n\u001b[32m    669\u001b[39m \u001b[43m        \u001b[49m\u001b[43murl\u001b[49m\u001b[43m=\u001b[49m\u001b[43murl\u001b[49m\u001b[43m,\u001b[49m\n\u001b[32m    670\u001b[39m \u001b[43m        \u001b[49m\u001b[43mbody\u001b[49m\u001b[43m=\u001b[49m\u001b[43mrequest\u001b[49m\u001b[43m.\u001b[49m\u001b[43mbody\u001b[49m\u001b[43m,\u001b[49m\n\u001b[32m    671\u001b[39m \u001b[43m        \u001b[49m\u001b[43mheaders\u001b[49m\u001b[43m=\u001b[49m\u001b[43mrequest\u001b[49m\u001b[43m.\u001b[49m\u001b[43mheaders\u001b[49m\u001b[43m,\u001b[49m\n\u001b[32m    672\u001b[39m \u001b[43m        \u001b[49m\u001b[43mredirect\u001b[49m\u001b[43m=\u001b[49m\u001b[38;5;28;43;01mFalse\u001b[39;49;00m\u001b[43m,\u001b[49m\n\u001b[32m    673\u001b[39m \u001b[43m        \u001b[49m\u001b[43massert_same_host\u001b[49m\u001b[43m=\u001b[49m\u001b[38;5;28;43;01mFalse\u001b[39;49;00m\u001b[43m,\u001b[49m\n\u001b[32m    674\u001b[39m \u001b[43m        \u001b[49m\u001b[43mpreload_content\u001b[49m\u001b[43m=\u001b[49m\u001b[38;5;28;43;01mFalse\u001b[39;49;00m\u001b[43m,\u001b[49m\n\u001b[32m    675\u001b[39m \u001b[43m        \u001b[49m\u001b[43mdecode_content\u001b[49m\u001b[43m=\u001b[49m\u001b[38;5;28;43;01mFalse\u001b[39;49;00m\u001b[43m,\u001b[49m\n\u001b[32m    676\u001b[39m \u001b[43m        \u001b[49m\u001b[43mretries\u001b[49m\u001b[43m=\u001b[49m\u001b[38;5;28;43mself\u001b[39;49m\u001b[43m.\u001b[49m\u001b[43mmax_retries\u001b[49m\u001b[43m,\u001b[49m\n\u001b[32m    677\u001b[39m \u001b[43m        \u001b[49m\u001b[43mtimeout\u001b[49m\u001b[43m=\u001b[49m\u001b[43mtimeout\u001b[49m\u001b[43m,\u001b[49m\n\u001b[32m    678\u001b[39m \u001b[43m        \u001b[49m\u001b[43mchunked\u001b[49m\u001b[43m=\u001b[49m\u001b[43mchunked\u001b[49m\u001b[43m,\u001b[49m\n\u001b[32m    679\u001b[39m \u001b[43m    \u001b[49m\u001b[43m)\u001b[49m\n\u001b[32m    681\u001b[39m \u001b[38;5;28;01mexcept\u001b[39;00m (ProtocolError, \u001b[38;5;167;01mOSError\u001b[39;00m) \u001b[38;5;28;01mas\u001b[39;00m err:\n",
      "\u001b[36mFile \u001b[39m\u001b[32md:\\[Github]\\20250425_python\\.venv\\Lib\\site-packages\\urllib3\\connectionpool.py:841\u001b[39m, in \u001b[36mHTTPConnectionPool.urlopen\u001b[39m\u001b[34m(self, method, url, body, headers, retries, redirect, assert_same_host, timeout, pool_timeout, release_conn, chunked, body_pos, preload_content, decode_content, **response_kw)\u001b[39m\n\u001b[32m    839\u001b[39m     new_e = ProtocolError(\u001b[33m\"\u001b[39m\u001b[33mConnection aborted.\u001b[39m\u001b[33m\"\u001b[39m, new_e)\n\u001b[32m--> \u001b[39m\u001b[32m841\u001b[39m retries = \u001b[43mretries\u001b[49m\u001b[43m.\u001b[49m\u001b[43mincrement\u001b[49m\u001b[43m(\u001b[49m\n\u001b[32m    842\u001b[39m \u001b[43m    \u001b[49m\u001b[43mmethod\u001b[49m\u001b[43m,\u001b[49m\u001b[43m \u001b[49m\u001b[43murl\u001b[49m\u001b[43m,\u001b[49m\u001b[43m \u001b[49m\u001b[43merror\u001b[49m\u001b[43m=\u001b[49m\u001b[43mnew_e\u001b[49m\u001b[43m,\u001b[49m\u001b[43m \u001b[49m\u001b[43m_pool\u001b[49m\u001b[43m=\u001b[49m\u001b[38;5;28;43mself\u001b[39;49m\u001b[43m,\u001b[49m\u001b[43m \u001b[49m\u001b[43m_stacktrace\u001b[49m\u001b[43m=\u001b[49m\u001b[43msys\u001b[49m\u001b[43m.\u001b[49m\u001b[43mexc_info\u001b[49m\u001b[43m(\u001b[49m\u001b[43m)\u001b[49m\u001b[43m[\u001b[49m\u001b[32;43m2\u001b[39;49m\u001b[43m]\u001b[49m\n\u001b[32m    843\u001b[39m \u001b[43m\u001b[49m\u001b[43m)\u001b[49m\n\u001b[32m    844\u001b[39m retries.sleep()\n",
      "\u001b[36mFile \u001b[39m\u001b[32md:\\[Github]\\20250425_python\\.venv\\Lib\\site-packages\\urllib3\\util\\retry.py:519\u001b[39m, in \u001b[36mRetry.increment\u001b[39m\u001b[34m(self, method, url, response, error, _pool, _stacktrace)\u001b[39m\n\u001b[32m    518\u001b[39m     reason = error \u001b[38;5;129;01mor\u001b[39;00m ResponseError(cause)\n\u001b[32m--> \u001b[39m\u001b[32m519\u001b[39m     \u001b[38;5;28;01mraise\u001b[39;00m MaxRetryError(_pool, url, reason) \u001b[38;5;28;01mfrom\u001b[39;00m\u001b[38;5;250m \u001b[39m\u001b[34;01mreason\u001b[39;00m  \u001b[38;5;66;03m# type: ignore[arg-type]\u001b[39;00m\n\u001b[32m    521\u001b[39m log.debug(\u001b[33m\"\u001b[39m\u001b[33mIncremented Retry for (url=\u001b[39m\u001b[33m'\u001b[39m\u001b[38;5;132;01m%s\u001b[39;00m\u001b[33m'\u001b[39m\u001b[33m): \u001b[39m\u001b[38;5;132;01m%r\u001b[39;00m\u001b[33m\"\u001b[39m, url, new_retry)\n",
      "\u001b[31mMaxRetryError\u001b[39m: HTTPSConnectionPool(host='data.moenv.gov.tw', port=443): Max retries exceeded with url: /api/v2/aqx_p_432?api_key=540e2ca4-41e1-4186-8497-fdd67024ac44&limit=1000&sort=ImportDate%20desc&format=CSV (Caused by SSLError(SSLCertVerificationError(1, '[SSL: CERTIFICATE_VERIFY_FAILED] certificate verify failed: Missing Subject Key Identifier (_ssl.c:1028)')))",
      "\nDuring handling of the above exception, another exception occurred:\n",
      "\u001b[31mSSLError\u001b[39m                                  Traceback (most recent call last)",
      "\u001b[36mCell\u001b[39m\u001b[36m \u001b[39m\u001b[32mIn[3]\u001b[39m\u001b[32m, line 5\u001b[39m\n\u001b[32m      2\u001b[39m \u001b[38;5;28;01mfrom\u001b[39;00m\u001b[38;5;250m \u001b[39m\u001b[34;01mrequests\u001b[39;00m\u001b[38;5;250m \u001b[39m\u001b[38;5;28;01mimport\u001b[39;00m Response\n\u001b[32m      4\u001b[39m url = \u001b[33m'\u001b[39m\u001b[33mhttps://data.moenv.gov.tw/api/v2/aqx_p_432?api_key=540e2ca4-41e1-4186-8497-fdd67024ac44&limit=1000&sort=ImportDate desc&format=CSV\u001b[39m\u001b[33m'\u001b[39m\n\u001b[32m----> \u001b[39m\u001b[32m5\u001b[39m response:Response = \u001b[43mrequests\u001b[49m\u001b[43m.\u001b[49m\u001b[43mget\u001b[49m\u001b[43m(\u001b[49m\u001b[43murl\u001b[49m\u001b[43m)\u001b[49m\n\u001b[32m      6\u001b[39m response.text\n",
      "\u001b[36mFile \u001b[39m\u001b[32md:\\[Github]\\20250425_python\\.venv\\Lib\\site-packages\\requests\\api.py:73\u001b[39m, in \u001b[36mget\u001b[39m\u001b[34m(url, params, **kwargs)\u001b[39m\n\u001b[32m     62\u001b[39m \u001b[38;5;28;01mdef\u001b[39;00m\u001b[38;5;250m \u001b[39m\u001b[34mget\u001b[39m(url, params=\u001b[38;5;28;01mNone\u001b[39;00m, **kwargs):\n\u001b[32m     63\u001b[39m \u001b[38;5;250m    \u001b[39m\u001b[33mr\u001b[39m\u001b[33;03m\"\"\"Sends a GET request.\u001b[39;00m\n\u001b[32m     64\u001b[39m \n\u001b[32m     65\u001b[39m \u001b[33;03m    :param url: URL for the new :class:`Request` object.\u001b[39;00m\n\u001b[32m   (...)\u001b[39m\u001b[32m     70\u001b[39m \u001b[33;03m    :rtype: requests.Response\u001b[39;00m\n\u001b[32m     71\u001b[39m \u001b[33;03m    \"\"\"\u001b[39;00m\n\u001b[32m---> \u001b[39m\u001b[32m73\u001b[39m     \u001b[38;5;28;01mreturn\u001b[39;00m \u001b[43mrequest\u001b[49m\u001b[43m(\u001b[49m\u001b[33;43m\"\u001b[39;49m\u001b[33;43mget\u001b[39;49m\u001b[33;43m\"\u001b[39;49m\u001b[43m,\u001b[49m\u001b[43m \u001b[49m\u001b[43murl\u001b[49m\u001b[43m,\u001b[49m\u001b[43m \u001b[49m\u001b[43mparams\u001b[49m\u001b[43m=\u001b[49m\u001b[43mparams\u001b[49m\u001b[43m,\u001b[49m\u001b[43m \u001b[49m\u001b[43m*\u001b[49m\u001b[43m*\u001b[49m\u001b[43mkwargs\u001b[49m\u001b[43m)\u001b[49m\n",
      "\u001b[36mFile \u001b[39m\u001b[32md:\\[Github]\\20250425_python\\.venv\\Lib\\site-packages\\requests\\api.py:59\u001b[39m, in \u001b[36mrequest\u001b[39m\u001b[34m(method, url, **kwargs)\u001b[39m\n\u001b[32m     55\u001b[39m \u001b[38;5;66;03m# By using the 'with' statement we are sure the session is closed, thus we\u001b[39;00m\n\u001b[32m     56\u001b[39m \u001b[38;5;66;03m# avoid leaving sockets open which can trigger a ResourceWarning in some\u001b[39;00m\n\u001b[32m     57\u001b[39m \u001b[38;5;66;03m# cases, and look like a memory leak in others.\u001b[39;00m\n\u001b[32m     58\u001b[39m \u001b[38;5;28;01mwith\u001b[39;00m sessions.Session() \u001b[38;5;28;01mas\u001b[39;00m session:\n\u001b[32m---> \u001b[39m\u001b[32m59\u001b[39m     \u001b[38;5;28;01mreturn\u001b[39;00m \u001b[43msession\u001b[49m\u001b[43m.\u001b[49m\u001b[43mrequest\u001b[49m\u001b[43m(\u001b[49m\u001b[43mmethod\u001b[49m\u001b[43m=\u001b[49m\u001b[43mmethod\u001b[49m\u001b[43m,\u001b[49m\u001b[43m \u001b[49m\u001b[43murl\u001b[49m\u001b[43m=\u001b[49m\u001b[43murl\u001b[49m\u001b[43m,\u001b[49m\u001b[43m \u001b[49m\u001b[43m*\u001b[49m\u001b[43m*\u001b[49m\u001b[43mkwargs\u001b[49m\u001b[43m)\u001b[49m\n",
      "\u001b[36mFile \u001b[39m\u001b[32md:\\[Github]\\20250425_python\\.venv\\Lib\\site-packages\\requests\\sessions.py:589\u001b[39m, in \u001b[36mSession.request\u001b[39m\u001b[34m(self, method, url, params, data, headers, cookies, files, auth, timeout, allow_redirects, proxies, hooks, stream, verify, cert, json)\u001b[39m\n\u001b[32m    584\u001b[39m send_kwargs = {\n\u001b[32m    585\u001b[39m     \u001b[33m\"\u001b[39m\u001b[33mtimeout\u001b[39m\u001b[33m\"\u001b[39m: timeout,\n\u001b[32m    586\u001b[39m     \u001b[33m\"\u001b[39m\u001b[33mallow_redirects\u001b[39m\u001b[33m\"\u001b[39m: allow_redirects,\n\u001b[32m    587\u001b[39m }\n\u001b[32m    588\u001b[39m send_kwargs.update(settings)\n\u001b[32m--> \u001b[39m\u001b[32m589\u001b[39m resp = \u001b[38;5;28;43mself\u001b[39;49m\u001b[43m.\u001b[49m\u001b[43msend\u001b[49m\u001b[43m(\u001b[49m\u001b[43mprep\u001b[49m\u001b[43m,\u001b[49m\u001b[43m \u001b[49m\u001b[43m*\u001b[49m\u001b[43m*\u001b[49m\u001b[43msend_kwargs\u001b[49m\u001b[43m)\u001b[49m\n\u001b[32m    591\u001b[39m \u001b[38;5;28;01mreturn\u001b[39;00m resp\n",
      "\u001b[36mFile \u001b[39m\u001b[32md:\\[Github]\\20250425_python\\.venv\\Lib\\site-packages\\requests\\sessions.py:703\u001b[39m, in \u001b[36mSession.send\u001b[39m\u001b[34m(self, request, **kwargs)\u001b[39m\n\u001b[32m    700\u001b[39m start = preferred_clock()\n\u001b[32m    702\u001b[39m \u001b[38;5;66;03m# Send the request\u001b[39;00m\n\u001b[32m--> \u001b[39m\u001b[32m703\u001b[39m r = \u001b[43madapter\u001b[49m\u001b[43m.\u001b[49m\u001b[43msend\u001b[49m\u001b[43m(\u001b[49m\u001b[43mrequest\u001b[49m\u001b[43m,\u001b[49m\u001b[43m \u001b[49m\u001b[43m*\u001b[49m\u001b[43m*\u001b[49m\u001b[43mkwargs\u001b[49m\u001b[43m)\u001b[49m\n\u001b[32m    705\u001b[39m \u001b[38;5;66;03m# Total elapsed time of the request (approximately)\u001b[39;00m\n\u001b[32m    706\u001b[39m elapsed = preferred_clock() - start\n",
      "\u001b[36mFile \u001b[39m\u001b[32md:\\[Github]\\20250425_python\\.venv\\Lib\\site-packages\\requests\\adapters.py:698\u001b[39m, in \u001b[36mHTTPAdapter.send\u001b[39m\u001b[34m(self, request, stream, timeout, verify, cert, proxies)\u001b[39m\n\u001b[32m    694\u001b[39m         \u001b[38;5;28;01mraise\u001b[39;00m ProxyError(e, request=request)\n\u001b[32m    696\u001b[39m     \u001b[38;5;28;01mif\u001b[39;00m \u001b[38;5;28misinstance\u001b[39m(e.reason, _SSLError):\n\u001b[32m    697\u001b[39m         \u001b[38;5;66;03m# This branch is for urllib3 v1.22 and later.\u001b[39;00m\n\u001b[32m--> \u001b[39m\u001b[32m698\u001b[39m         \u001b[38;5;28;01mraise\u001b[39;00m SSLError(e, request=request)\n\u001b[32m    700\u001b[39m     \u001b[38;5;28;01mraise\u001b[39;00m \u001b[38;5;167;01mConnectionError\u001b[39;00m(e, request=request)\n\u001b[32m    702\u001b[39m \u001b[38;5;28;01mexcept\u001b[39;00m ClosedPoolError \u001b[38;5;28;01mas\u001b[39;00m e:\n",
      "\u001b[31mSSLError\u001b[39m: HTTPSConnectionPool(host='data.moenv.gov.tw', port=443): Max retries exceeded with url: /api/v2/aqx_p_432?api_key=540e2ca4-41e1-4186-8497-fdd67024ac44&limit=1000&sort=ImportDate%20desc&format=CSV (Caused by SSLError(SSLCertVerificationError(1, '[SSL: CERTIFICATE_VERIFY_FAILED] certificate verify failed: Missing Subject Key Identifier (_ssl.c:1028)')))"
     ]
    }
   ],
   "source": [
    "#實作(結果：失敗。)\n",
    "\n",
    "import requests\n",
    "from requests import Response\n",
    "\n",
    "url = 'https://data.moenv.gov.tw/api/v2/aqx_p_432?api_key=540e2ca4-41e1-4186-8497-fdd67024ac44&limit=1000&sort=ImportDate desc&format=CSV'\n",
    "response:Response = requests.get(url)\n",
    "response.text"
   ]
  },
  {
   "cell_type": "markdown",
   "metadata": {},
   "source": [
    "## 出現SSLCertVerificationError該如何解決？"
   ]
  },
  {
   "cell_type": "markdown",
   "metadata": {},
   "source": [
    "當你在使用 Python 發送 HTTPS 請求時，遇到 `SSLCertVerificationError`（或類似的 `CERTIFICATE_VERIFY_FAILED`）錯誤，代表 Python 無法驗證伺服器的 SSL 憑證。這通常是因為本地缺少信任的根憑證或憑證鏈不完整。以下是幾種常見的解決方法：\n",
    "\n",
    "### 解決方法\n",
    "\n",
    "#### 1. 臨時關閉憑證驗證（不建議用於正式環境）\n",
    "\n",
    "在 `requests` 請求中加入 `verify=False`，跳過憑證驗證，但會有安全風險，僅適合測試或臨時使用：\n",
    "\n",
    "```python\n",
    "import requests\n",
    "\n",
    "response = requests.get('https://example.com', verify=False)\n",
    "print(response.text)\n",
    "```\n",
    "\n",
    "> **注意**：此方法會讓你的連線容易遭受中間人攻擊，請謹慎使用。\n",
    "\n",
    "#### 2. 使用 `certifi` 提供的憑證\n",
    "\n",
    "`certifi` 是一個 Python 套件，內含一組受信任的根憑證，可以用來替代系統憑證：\n",
    "\n",
    "```python\n",
    "import requests\n",
    "import certifi\n",
    "\n",
    "response = requests.get('https://example.com', verify=certifi.where())\n",
    "print(response.text)\n",
    "```\n",
    "\n",
    "如果你還沒安裝 `certifi`，可以用以下指令安裝：\n",
    "\n",
    "```\n",
    "pip install certifi\n",
    "```\n",
    "\n",
    "\n",
    "#### 3. 更新或安裝系統憑證\n",
    "\n",
    "- **macOS**\n",
    "Python 安裝目錄中通常有一個「Install Certificates.command」腳本，可以執行它來更新憑證：\n",
    "\n",
    "```\n",
    "/Applications/Python\\ 3.x/Install\\ Certificates.command\n",
    "```\n",
    "\n",
    "請將 `3.x` 替換成你安裝的 Python 版本。\n",
    "- **Linux**\n",
    "確認系統憑證包是最新，並且環境變數指向正確的憑證路徑，例如：\n",
    "\n",
    "```bash\n",
    "export SSL_CERT_FILE=/etc/ssl/certs/ca-bundle.crt\n",
    "```\n",
    "\n",
    "也可以透過系統套件管理器更新憑證，如 `apt-get update && apt-get install ca-certificates`。\n",
    "- **Windows**\n",
    "可以安裝 `python-certifi-win32` 套件，讓 Python 使用 Windows 的憑證存儲：\n",
    "\n",
    "```\n",
    "pip install python-certifi-win32\n",
    "```\n",
    "\n",
    "\n",
    "#### 4. 全局禁用憑證驗證（非常不建議）\n",
    "\n",
    "透過修改 Python 的 SSL 設定全局關閉憑證驗證，會嚴重降低安全性，通常不推薦。\n",
    "\n",
    "---\n",
    "\n",
    "### 總結\n",
    "\n",
    "`SSLCertVerificationError` 主要是因為本地缺少或無法找到正確的根憑證。建議優先使用 `certifi` 套件或更新系統憑證來解決，避免使用關閉驗證的方式，確保連線安全。若你是在開發或測試階段，可以暫時使用 `verify=False`，但正式環境務必修正憑證問題。"
   ]
  },
  {
   "cell_type": "markdown",
   "metadata": {},
   "source": [
    "---"
   ]
  },
  {
   "cell_type": "markdown",
   "metadata": {},
   "source": [
    "## 使用第2種方式（結果：失敗）\n",
    "\n",
    "#### 2. 使用 `certifi` 提供的憑證\n",
    "\n",
    "`certifi` 是一個 Python 套件，內含一組受信任的根憑證，可以用來替代系統憑證：\n",
    "\n",
    "```python\n",
    "import requests\n",
    "import certifi\n",
    "\n",
    "response = requests.get('https://example.com', verify=certifi.where())\n",
    "print(response.text)\n",
    "```\n",
    "\n",
    "如果你還沒安裝 `certifi`，可以用以下指令安裝：\n",
    "\n",
    "```\n",
    "pip install certifi\n",
    "```"
   ]
  },
  {
   "cell_type": "code",
   "execution_count": 14,
   "metadata": {},
   "outputs": [
    {
     "name": "stdout",
     "output_type": "stream",
     "text": [
      "Note: you may need to restart the kernel to use updated packages.\n"
     ]
    },
    {
     "name": "stderr",
     "output_type": "stream",
     "text": [
      "ERROR: Invalid requirement: '#安裝': Expected package name at the start of dependency specifier\n",
      "    #安裝\n",
      "    ^\n"
     ]
    }
   ],
   "source": [
    "pip install certifi #安裝 certifi"
   ]
  },
  {
   "cell_type": "code",
   "execution_count": 17,
   "metadata": {},
   "outputs": [
    {
     "name": "stdout",
     "output_type": "stream",
     "text": [
      "Requirement already satisfied: certifi in d:\\[github]\\20250425_python\\.venv\\lib\\site-packages (2025.4.26)\n",
      "Note: you may need to restart the kernel to use updated packages.\n"
     ]
    }
   ],
   "source": [
    "pip install --upgrade certifi"
   ]
  },
  {
   "cell_type": "code",
   "execution_count": 5,
   "metadata": {},
   "outputs": [],
   "source": [
    "import certifi\n",
    "import urllib3\n",
    "\n",
    "http = urllib3.PoolManager(cert_reqs='CERT_REQUIRED', ca_certs=certifi.where())"
   ]
  },
  {
   "cell_type": "code",
   "execution_count": 21,
   "metadata": {},
   "outputs": [
    {
     "name": "stdout",
     "output_type": "stream",
     "text": [
      "Name: certifi\n",
      "Version: 2025.4.26\n",
      "Summary: Python package for providing Mozilla's CA Bundle.\n",
      "Home-page: https://github.com/certifi/python-certifi\n",
      "Author: Kenneth Reitz\n",
      "Author-email: me@kennethreitz.com\n",
      "License: MPL-2.0\n",
      "Location: d:\\[Github]\\20250425_python\\.venv\\Lib\\site-packages\n",
      "Requires: \n",
      "Required-by: requests\n",
      "---\n",
      "Name: certifi\n",
      "Version: 2025.4.26\n",
      "Summary: Python package for providing Mozilla's CA Bundle.\n",
      "Home-page: https://github.com/certifi/python-certifi\n",
      "Author: Kenneth Reitz\n",
      "Author-email: me@kennethreitz.com\n",
      "License: MPL-2.0\n",
      "Location: d:\\[Github]\\20250425_python\\.venv\\Lib\\site-packages\n",
      "Requires: \n",
      "Required-by: requests\n",
      "Note: you may need to restart the kernel to use updated packages.\n"
     ]
    },
    {
     "name": "stderr",
     "output_type": "stream",
     "text": [
      "WARNING: Package(s) not found: #查詢, 是否有安裝\n"
     ]
    }
   ],
   "source": [
    "pip show certifi #查詢 certifi 是否有安裝"
   ]
  },
  {
   "cell_type": "code",
   "execution_count": null,
   "metadata": {},
   "outputs": [
    {
     "ename": "SSLError",
     "evalue": "HTTPSConnectionPool(host='data.moenv.gov.tw', port=443): Max retries exceeded with url: /api/v2/aqx_p_432?api_key=540e2ca4-41e1-4186-8497-fdd67024ac44&limit=1000&sort=ImportDate%20desc&format=CSV (Caused by SSLError(SSLCertVerificationError(1, '[SSL: CERTIFICATE_VERIFY_FAILED] certificate verify failed: Missing Subject Key Identifier (_ssl.c:1028)')))",
     "output_type": "error",
     "traceback": [
      "\u001b[31m---------------------------------------------------------------------------\u001b[39m",
      "\u001b[31mSSLCertVerificationError\u001b[39m                  Traceback (most recent call last)",
      "\u001b[36mFile \u001b[39m\u001b[32md:\\[Github]\\20250425_python\\.venv\\Lib\\site-packages\\urllib3\\connectionpool.py:464\u001b[39m, in \u001b[36mHTTPConnectionPool._make_request\u001b[39m\u001b[34m(self, conn, method, url, body, headers, retries, timeout, chunked, response_conn, preload_content, decode_content, enforce_content_length)\u001b[39m\n\u001b[32m    463\u001b[39m \u001b[38;5;28;01mtry\u001b[39;00m:\n\u001b[32m--> \u001b[39m\u001b[32m464\u001b[39m     \u001b[38;5;28;43mself\u001b[39;49m\u001b[43m.\u001b[49m\u001b[43m_validate_conn\u001b[49m\u001b[43m(\u001b[49m\u001b[43mconn\u001b[49m\u001b[43m)\u001b[49m\n\u001b[32m    465\u001b[39m \u001b[38;5;28;01mexcept\u001b[39;00m (SocketTimeout, BaseSSLError) \u001b[38;5;28;01mas\u001b[39;00m e:\n",
      "\u001b[36mFile \u001b[39m\u001b[32md:\\[Github]\\20250425_python\\.venv\\Lib\\site-packages\\urllib3\\connectionpool.py:1093\u001b[39m, in \u001b[36mHTTPSConnectionPool._validate_conn\u001b[39m\u001b[34m(self, conn)\u001b[39m\n\u001b[32m   1092\u001b[39m \u001b[38;5;28;01mif\u001b[39;00m conn.is_closed:\n\u001b[32m-> \u001b[39m\u001b[32m1093\u001b[39m     \u001b[43mconn\u001b[49m\u001b[43m.\u001b[49m\u001b[43mconnect\u001b[49m\u001b[43m(\u001b[49m\u001b[43m)\u001b[49m\n\u001b[32m   1095\u001b[39m \u001b[38;5;66;03m# TODO revise this, see https://github.com/urllib3/urllib3/issues/2791\u001b[39;00m\n",
      "\u001b[36mFile \u001b[39m\u001b[32md:\\[Github]\\20250425_python\\.venv\\Lib\\site-packages\\urllib3\\connection.py:741\u001b[39m, in \u001b[36mHTTPSConnection.connect\u001b[39m\u001b[34m(self)\u001b[39m\n\u001b[32m    739\u001b[39m server_hostname_rm_dot = server_hostname.rstrip(\u001b[33m\"\u001b[39m\u001b[33m.\u001b[39m\u001b[33m\"\u001b[39m)\n\u001b[32m--> \u001b[39m\u001b[32m741\u001b[39m sock_and_verified = \u001b[43m_ssl_wrap_socket_and_match_hostname\u001b[49m\u001b[43m(\u001b[49m\n\u001b[32m    742\u001b[39m \u001b[43m    \u001b[49m\u001b[43msock\u001b[49m\u001b[43m=\u001b[49m\u001b[43msock\u001b[49m\u001b[43m,\u001b[49m\n\u001b[32m    743\u001b[39m \u001b[43m    \u001b[49m\u001b[43mcert_reqs\u001b[49m\u001b[43m=\u001b[49m\u001b[38;5;28;43mself\u001b[39;49m\u001b[43m.\u001b[49m\u001b[43mcert_reqs\u001b[49m\u001b[43m,\u001b[49m\n\u001b[32m    744\u001b[39m \u001b[43m    \u001b[49m\u001b[43mssl_version\u001b[49m\u001b[43m=\u001b[49m\u001b[38;5;28;43mself\u001b[39;49m\u001b[43m.\u001b[49m\u001b[43mssl_version\u001b[49m\u001b[43m,\u001b[49m\n\u001b[32m    745\u001b[39m \u001b[43m    \u001b[49m\u001b[43mssl_minimum_version\u001b[49m\u001b[43m=\u001b[49m\u001b[38;5;28;43mself\u001b[39;49m\u001b[43m.\u001b[49m\u001b[43mssl_minimum_version\u001b[49m\u001b[43m,\u001b[49m\n\u001b[32m    746\u001b[39m \u001b[43m    \u001b[49m\u001b[43mssl_maximum_version\u001b[49m\u001b[43m=\u001b[49m\u001b[38;5;28;43mself\u001b[39;49m\u001b[43m.\u001b[49m\u001b[43mssl_maximum_version\u001b[49m\u001b[43m,\u001b[49m\n\u001b[32m    747\u001b[39m \u001b[43m    \u001b[49m\u001b[43mca_certs\u001b[49m\u001b[43m=\u001b[49m\u001b[38;5;28;43mself\u001b[39;49m\u001b[43m.\u001b[49m\u001b[43mca_certs\u001b[49m\u001b[43m,\u001b[49m\n\u001b[32m    748\u001b[39m \u001b[43m    \u001b[49m\u001b[43mca_cert_dir\u001b[49m\u001b[43m=\u001b[49m\u001b[38;5;28;43mself\u001b[39;49m\u001b[43m.\u001b[49m\u001b[43mca_cert_dir\u001b[49m\u001b[43m,\u001b[49m\n\u001b[32m    749\u001b[39m \u001b[43m    \u001b[49m\u001b[43mca_cert_data\u001b[49m\u001b[43m=\u001b[49m\u001b[38;5;28;43mself\u001b[39;49m\u001b[43m.\u001b[49m\u001b[43mca_cert_data\u001b[49m\u001b[43m,\u001b[49m\n\u001b[32m    750\u001b[39m \u001b[43m    \u001b[49m\u001b[43mcert_file\u001b[49m\u001b[43m=\u001b[49m\u001b[38;5;28;43mself\u001b[39;49m\u001b[43m.\u001b[49m\u001b[43mcert_file\u001b[49m\u001b[43m,\u001b[49m\n\u001b[32m    751\u001b[39m \u001b[43m    \u001b[49m\u001b[43mkey_file\u001b[49m\u001b[43m=\u001b[49m\u001b[38;5;28;43mself\u001b[39;49m\u001b[43m.\u001b[49m\u001b[43mkey_file\u001b[49m\u001b[43m,\u001b[49m\n\u001b[32m    752\u001b[39m \u001b[43m    \u001b[49m\u001b[43mkey_password\u001b[49m\u001b[43m=\u001b[49m\u001b[38;5;28;43mself\u001b[39;49m\u001b[43m.\u001b[49m\u001b[43mkey_password\u001b[49m\u001b[43m,\u001b[49m\n\u001b[32m    753\u001b[39m \u001b[43m    \u001b[49m\u001b[43mserver_hostname\u001b[49m\u001b[43m=\u001b[49m\u001b[43mserver_hostname_rm_dot\u001b[49m\u001b[43m,\u001b[49m\n\u001b[32m    754\u001b[39m \u001b[43m    \u001b[49m\u001b[43mssl_context\u001b[49m\u001b[43m=\u001b[49m\u001b[38;5;28;43mself\u001b[39;49m\u001b[43m.\u001b[49m\u001b[43mssl_context\u001b[49m\u001b[43m,\u001b[49m\n\u001b[32m    755\u001b[39m \u001b[43m    \u001b[49m\u001b[43mtls_in_tls\u001b[49m\u001b[43m=\u001b[49m\u001b[43mtls_in_tls\u001b[49m\u001b[43m,\u001b[49m\n\u001b[32m    756\u001b[39m \u001b[43m    \u001b[49m\u001b[43massert_hostname\u001b[49m\u001b[43m=\u001b[49m\u001b[38;5;28;43mself\u001b[39;49m\u001b[43m.\u001b[49m\u001b[43massert_hostname\u001b[49m\u001b[43m,\u001b[49m\n\u001b[32m    757\u001b[39m \u001b[43m    \u001b[49m\u001b[43massert_fingerprint\u001b[49m\u001b[43m=\u001b[49m\u001b[38;5;28;43mself\u001b[39;49m\u001b[43m.\u001b[49m\u001b[43massert_fingerprint\u001b[49m\u001b[43m,\u001b[49m\n\u001b[32m    758\u001b[39m \u001b[43m\u001b[49m\u001b[43m)\u001b[49m\n\u001b[32m    759\u001b[39m \u001b[38;5;28mself\u001b[39m.sock = sock_and_verified.socket\n",
      "\u001b[36mFile \u001b[39m\u001b[32md:\\[Github]\\20250425_python\\.venv\\Lib\\site-packages\\urllib3\\connection.py:920\u001b[39m, in \u001b[36m_ssl_wrap_socket_and_match_hostname\u001b[39m\u001b[34m(sock, cert_reqs, ssl_version, ssl_minimum_version, ssl_maximum_version, cert_file, key_file, key_password, ca_certs, ca_cert_dir, ca_cert_data, assert_hostname, assert_fingerprint, server_hostname, ssl_context, tls_in_tls)\u001b[39m\n\u001b[32m    918\u001b[39m         server_hostname = normalized\n\u001b[32m--> \u001b[39m\u001b[32m920\u001b[39m ssl_sock = \u001b[43mssl_wrap_socket\u001b[49m\u001b[43m(\u001b[49m\n\u001b[32m    921\u001b[39m \u001b[43m    \u001b[49m\u001b[43msock\u001b[49m\u001b[43m=\u001b[49m\u001b[43msock\u001b[49m\u001b[43m,\u001b[49m\n\u001b[32m    922\u001b[39m \u001b[43m    \u001b[49m\u001b[43mkeyfile\u001b[49m\u001b[43m=\u001b[49m\u001b[43mkey_file\u001b[49m\u001b[43m,\u001b[49m\n\u001b[32m    923\u001b[39m \u001b[43m    \u001b[49m\u001b[43mcertfile\u001b[49m\u001b[43m=\u001b[49m\u001b[43mcert_file\u001b[49m\u001b[43m,\u001b[49m\n\u001b[32m    924\u001b[39m \u001b[43m    \u001b[49m\u001b[43mkey_password\u001b[49m\u001b[43m=\u001b[49m\u001b[43mkey_password\u001b[49m\u001b[43m,\u001b[49m\n\u001b[32m    925\u001b[39m \u001b[43m    \u001b[49m\u001b[43mca_certs\u001b[49m\u001b[43m=\u001b[49m\u001b[43mca_certs\u001b[49m\u001b[43m,\u001b[49m\n\u001b[32m    926\u001b[39m \u001b[43m    \u001b[49m\u001b[43mca_cert_dir\u001b[49m\u001b[43m=\u001b[49m\u001b[43mca_cert_dir\u001b[49m\u001b[43m,\u001b[49m\n\u001b[32m    927\u001b[39m \u001b[43m    \u001b[49m\u001b[43mca_cert_data\u001b[49m\u001b[43m=\u001b[49m\u001b[43mca_cert_data\u001b[49m\u001b[43m,\u001b[49m\n\u001b[32m    928\u001b[39m \u001b[43m    \u001b[49m\u001b[43mserver_hostname\u001b[49m\u001b[43m=\u001b[49m\u001b[43mserver_hostname\u001b[49m\u001b[43m,\u001b[49m\n\u001b[32m    929\u001b[39m \u001b[43m    \u001b[49m\u001b[43mssl_context\u001b[49m\u001b[43m=\u001b[49m\u001b[43mcontext\u001b[49m\u001b[43m,\u001b[49m\n\u001b[32m    930\u001b[39m \u001b[43m    \u001b[49m\u001b[43mtls_in_tls\u001b[49m\u001b[43m=\u001b[49m\u001b[43mtls_in_tls\u001b[49m\u001b[43m,\u001b[49m\n\u001b[32m    931\u001b[39m \u001b[43m\u001b[49m\u001b[43m)\u001b[49m\n\u001b[32m    933\u001b[39m \u001b[38;5;28;01mtry\u001b[39;00m:\n",
      "\u001b[36mFile \u001b[39m\u001b[32md:\\[Github]\\20250425_python\\.venv\\Lib\\site-packages\\urllib3\\util\\ssl_.py:480\u001b[39m, in \u001b[36mssl_wrap_socket\u001b[39m\u001b[34m(sock, keyfile, certfile, cert_reqs, ca_certs, server_hostname, ssl_version, ciphers, ssl_context, ca_cert_dir, key_password, ca_cert_data, tls_in_tls)\u001b[39m\n\u001b[32m    478\u001b[39m context.set_alpn_protocols(ALPN_PROTOCOLS)\n\u001b[32m--> \u001b[39m\u001b[32m480\u001b[39m ssl_sock = \u001b[43m_ssl_wrap_socket_impl\u001b[49m\u001b[43m(\u001b[49m\u001b[43msock\u001b[49m\u001b[43m,\u001b[49m\u001b[43m \u001b[49m\u001b[43mcontext\u001b[49m\u001b[43m,\u001b[49m\u001b[43m \u001b[49m\u001b[43mtls_in_tls\u001b[49m\u001b[43m,\u001b[49m\u001b[43m \u001b[49m\u001b[43mserver_hostname\u001b[49m\u001b[43m)\u001b[49m\n\u001b[32m    481\u001b[39m \u001b[38;5;28;01mreturn\u001b[39;00m ssl_sock\n",
      "\u001b[36mFile \u001b[39m\u001b[32md:\\[Github]\\20250425_python\\.venv\\Lib\\site-packages\\urllib3\\util\\ssl_.py:524\u001b[39m, in \u001b[36m_ssl_wrap_socket_impl\u001b[39m\u001b[34m(sock, ssl_context, tls_in_tls, server_hostname)\u001b[39m\n\u001b[32m    522\u001b[39m     \u001b[38;5;28;01mreturn\u001b[39;00m SSLTransport(sock, ssl_context, server_hostname)\n\u001b[32m--> \u001b[39m\u001b[32m524\u001b[39m \u001b[38;5;28;01mreturn\u001b[39;00m \u001b[43mssl_context\u001b[49m\u001b[43m.\u001b[49m\u001b[43mwrap_socket\u001b[49m\u001b[43m(\u001b[49m\u001b[43msock\u001b[49m\u001b[43m,\u001b[49m\u001b[43m \u001b[49m\u001b[43mserver_hostname\u001b[49m\u001b[43m=\u001b[49m\u001b[43mserver_hostname\u001b[49m\u001b[43m)\u001b[49m\n",
      "\u001b[36mFile \u001b[39m\u001b[32m~\\AppData\\Local\\Programs\\Python\\Python313\\Lib\\ssl.py:455\u001b[39m, in \u001b[36mSSLContext.wrap_socket\u001b[39m\u001b[34m(self, sock, server_side, do_handshake_on_connect, suppress_ragged_eofs, server_hostname, session)\u001b[39m\n\u001b[32m    449\u001b[39m \u001b[38;5;28;01mdef\u001b[39;00m\u001b[38;5;250m \u001b[39m\u001b[34mwrap_socket\u001b[39m(\u001b[38;5;28mself\u001b[39m, sock, server_side=\u001b[38;5;28;01mFalse\u001b[39;00m,\n\u001b[32m    450\u001b[39m                 do_handshake_on_connect=\u001b[38;5;28;01mTrue\u001b[39;00m,\n\u001b[32m    451\u001b[39m                 suppress_ragged_eofs=\u001b[38;5;28;01mTrue\u001b[39;00m,\n\u001b[32m    452\u001b[39m                 server_hostname=\u001b[38;5;28;01mNone\u001b[39;00m, session=\u001b[38;5;28;01mNone\u001b[39;00m):\n\u001b[32m    453\u001b[39m     \u001b[38;5;66;03m# SSLSocket class handles server_hostname encoding before it calls\u001b[39;00m\n\u001b[32m    454\u001b[39m     \u001b[38;5;66;03m# ctx._wrap_socket()\u001b[39;00m\n\u001b[32m--> \u001b[39m\u001b[32m455\u001b[39m     \u001b[38;5;28;01mreturn\u001b[39;00m \u001b[38;5;28;43mself\u001b[39;49m\u001b[43m.\u001b[49m\u001b[43msslsocket_class\u001b[49m\u001b[43m.\u001b[49m\u001b[43m_create\u001b[49m\u001b[43m(\u001b[49m\n\u001b[32m    456\u001b[39m \u001b[43m        \u001b[49m\u001b[43msock\u001b[49m\u001b[43m=\u001b[49m\u001b[43msock\u001b[49m\u001b[43m,\u001b[49m\n\u001b[32m    457\u001b[39m \u001b[43m        \u001b[49m\u001b[43mserver_side\u001b[49m\u001b[43m=\u001b[49m\u001b[43mserver_side\u001b[49m\u001b[43m,\u001b[49m\n\u001b[32m    458\u001b[39m \u001b[43m        \u001b[49m\u001b[43mdo_handshake_on_connect\u001b[49m\u001b[43m=\u001b[49m\u001b[43mdo_handshake_on_connect\u001b[49m\u001b[43m,\u001b[49m\n\u001b[32m    459\u001b[39m \u001b[43m        \u001b[49m\u001b[43msuppress_ragged_eofs\u001b[49m\u001b[43m=\u001b[49m\u001b[43msuppress_ragged_eofs\u001b[49m\u001b[43m,\u001b[49m\n\u001b[32m    460\u001b[39m \u001b[43m        \u001b[49m\u001b[43mserver_hostname\u001b[49m\u001b[43m=\u001b[49m\u001b[43mserver_hostname\u001b[49m\u001b[43m,\u001b[49m\n\u001b[32m    461\u001b[39m \u001b[43m        \u001b[49m\u001b[43mcontext\u001b[49m\u001b[43m=\u001b[49m\u001b[38;5;28;43mself\u001b[39;49m\u001b[43m,\u001b[49m\n\u001b[32m    462\u001b[39m \u001b[43m        \u001b[49m\u001b[43msession\u001b[49m\u001b[43m=\u001b[49m\u001b[43msession\u001b[49m\n\u001b[32m    463\u001b[39m \u001b[43m    \u001b[49m\u001b[43m)\u001b[49m\n",
      "\u001b[36mFile \u001b[39m\u001b[32m~\\AppData\\Local\\Programs\\Python\\Python313\\Lib\\ssl.py:1076\u001b[39m, in \u001b[36mSSLSocket._create\u001b[39m\u001b[34m(cls, sock, server_side, do_handshake_on_connect, suppress_ragged_eofs, server_hostname, context, session)\u001b[39m\n\u001b[32m   1075\u001b[39m                 \u001b[38;5;28;01mraise\u001b[39;00m \u001b[38;5;167;01mValueError\u001b[39;00m(\u001b[33m\"\u001b[39m\u001b[33mdo_handshake_on_connect should not be specified for non-blocking sockets\u001b[39m\u001b[33m\"\u001b[39m)\n\u001b[32m-> \u001b[39m\u001b[32m1076\u001b[39m             \u001b[38;5;28;43mself\u001b[39;49m\u001b[43m.\u001b[49m\u001b[43mdo_handshake\u001b[49m\u001b[43m(\u001b[49m\u001b[43m)\u001b[49m\n\u001b[32m   1077\u001b[39m \u001b[38;5;28;01mexcept\u001b[39;00m:\n",
      "\u001b[36mFile \u001b[39m\u001b[32m~\\AppData\\Local\\Programs\\Python\\Python313\\Lib\\ssl.py:1372\u001b[39m, in \u001b[36mSSLSocket.do_handshake\u001b[39m\u001b[34m(self, block)\u001b[39m\n\u001b[32m   1371\u001b[39m         \u001b[38;5;28mself\u001b[39m.settimeout(\u001b[38;5;28;01mNone\u001b[39;00m)\n\u001b[32m-> \u001b[39m\u001b[32m1372\u001b[39m     \u001b[38;5;28;43mself\u001b[39;49m\u001b[43m.\u001b[49m\u001b[43m_sslobj\u001b[49m\u001b[43m.\u001b[49m\u001b[43mdo_handshake\u001b[49m\u001b[43m(\u001b[49m\u001b[43m)\u001b[49m\n\u001b[32m   1373\u001b[39m \u001b[38;5;28;01mfinally\u001b[39;00m:\n",
      "\u001b[31mSSLCertVerificationError\u001b[39m: [SSL: CERTIFICATE_VERIFY_FAILED] certificate verify failed: Missing Subject Key Identifier (_ssl.c:1028)",
      "\nDuring handling of the above exception, another exception occurred:\n",
      "\u001b[31mSSLError\u001b[39m                                  Traceback (most recent call last)",
      "\u001b[36mFile \u001b[39m\u001b[32md:\\[Github]\\20250425_python\\.venv\\Lib\\site-packages\\urllib3\\connectionpool.py:787\u001b[39m, in \u001b[36mHTTPConnectionPool.urlopen\u001b[39m\u001b[34m(self, method, url, body, headers, retries, redirect, assert_same_host, timeout, pool_timeout, release_conn, chunked, body_pos, preload_content, decode_content, **response_kw)\u001b[39m\n\u001b[32m    786\u001b[39m \u001b[38;5;66;03m# Make the request on the HTTPConnection object\u001b[39;00m\n\u001b[32m--> \u001b[39m\u001b[32m787\u001b[39m response = \u001b[38;5;28;43mself\u001b[39;49m\u001b[43m.\u001b[49m\u001b[43m_make_request\u001b[49m\u001b[43m(\u001b[49m\n\u001b[32m    788\u001b[39m \u001b[43m    \u001b[49m\u001b[43mconn\u001b[49m\u001b[43m,\u001b[49m\n\u001b[32m    789\u001b[39m \u001b[43m    \u001b[49m\u001b[43mmethod\u001b[49m\u001b[43m,\u001b[49m\n\u001b[32m    790\u001b[39m \u001b[43m    \u001b[49m\u001b[43murl\u001b[49m\u001b[43m,\u001b[49m\n\u001b[32m    791\u001b[39m \u001b[43m    \u001b[49m\u001b[43mtimeout\u001b[49m\u001b[43m=\u001b[49m\u001b[43mtimeout_obj\u001b[49m\u001b[43m,\u001b[49m\n\u001b[32m    792\u001b[39m \u001b[43m    \u001b[49m\u001b[43mbody\u001b[49m\u001b[43m=\u001b[49m\u001b[43mbody\u001b[49m\u001b[43m,\u001b[49m\n\u001b[32m    793\u001b[39m \u001b[43m    \u001b[49m\u001b[43mheaders\u001b[49m\u001b[43m=\u001b[49m\u001b[43mheaders\u001b[49m\u001b[43m,\u001b[49m\n\u001b[32m    794\u001b[39m \u001b[43m    \u001b[49m\u001b[43mchunked\u001b[49m\u001b[43m=\u001b[49m\u001b[43mchunked\u001b[49m\u001b[43m,\u001b[49m\n\u001b[32m    795\u001b[39m \u001b[43m    \u001b[49m\u001b[43mretries\u001b[49m\u001b[43m=\u001b[49m\u001b[43mretries\u001b[49m\u001b[43m,\u001b[49m\n\u001b[32m    796\u001b[39m \u001b[43m    \u001b[49m\u001b[43mresponse_conn\u001b[49m\u001b[43m=\u001b[49m\u001b[43mresponse_conn\u001b[49m\u001b[43m,\u001b[49m\n\u001b[32m    797\u001b[39m \u001b[43m    \u001b[49m\u001b[43mpreload_content\u001b[49m\u001b[43m=\u001b[49m\u001b[43mpreload_content\u001b[49m\u001b[43m,\u001b[49m\n\u001b[32m    798\u001b[39m \u001b[43m    \u001b[49m\u001b[43mdecode_content\u001b[49m\u001b[43m=\u001b[49m\u001b[43mdecode_content\u001b[49m\u001b[43m,\u001b[49m\n\u001b[32m    799\u001b[39m \u001b[43m    \u001b[49m\u001b[43m*\u001b[49m\u001b[43m*\u001b[49m\u001b[43mresponse_kw\u001b[49m\u001b[43m,\u001b[49m\n\u001b[32m    800\u001b[39m \u001b[43m\u001b[49m\u001b[43m)\u001b[49m\n\u001b[32m    802\u001b[39m \u001b[38;5;66;03m# Everything went great!\u001b[39;00m\n",
      "\u001b[36mFile \u001b[39m\u001b[32md:\\[Github]\\20250425_python\\.venv\\Lib\\site-packages\\urllib3\\connectionpool.py:488\u001b[39m, in \u001b[36mHTTPConnectionPool._make_request\u001b[39m\u001b[34m(self, conn, method, url, body, headers, retries, timeout, chunked, response_conn, preload_content, decode_content, enforce_content_length)\u001b[39m\n\u001b[32m    487\u001b[39m         new_e = _wrap_proxy_error(new_e, conn.proxy.scheme)\n\u001b[32m--> \u001b[39m\u001b[32m488\u001b[39m     \u001b[38;5;28;01mraise\u001b[39;00m new_e\n\u001b[32m    490\u001b[39m \u001b[38;5;66;03m# conn.request() calls http.client.*.request, not the method in\u001b[39;00m\n\u001b[32m    491\u001b[39m \u001b[38;5;66;03m# urllib3.request. It also calls makefile (recv) on the socket.\u001b[39;00m\n",
      "\u001b[31mSSLError\u001b[39m: [SSL: CERTIFICATE_VERIFY_FAILED] certificate verify failed: Missing Subject Key Identifier (_ssl.c:1028)",
      "\nThe above exception was the direct cause of the following exception:\n",
      "\u001b[31mMaxRetryError\u001b[39m                             Traceback (most recent call last)",
      "\u001b[36mFile \u001b[39m\u001b[32md:\\[Github]\\20250425_python\\.venv\\Lib\\site-packages\\requests\\adapters.py:667\u001b[39m, in \u001b[36mHTTPAdapter.send\u001b[39m\u001b[34m(self, request, stream, timeout, verify, cert, proxies)\u001b[39m\n\u001b[32m    666\u001b[39m \u001b[38;5;28;01mtry\u001b[39;00m:\n\u001b[32m--> \u001b[39m\u001b[32m667\u001b[39m     resp = \u001b[43mconn\u001b[49m\u001b[43m.\u001b[49m\u001b[43murlopen\u001b[49m\u001b[43m(\u001b[49m\n\u001b[32m    668\u001b[39m \u001b[43m        \u001b[49m\u001b[43mmethod\u001b[49m\u001b[43m=\u001b[49m\u001b[43mrequest\u001b[49m\u001b[43m.\u001b[49m\u001b[43mmethod\u001b[49m\u001b[43m,\u001b[49m\n\u001b[32m    669\u001b[39m \u001b[43m        \u001b[49m\u001b[43murl\u001b[49m\u001b[43m=\u001b[49m\u001b[43murl\u001b[49m\u001b[43m,\u001b[49m\n\u001b[32m    670\u001b[39m \u001b[43m        \u001b[49m\u001b[43mbody\u001b[49m\u001b[43m=\u001b[49m\u001b[43mrequest\u001b[49m\u001b[43m.\u001b[49m\u001b[43mbody\u001b[49m\u001b[43m,\u001b[49m\n\u001b[32m    671\u001b[39m \u001b[43m        \u001b[49m\u001b[43mheaders\u001b[49m\u001b[43m=\u001b[49m\u001b[43mrequest\u001b[49m\u001b[43m.\u001b[49m\u001b[43mheaders\u001b[49m\u001b[43m,\u001b[49m\n\u001b[32m    672\u001b[39m \u001b[43m        \u001b[49m\u001b[43mredirect\u001b[49m\u001b[43m=\u001b[49m\u001b[38;5;28;43;01mFalse\u001b[39;49;00m\u001b[43m,\u001b[49m\n\u001b[32m    673\u001b[39m \u001b[43m        \u001b[49m\u001b[43massert_same_host\u001b[49m\u001b[43m=\u001b[49m\u001b[38;5;28;43;01mFalse\u001b[39;49;00m\u001b[43m,\u001b[49m\n\u001b[32m    674\u001b[39m \u001b[43m        \u001b[49m\u001b[43mpreload_content\u001b[49m\u001b[43m=\u001b[49m\u001b[38;5;28;43;01mFalse\u001b[39;49;00m\u001b[43m,\u001b[49m\n\u001b[32m    675\u001b[39m \u001b[43m        \u001b[49m\u001b[43mdecode_content\u001b[49m\u001b[43m=\u001b[49m\u001b[38;5;28;43;01mFalse\u001b[39;49;00m\u001b[43m,\u001b[49m\n\u001b[32m    676\u001b[39m \u001b[43m        \u001b[49m\u001b[43mretries\u001b[49m\u001b[43m=\u001b[49m\u001b[38;5;28;43mself\u001b[39;49m\u001b[43m.\u001b[49m\u001b[43mmax_retries\u001b[49m\u001b[43m,\u001b[49m\n\u001b[32m    677\u001b[39m \u001b[43m        \u001b[49m\u001b[43mtimeout\u001b[49m\u001b[43m=\u001b[49m\u001b[43mtimeout\u001b[49m\u001b[43m,\u001b[49m\n\u001b[32m    678\u001b[39m \u001b[43m        \u001b[49m\u001b[43mchunked\u001b[49m\u001b[43m=\u001b[49m\u001b[43mchunked\u001b[49m\u001b[43m,\u001b[49m\n\u001b[32m    679\u001b[39m \u001b[43m    \u001b[49m\u001b[43m)\u001b[49m\n\u001b[32m    681\u001b[39m \u001b[38;5;28;01mexcept\u001b[39;00m (ProtocolError, \u001b[38;5;167;01mOSError\u001b[39;00m) \u001b[38;5;28;01mas\u001b[39;00m err:\n",
      "\u001b[36mFile \u001b[39m\u001b[32md:\\[Github]\\20250425_python\\.venv\\Lib\\site-packages\\urllib3\\connectionpool.py:841\u001b[39m, in \u001b[36mHTTPConnectionPool.urlopen\u001b[39m\u001b[34m(self, method, url, body, headers, retries, redirect, assert_same_host, timeout, pool_timeout, release_conn, chunked, body_pos, preload_content, decode_content, **response_kw)\u001b[39m\n\u001b[32m    839\u001b[39m     new_e = ProtocolError(\u001b[33m\"\u001b[39m\u001b[33mConnection aborted.\u001b[39m\u001b[33m\"\u001b[39m, new_e)\n\u001b[32m--> \u001b[39m\u001b[32m841\u001b[39m retries = \u001b[43mretries\u001b[49m\u001b[43m.\u001b[49m\u001b[43mincrement\u001b[49m\u001b[43m(\u001b[49m\n\u001b[32m    842\u001b[39m \u001b[43m    \u001b[49m\u001b[43mmethod\u001b[49m\u001b[43m,\u001b[49m\u001b[43m \u001b[49m\u001b[43murl\u001b[49m\u001b[43m,\u001b[49m\u001b[43m \u001b[49m\u001b[43merror\u001b[49m\u001b[43m=\u001b[49m\u001b[43mnew_e\u001b[49m\u001b[43m,\u001b[49m\u001b[43m \u001b[49m\u001b[43m_pool\u001b[49m\u001b[43m=\u001b[49m\u001b[38;5;28;43mself\u001b[39;49m\u001b[43m,\u001b[49m\u001b[43m \u001b[49m\u001b[43m_stacktrace\u001b[49m\u001b[43m=\u001b[49m\u001b[43msys\u001b[49m\u001b[43m.\u001b[49m\u001b[43mexc_info\u001b[49m\u001b[43m(\u001b[49m\u001b[43m)\u001b[49m\u001b[43m[\u001b[49m\u001b[32;43m2\u001b[39;49m\u001b[43m]\u001b[49m\n\u001b[32m    843\u001b[39m \u001b[43m\u001b[49m\u001b[43m)\u001b[49m\n\u001b[32m    844\u001b[39m retries.sleep()\n",
      "\u001b[36mFile \u001b[39m\u001b[32md:\\[Github]\\20250425_python\\.venv\\Lib\\site-packages\\urllib3\\util\\retry.py:519\u001b[39m, in \u001b[36mRetry.increment\u001b[39m\u001b[34m(self, method, url, response, error, _pool, _stacktrace)\u001b[39m\n\u001b[32m    518\u001b[39m     reason = error \u001b[38;5;129;01mor\u001b[39;00m ResponseError(cause)\n\u001b[32m--> \u001b[39m\u001b[32m519\u001b[39m     \u001b[38;5;28;01mraise\u001b[39;00m MaxRetryError(_pool, url, reason) \u001b[38;5;28;01mfrom\u001b[39;00m\u001b[38;5;250m \u001b[39m\u001b[34;01mreason\u001b[39;00m  \u001b[38;5;66;03m# type: ignore[arg-type]\u001b[39;00m\n\u001b[32m    521\u001b[39m log.debug(\u001b[33m\"\u001b[39m\u001b[33mIncremented Retry for (url=\u001b[39m\u001b[33m'\u001b[39m\u001b[38;5;132;01m%s\u001b[39;00m\u001b[33m'\u001b[39m\u001b[33m): \u001b[39m\u001b[38;5;132;01m%r\u001b[39;00m\u001b[33m\"\u001b[39m, url, new_retry)\n",
      "\u001b[31mMaxRetryError\u001b[39m: HTTPSConnectionPool(host='data.moenv.gov.tw', port=443): Max retries exceeded with url: /api/v2/aqx_p_432?api_key=540e2ca4-41e1-4186-8497-fdd67024ac44&limit=1000&sort=ImportDate%20desc&format=CSV (Caused by SSLError(SSLCertVerificationError(1, '[SSL: CERTIFICATE_VERIFY_FAILED] certificate verify failed: Missing Subject Key Identifier (_ssl.c:1028)')))",
      "\nDuring handling of the above exception, another exception occurred:\n",
      "\u001b[31mSSLError\u001b[39m                                  Traceback (most recent call last)",
      "\u001b[36mCell\u001b[39m\u001b[36m \u001b[39m\u001b[32mIn[1]\u001b[39m\u001b[32m, line 4\u001b[39m\n\u001b[32m      1\u001b[39m \u001b[38;5;28;01mimport\u001b[39;00m\u001b[38;5;250m \u001b[39m\u001b[34;01mrequests\u001b[39;00m\n\u001b[32m      2\u001b[39m \u001b[38;5;28;01mimport\u001b[39;00m\u001b[38;5;250m \u001b[39m\u001b[34;01mcertifi\u001b[39;00m\n\u001b[32m----> \u001b[39m\u001b[32m4\u001b[39m response = \u001b[43mrequests\u001b[49m\u001b[43m.\u001b[49m\u001b[43mget\u001b[49m\u001b[43m(\u001b[49m\u001b[33;43m'\u001b[39;49m\u001b[33;43mhttps://data.moenv.gov.tw/api/v2/aqx_p_432?api_key=540e2ca4-41e1-4186-8497-fdd67024ac44&limit=1000&sort=ImportDate desc&format=CSV\u001b[39;49m\u001b[33;43m'\u001b[39;49m\u001b[43m,\u001b[49m\u001b[43m \u001b[49m\u001b[43mverify\u001b[49m\u001b[43m=\u001b[49m\u001b[43mcertifi\u001b[49m\u001b[43m.\u001b[49m\u001b[43mwhere\u001b[49m\u001b[43m(\u001b[49m\u001b[43m)\u001b[49m\u001b[43m)\u001b[49m\n\u001b[32m      5\u001b[39m \u001b[38;5;28mprint\u001b[39m(response.text)\n",
      "\u001b[36mFile \u001b[39m\u001b[32md:\\[Github]\\20250425_python\\.venv\\Lib\\site-packages\\requests\\api.py:73\u001b[39m, in \u001b[36mget\u001b[39m\u001b[34m(url, params, **kwargs)\u001b[39m\n\u001b[32m     62\u001b[39m \u001b[38;5;28;01mdef\u001b[39;00m\u001b[38;5;250m \u001b[39m\u001b[34mget\u001b[39m(url, params=\u001b[38;5;28;01mNone\u001b[39;00m, **kwargs):\n\u001b[32m     63\u001b[39m \u001b[38;5;250m    \u001b[39m\u001b[33mr\u001b[39m\u001b[33;03m\"\"\"Sends a GET request.\u001b[39;00m\n\u001b[32m     64\u001b[39m \n\u001b[32m     65\u001b[39m \u001b[33;03m    :param url: URL for the new :class:`Request` object.\u001b[39;00m\n\u001b[32m   (...)\u001b[39m\u001b[32m     70\u001b[39m \u001b[33;03m    :rtype: requests.Response\u001b[39;00m\n\u001b[32m     71\u001b[39m \u001b[33;03m    \"\"\"\u001b[39;00m\n\u001b[32m---> \u001b[39m\u001b[32m73\u001b[39m     \u001b[38;5;28;01mreturn\u001b[39;00m \u001b[43mrequest\u001b[49m\u001b[43m(\u001b[49m\u001b[33;43m\"\u001b[39;49m\u001b[33;43mget\u001b[39;49m\u001b[33;43m\"\u001b[39;49m\u001b[43m,\u001b[49m\u001b[43m \u001b[49m\u001b[43murl\u001b[49m\u001b[43m,\u001b[49m\u001b[43m \u001b[49m\u001b[43mparams\u001b[49m\u001b[43m=\u001b[49m\u001b[43mparams\u001b[49m\u001b[43m,\u001b[49m\u001b[43m \u001b[49m\u001b[43m*\u001b[49m\u001b[43m*\u001b[49m\u001b[43mkwargs\u001b[49m\u001b[43m)\u001b[49m\n",
      "\u001b[36mFile \u001b[39m\u001b[32md:\\[Github]\\20250425_python\\.venv\\Lib\\site-packages\\requests\\api.py:59\u001b[39m, in \u001b[36mrequest\u001b[39m\u001b[34m(method, url, **kwargs)\u001b[39m\n\u001b[32m     55\u001b[39m \u001b[38;5;66;03m# By using the 'with' statement we are sure the session is closed, thus we\u001b[39;00m\n\u001b[32m     56\u001b[39m \u001b[38;5;66;03m# avoid leaving sockets open which can trigger a ResourceWarning in some\u001b[39;00m\n\u001b[32m     57\u001b[39m \u001b[38;5;66;03m# cases, and look like a memory leak in others.\u001b[39;00m\n\u001b[32m     58\u001b[39m \u001b[38;5;28;01mwith\u001b[39;00m sessions.Session() \u001b[38;5;28;01mas\u001b[39;00m session:\n\u001b[32m---> \u001b[39m\u001b[32m59\u001b[39m     \u001b[38;5;28;01mreturn\u001b[39;00m \u001b[43msession\u001b[49m\u001b[43m.\u001b[49m\u001b[43mrequest\u001b[49m\u001b[43m(\u001b[49m\u001b[43mmethod\u001b[49m\u001b[43m=\u001b[49m\u001b[43mmethod\u001b[49m\u001b[43m,\u001b[49m\u001b[43m \u001b[49m\u001b[43murl\u001b[49m\u001b[43m=\u001b[49m\u001b[43murl\u001b[49m\u001b[43m,\u001b[49m\u001b[43m \u001b[49m\u001b[43m*\u001b[49m\u001b[43m*\u001b[49m\u001b[43mkwargs\u001b[49m\u001b[43m)\u001b[49m\n",
      "\u001b[36mFile \u001b[39m\u001b[32md:\\[Github]\\20250425_python\\.venv\\Lib\\site-packages\\requests\\sessions.py:589\u001b[39m, in \u001b[36mSession.request\u001b[39m\u001b[34m(self, method, url, params, data, headers, cookies, files, auth, timeout, allow_redirects, proxies, hooks, stream, verify, cert, json)\u001b[39m\n\u001b[32m    584\u001b[39m send_kwargs = {\n\u001b[32m    585\u001b[39m     \u001b[33m\"\u001b[39m\u001b[33mtimeout\u001b[39m\u001b[33m\"\u001b[39m: timeout,\n\u001b[32m    586\u001b[39m     \u001b[33m\"\u001b[39m\u001b[33mallow_redirects\u001b[39m\u001b[33m\"\u001b[39m: allow_redirects,\n\u001b[32m    587\u001b[39m }\n\u001b[32m    588\u001b[39m send_kwargs.update(settings)\n\u001b[32m--> \u001b[39m\u001b[32m589\u001b[39m resp = \u001b[38;5;28;43mself\u001b[39;49m\u001b[43m.\u001b[49m\u001b[43msend\u001b[49m\u001b[43m(\u001b[49m\u001b[43mprep\u001b[49m\u001b[43m,\u001b[49m\u001b[43m \u001b[49m\u001b[43m*\u001b[49m\u001b[43m*\u001b[49m\u001b[43msend_kwargs\u001b[49m\u001b[43m)\u001b[49m\n\u001b[32m    591\u001b[39m \u001b[38;5;28;01mreturn\u001b[39;00m resp\n",
      "\u001b[36mFile \u001b[39m\u001b[32md:\\[Github]\\20250425_python\\.venv\\Lib\\site-packages\\requests\\sessions.py:703\u001b[39m, in \u001b[36mSession.send\u001b[39m\u001b[34m(self, request, **kwargs)\u001b[39m\n\u001b[32m    700\u001b[39m start = preferred_clock()\n\u001b[32m    702\u001b[39m \u001b[38;5;66;03m# Send the request\u001b[39;00m\n\u001b[32m--> \u001b[39m\u001b[32m703\u001b[39m r = \u001b[43madapter\u001b[49m\u001b[43m.\u001b[49m\u001b[43msend\u001b[49m\u001b[43m(\u001b[49m\u001b[43mrequest\u001b[49m\u001b[43m,\u001b[49m\u001b[43m \u001b[49m\u001b[43m*\u001b[49m\u001b[43m*\u001b[49m\u001b[43mkwargs\u001b[49m\u001b[43m)\u001b[49m\n\u001b[32m    705\u001b[39m \u001b[38;5;66;03m# Total elapsed time of the request (approximately)\u001b[39;00m\n\u001b[32m    706\u001b[39m elapsed = preferred_clock() - start\n",
      "\u001b[36mFile \u001b[39m\u001b[32md:\\[Github]\\20250425_python\\.venv\\Lib\\site-packages\\requests\\adapters.py:698\u001b[39m, in \u001b[36mHTTPAdapter.send\u001b[39m\u001b[34m(self, request, stream, timeout, verify, cert, proxies)\u001b[39m\n\u001b[32m    694\u001b[39m         \u001b[38;5;28;01mraise\u001b[39;00m ProxyError(e, request=request)\n\u001b[32m    696\u001b[39m     \u001b[38;5;28;01mif\u001b[39;00m \u001b[38;5;28misinstance\u001b[39m(e.reason, _SSLError):\n\u001b[32m    697\u001b[39m         \u001b[38;5;66;03m# This branch is for urllib3 v1.22 and later.\u001b[39;00m\n\u001b[32m--> \u001b[39m\u001b[32m698\u001b[39m         \u001b[38;5;28;01mraise\u001b[39;00m SSLError(e, request=request)\n\u001b[32m    700\u001b[39m     \u001b[38;5;28;01mraise\u001b[39;00m \u001b[38;5;167;01mConnectionError\u001b[39;00m(e, request=request)\n\u001b[32m    702\u001b[39m \u001b[38;5;28;01mexcept\u001b[39;00m ClosedPoolError \u001b[38;5;28;01mas\u001b[39;00m e:\n",
      "\u001b[31mSSLError\u001b[39m: HTTPSConnectionPool(host='data.moenv.gov.tw', port=443): Max retries exceeded with url: /api/v2/aqx_p_432?api_key=540e2ca4-41e1-4186-8497-fdd67024ac44&limit=1000&sort=ImportDate%20desc&format=CSV (Caused by SSLError(SSLCertVerificationError(1, '[SSL: CERTIFICATE_VERIFY_FAILED] certificate verify failed: Missing Subject Key Identifier (_ssl.c:1028)')))"
     ]
    }
   ],
   "source": [
    "#使用第2種方式嘗試解決(結果：失敗)\n",
    "\n",
    "import requests\n",
    "import certifi\n",
    "\n",
    "response = requests.get('https://data.moenv.gov.tw/api/v2/aqx_p_432?api_key=540e2ca4-41e1-4186-8497-fdd67024ac44&limit=1000&sort=ImportDate desc&format=CSV', verify=certifi.where())\n",
    "print(response.text)"
   ]
  },
  {
   "cell_type": "markdown",
   "metadata": {},
   "source": [
    "## 使用第1種方式（結果：成功解決）\n",
    "\n",
    "#### 1. 臨時關閉憑證驗證（不建議用於正式環境）\n",
    "\n",
    "在 `requests` 請求中加入 `verify=False`，跳過憑證驗證，但會有安全風險，僅適合測試或臨時使用：\n",
    "\n",
    "```python\n",
    "import requests\n",
    "\n",
    "response = requests.get('https://example.com', verify=False)\n",
    "print(response.text)\n",
    "```\n",
    "\n",
    "> **注意**：此方法會讓你的連線容易遭受中間人攻擊，請謹慎使用。\n"
   ]
  },
  {
   "cell_type": "code",
   "execution_count": 1,
   "metadata": {},
   "outputs": [
    {
     "ename": "ModuleNotFoundError",
     "evalue": "No module named 'requests'",
     "output_type": "error",
     "traceback": [
      "\u001b[31m---------------------------------------------------------------------------\u001b[39m",
      "\u001b[31mModuleNotFoundError\u001b[39m                       Traceback (most recent call last)",
      "\u001b[36mCell\u001b[39m\u001b[36m \u001b[39m\u001b[32mIn[1]\u001b[39m\u001b[32m, line 3\u001b[39m\n\u001b[32m      1\u001b[39m \u001b[38;5;66;03m#使用第1種方式嘗試解決(結果：成功)\u001b[39;00m\n\u001b[32m----> \u001b[39m\u001b[32m3\u001b[39m \u001b[38;5;28;01mimport\u001b[39;00m\u001b[38;5;250m \u001b[39m\u001b[34;01mrequests\u001b[39;00m\n\u001b[32m      4\u001b[39m \u001b[38;5;28;01mfrom\u001b[39;00m\u001b[38;5;250m \u001b[39m\u001b[34;01mrequests\u001b[39;00m\u001b[38;5;250m \u001b[39m\u001b[38;5;28;01mimport\u001b[39;00m Response\n\u001b[32m      6\u001b[39m url = \u001b[33m'\u001b[39m\u001b[33mhttps://data.moenv.gov.tw/api/v2/aqx_p_432?api_key=540e2ca4-41e1-4186-8497-fdd67024ac44&limit=1000&sort=ImportDate desc&format=CSV\u001b[39m\u001b[33m'\u001b[39m\n",
      "\u001b[31mModuleNotFoundError\u001b[39m: No module named 'requests'"
     ]
    }
   ],
   "source": [
    "#使用第1種方式嘗試解決(結果：成功)\n",
    "\n",
    "import requests\n",
    "from requests import Response\n",
    "\n",
    "url = 'https://data.moenv.gov.tw/api/v2/aqx_p_432?api_key=540e2ca4-41e1-4186-8497-fdd67024ac44&limit=1000&sort=ImportDate desc&format=CSV'\n",
    "response:Response = requests.get(url,verify=False)\n",
    "response.text"
   ]
  },
  {
   "cell_type": "markdown",
   "metadata": {},
   "source": [
    "---\n",
    "---"
   ]
  },
  {
   "cell_type": "markdown",
   "metadata": {},
   "source": [
    "## 移除 venv 虛擬環境，安裝 Miniconda 虛擬環境\n",
    "\n",
    "### 步驟 1~8 的指令皆須於 終端機 操作\n",
    "\n",
    "PS. 移除 venv 虛擬環境，僅須刪除 .venv 資料夾即可。"
   ]
  },
  {
   "cell_type": "markdown",
   "metadata": {},
   "source": [
    "1. 取消termail一開始就進入base虛擬環境"
   ]
  },
  {
   "cell_type": "code",
   "execution_count": null,
   "metadata": {},
   "outputs": [],
   "source": [
    "conda config --set auto_activate_base false"
   ]
  },
  {
   "cell_type": "markdown",
   "metadata": {},
   "source": [
    "2. conda init (初始化)"
   ]
  },
  {
   "cell_type": "code",
   "execution_count": null,
   "metadata": {},
   "outputs": [],
   "source": [
    "conda init --all bash"
   ]
  },
  {
   "cell_type": "markdown",
   "metadata": {},
   "source": [
    "3. 檢查目前已建立的虛擬環境"
   ]
  },
  {
   "cell_type": "code",
   "execution_count": null,
   "metadata": {},
   "outputs": [],
   "source": [
    "conda env list"
   ]
  },
  {
   "cell_type": "markdown",
   "metadata": {},
   "source": [
    "4. 建立虛擬環境"
   ]
  },
  {
   "cell_type": "code",
   "execution_count": null,
   "metadata": {},
   "outputs": [],
   "source": [
    "conda create --name flask python=3.11\n",
    "\n",
    "# flask 為虛擬環境名字，可自定義。\n",
    "# python 的版本可自己選擇。不一定要與電腦的 python 相同版本。"
   ]
  },
  {
   "cell_type": "markdown",
   "metadata": {},
   "source": [
    "5. 啟動虛擬環境"
   ]
  },
  {
   "cell_type": "code",
   "execution_count": null,
   "metadata": {},
   "outputs": [],
   "source": [
    "conda activate flask # flask 為虛擬環境名字，可自定義。"
   ]
  },
  {
   "cell_type": "markdown",
   "metadata": {},
   "source": [
    "6. 查詢 requests 是否有安裝"
   ]
  },
  {
   "cell_type": "code",
   "execution_count": null,
   "metadata": {},
   "outputs": [
    {
     "name": "stdout",
     "output_type": "stream",
     "text": [
      "Note: you may need to restart the kernel to use updated packages.\n"
     ]
    },
    {
     "name": "stderr",
     "output_type": "stream",
     "text": [
      "WARNING: Package(s) not found: #查詢, requests, requests, 是否有安裝\n"
     ]
    }
   ],
   "source": [
    "pip show requests #查詢 requests 是否有安裝，須在終端機操作（安裝前情況如下顯示：）"
   ]
  },
  {
   "cell_type": "markdown",
   "metadata": {},
   "source": [
    "7. 安裝 requests"
   ]
  },
  {
   "cell_type": "code",
   "execution_count": 6,
   "metadata": {},
   "outputs": [
    {
     "name": "stdout",
     "output_type": "stream",
     "text": [
      "Note: you may need to restart the kernel to use updated packages.\n"
     ]
    },
    {
     "name": "stderr",
     "output_type": "stream",
     "text": [
      "ERROR: Invalid requirement: '#安裝': Expected package name at the start of dependency specifier\n",
      "    #安裝\n",
      "    ^\n"
     ]
    }
   ],
   "source": [
    "pip install requests #安裝 requests，須在終端機操作"
   ]
  },
  {
   "cell_type": "markdown",
   "metadata": {},
   "source": [
    "8. 查詢 requests 是否有安裝"
   ]
  },
  {
   "cell_type": "code",
   "execution_count": null,
   "metadata": {},
   "outputs": [
    {
     "name": "stdout",
     "output_type": "stream",
     "text": [
      "Name: requests\n",
      "Version: 2.32.3\n",
      "Summary: Python HTTP for Humans.\n",
      "Home-page: https://requests.readthedocs.io\n",
      "Author: Kenneth Reitz\n",
      "Author-email: me@kennethreitz.org\n",
      "License: Apache-2.0\n",
      "Location: c:\\Users\\user\\miniconda3\\envs\\flask\\Lib\\site-packages\n",
      "Requires: certifi, charset-normalizer, idna, urllib3\n",
      "Required-by: \n",
      "---\n",
      "Name: requests\n",
      "Version: 2.32.3\n",
      "Summary: Python HTTP for Humans.\n",
      "Home-page: https://requests.readthedocs.io\n",
      "Author: Kenneth Reitz\n",
      "Author-email: me@kennethreitz.org\n",
      "License: Apache-2.0\n",
      "Location: c:\\Users\\user\\miniconda3\\envs\\flask\\Lib\\site-packages\n",
      "Requires: certifi, charset-normalizer, idna, urllib3\n",
      "Required-by: \n",
      "Note: you may need to restart the kernel to use updated packages.\n"
     ]
    },
    {
     "name": "stderr",
     "output_type": "stream",
     "text": [
      "WARNING: Package(s) not found: #查詢, 是否有安裝，須在終端機操作\n"
     ]
    }
   ],
   "source": [
    "pip show requests #查詢 requests 是否有安裝，須在終端機操作（安裝後情況如下顯示：）"
   ]
  },
  {
   "cell_type": "markdown",
   "metadata": {},
   "source": [
    "9. 重新執行程式\n",
    "\n",
    "- VSCODE 右上角須選擇 Miniconda 的虛擬環境（此處設置虛擬環境的名字為：flask）\n",
    "- 終端機 須進入 flask 虛擬環境\n",
    "- 完成以上2點後，才可執行下面程式 (直接點程式碼左方的 執行儲存格)"
   ]
  },
  {
   "cell_type": "code",
   "execution_count": 2,
   "metadata": {},
   "outputs": [
    {
     "data": {
      "text/plain": [
       "'sitename,county,aqi,pollutant,status,so2,co,o3,o3_8hr,pm10,pm2.5,no2,nox,no,wind_speed,wind_direc,publishtime,co_8hr,pm2.5_avg,pm10_avg,so2_avg,longitude,latitude,siteid\\n基隆,基隆市,39,,良好,1.4,0.31,23,42,19,4,11,12.6,1,0.6,291,\"2025/05/13 22:00:00\",0.2,5.7,10,1,121.760056,25.129167,1\\n汐止,新北市,42,,良好,0.6,0.28,17,40,15,11,17,18.2,1,0.4,6,\"2025/05/13 22:00:00\",0.2,10.3,15,1,121.64081,25.06624,2\\n新店,新北市,48,,良好,0.6,0.28,35,52,11,7,10,10.9,0.6,2.3,181,\"2025/05/13 22:00:00\",0.3,10.8,20,0,121.537778,24.977222,4\\n土城,新北市,72,細懸浮微粒,普通,1.6,0.57,19,47,31,22,26,26.8,0.3,0.5,157,\"2025/05/13 22:00:00\",0.4,20.2,30,1,121.451861,24.982528,5\\n板橋,新北市,67,二氧化氮,普通,2,0.91,8,50,40,23,47,48.7,1.6,0.3,237,\"2025/05/13 22:00:00\",0.5,14.4,27,1,121.458667,25.012972,6\\n新莊,新北市,58,二氧化氮,普通,0.5,0.78,11,45,26,17,33,35.5,1.6,0.4,272,\"2025/05/13 22:00:00\",0.3,14.7,22,0,121.4325,25.037972,7\\n菜寮,新北市,54,細懸浮微粒,普通,0,0.59,23,48,19,12,26,27.3,1,1.3,162,\"2025/05/13 22:00:00\",0.4,13.7,21,0,121.481028,25.06895,8\\n林口,新北市,58,細懸浮微粒,普通,1.5,0.48,29,55,17,13,29,33.5,3.6,1.6,131,\"2025/05/13 22:00:00\",0.2,14.9,20,1,121.36548982,25.07798949,9\\n淡水,新北市,53,細懸浮微粒,普通,1,0.42,27,46,21,11,16,17.1,0.8,,,\"2025/05/13 22:00:00\",0.3,13.1,21,1,121.449239,25.1645,10\\n士林,臺北市,46,,良好,1.3,0.3,33,50,12,6,10,11.8,0.9,1.1,144,\"2025/05/13 22:00:00\",0.2,8.1,17,1,121.51666356,25.10334003,11\\n中山,臺北市,54,二氧化氮,普通,0.6,0.51,21,40,9,7,26,29.2,2.5,1.2,91,\"2025/05/13 22:00:00\",0.5,10.9,17,0,121.526528,25.062361,12\\n萬華,臺北市,52,二氧化氮,普通,0.5,0.47,24,42,19,8,23,24.8,1.3,0.2,91,\"2025/05/13 22:00:00\",0.5,10.2,20,0,121.507972,25.046503,13\\n古亭,臺北市,44,,良好,0.4,0.3,34,,11,6,12,13.5,1,1.2,131,\"2025/05/13 22:00:00\",0.3,10.8,18,0,121.529556,25.020608,14\\n松山,臺北市,40,,良好,1.1,0.33,30,43,9,3,17,19.6,1.9,1,52,\"2025/05/13 22:00:00\",0.3,9.3,11,1,121.578611,25.05,15\\n大同,臺北市,68,細懸浮微粒,普通,1.3,0.89,11,33,31,19,34,58.1,23.4,-,-,\"2025/05/13 22:00:00\",0.8,18.8,26,1,121.51342074,25.06331455,16\\n桃園,桃園市,68,細懸浮微粒,普通,3.3,0.96,7,57,43,22,46,49.2,2.5,0.7,67,\"2025/05/13 22:00:00\",0.4,18.7,29,2,121.30500531,24.9947107,17\\n大園,桃園市,67,臭氧八小時,普通,3.4,0.43,20,60,35,16,34,35,0.6,0.9,168,\"2025/05/13 22:00:00\",0.3,14.9,27,2,121.20251473,25.06100357,18\\n觀音,桃園市,101,臭氧八小時,對敏感族群不健康,2.2,0.44,34,71,54,39,22,23.9,0.9,0.4,154,\"2025/05/13 22:00:00\",0.3,25.9,33,2,121.08283092,25.03556747,19\\n平鎮,桃園市,81,細懸浮微粒,普通,2.2,0.77,24,63,52,33,40,40.5,0.4,0.2,198,\"2025/05/13 22:00:00\",0.4,23.6,38,1,121.203986,24.952786,20\\n龍潭,桃園市,84,細懸浮微粒,普通,0.9,0.56,23,53,43,25,34,35.4,0.7,0.3,186,\"2025/05/13 22:00:00\",0.4,24.5,37,1,121.21645772,24.86400048,21\\n湖口,新竹縣,100,臭氧八小時,普通,1.1,0.47,28,70,38,25,26,27.2,0.5,1.1,101,\"2025/05/13 22:00:00\",0.3,23.5,34,1,121.03886894,24.90009696,22\\n竹東,新竹縣,84,臭氧八小時,普通,1.1,0.31,37,65,29,14,8,9.3,1,1.9,121,\"2025/05/13 22:00:00\",0.3,17.3,28,1,121.08895493,24.74091408,23\\n新竹,新竹市,100,臭氧八小時,普通,1.2,0.7,27,70,26,24,35,36,0.8,0.3,254,\"2025/05/13 22:00:00\",0.4,19.9,28,1,120.97236752,24.8056356,24\\n頭份,苗栗縣,118,臭氧八小時,對敏感族群不健康,1.4,0.31,39,76,31,15,8,8.7,0.2,2.1,122,\"2025/05/13 22:00:00\",0.3,19.1,33,2,120.89869286,24.69690679,25\\n苗栗,苗栗縣,104,臭氧八小時,對敏感族群不健康,1.2,0.3,41,72,24,16,9,10.3,0.8,1.9,184,\"2025/05/13 22:00:00\",0.2,19.5,29,1,120.82011468,24.56499183,26\\n三義,苗栗縣,61,臭氧八小時,普通,0.5,0.22,37,58,25,10,3,4.9,1.1,0.9,7,\"2025/05/13 22:00:00\",0.2,14,24,0,120.75956754,24.38248443,27\\n豐原,臺中市,64,臭氧八小時,普通,1.7,0.26,38,59,21,13,8,9.2,0.8,1,105,\"2025/05/13 22:00:00\",0.2,15.2,24,1,120.74252414,24.25699731,28\\n沙鹿,臺中市,73,細懸浮微粒,普通,1.2,0.35,43,59,31,19,19,19.6,0.4,0.5,82,\"2025/05/13 22:00:00\",0.2,20.5,35,1,120.568794,24.225628,29\\n大里,臺中市,66,細懸浮微粒,普通,2.2,0.62,17,52,36,23,26,27.6,1,0.6,113,\"2025/05/13 22:00:00\",0.4,18,27,2,120.67844444,24.09961111,30\\n忠明,臺中市,56,細懸浮微粒,普通,1.8,0.44,36,51,19,12,18,19,1,1.2,197,\"2025/05/13 22:00:00\",0.3,14.3,23,2,120.641092,24.151958,31\\n西屯,臺中市,62,細懸浮微粒,普通,1.7,0.4,29,52,29,16,29,29.9,0.9,1,312,\"2025/05/13 22:00:00\",0.3,16.7,31,2,120.616917,24.162197,32\\n彰化,彰化縣,62,細懸浮微粒,普通,0.8,0.51,23,51,29,19,17,18.7,0.9,0.4,184,\"2025/05/13 22:00:00\",0.3,16.7,26,2,120.541519,24.066,33\\n線西,彰化縣,101,臭氧八小時,對敏感族群不健康,1.1,0.26,51,71,31,21,10,11.5,0.8,0.6,125,\"2025/05/13 22:00:00\",0.2,18.4,33,1,120.469061,24.131672,34\\n二林,彰化縣,93,臭氧八小時,普通,2.5,0.24,41,68,53,23,4,4.5,0.1,0.4,95,\"2025/05/13 22:00:00\",0.2,27.2,44,2,120.409653,23.925175,35\\n南投,南投縣,74,臭氧八小時,普通,4.1,0.39,25,62,35,21,16,17.1,0.6,1.4,161,\"2025/05/13 22:00:00\",0.3,18.5,31,1,120.685306,23.913,36\\n斗六,雲林縣,90,臭氧八小時,普通,1.6,0.28,45,67,43,23,9,10.5,0.8,1.1,116,\"2025/05/13 22:00:00\",0.2,18.9,35,1,120.544994,23.711853,37\\n崙背,雲林縣,84,臭氧八小時,普通,1.3,0.25,50,65,46,26,5,6,0.6,0.4,42,\"2025/05/13 22:00:00\",0.2,20.9,42,1,120.348742,23.757547,38\\n新港,嘉義縣,84,臭氧八小時,普通,1.7,0.24,53,65,39,23,7,7.4,0.4,0.5,80,\"2025/05/13 22:00:00\",0.2,17,34,1,120.345531,23.554839,39\\n朴子,嘉義縣,84,臭氧八小時,普通,0.7,0.16,53,65,37,13,4,5.2,1.1,0.5,65,\"2025/05/13 22:00:00\",0.1,17.3,29,0,120.2478,23.46538,40\\n臺西,雲林縣,71,臭氧八小時,普通,1.3,0.24,48,61,43,16,5,5.9,0.6,1.1,59,\"2025/05/13 22:00:00\",0.2,15.5,36,2,120.19933333,23.702175,41\\n嘉義,嘉義市,87,臭氧八小時,普通,2.1,0.31,53,66,35,19,10,10.2,0.2,1.5,71,\"2025/05/13 22:00:00\",0.3,16.5,30,2,120.44125148,23.46477865,42\\n新營,臺南市,71,臭氧八小時,普通,0.3,0.28,51,61,38,17,9,9.2,0,1.8,37,\"2025/05/13 22:00:00\",0.2,12.8,33,0,120.31725,23.305633,43\\n善化,臺南市,71,臭氧八小時,普通,1.7,0.27,46,61,42,16,8,9.7,1.2,1.6,10,\"2025/05/13 22:00:00\",0.2,15.2,32,1,120.29740529,23.11337642,44\\n安南,臺南市,61,細懸浮微粒,普通,0.8,0.3,48,,36,22,9,9.4,0.4,1.5,345,\"2025/05/13 22:00:00\",0.2,16.2,33,0,120.2175,23.048197,45\\n臺南,臺南市,87,臭氧八小時,普通,1.6,0.31,49,66,46,19,12,13,0.2,1.8,14,\"2025/05/13 22:00:00\",0.2,14.2,34,1,120.21947897,22.98928311,46\\n美濃,高雄市,101,臭氧八小時,對敏感族群不健康,0.3,0.22,41,71,26,11,5,5.6,0.6,0.9,40,\"2025/05/13 22:00:00\",0.2,11.7,25,0,120.530542,22.883583,47\\n橋頭,高雄市,67,臭氧八小時,普通,1.1,0.31,49,60,42,20,11,12.1,0.6,1.5,19,\"2025/05/13 22:00:00\",0.2,15.9,31,1,120.305689,22.757506,48\\n仁武,高雄市,58,臭氧八小時,普通,1,0.33,47,57,39,19,12,13.8,0.9,1.8,332,\"2025/05/13 22:00:00\",0.2,13.8,26,1,120.332631,22.689056,49\\n鳳山,高雄市,67,臭氧八小時,普通,1.4,0.36,50,60,35,21,10,10.6,0.4,0.3,113,\"2025/05/13 22:00:00\",0.5,16.2,29,1,120.357422,22.628126,50\\n大寮,高雄市,62,細懸浮微粒,普通,1.3,0.32,44,50,39,14,11,12.4,0.5,1.2,280,\"2025/05/13 22:00:00\",0.6,16.5,38,3,120.425311,22.56413611,51\\n林園,高雄市,97,臭氧八小時,普通,1.1,0.22,59,69,35,15,4,4.8,0.6,1.1,13,\"2025/05/13 22:00:00\",0.2,14.2,29,1,120.41175,22.4795,52\\n楠梓,高雄市,64,臭氧八小時,普通,1.8,0.28,49,59,45,17,11,11.8,0.4,0.7,321,\"2025/05/13 22:00:00\",0.2,15,32,1,120.328289,22.733667,53\\n左營,高雄市,87,臭氧八小時,普通,0.6,0.34,47,66,36,18,13,13.9,0.6,1.8,32,\"2025/05/13 22:00:00\",0.2,12.2,28,0,120.292917,22.674861,54\\n前金,高雄市,67,臭氧八小時,普通,0.4,0.36,47,60,43,16,10,11.8,1,2.1,342,\"2025/05/13 22:00:00\",0.2,11.3,33,0,120.28676111,22.63390278,56\\n前鎮,高雄市,71,臭氧八小時,普通,2.2,0.43,47,61,37,17,14,15.3,0.9,2.1,5,\"2025/05/13 22:00:00\",0.3,12.5,26,2,120.30833356,22.6044507,57\\n小港,高雄市,67,臭氧八小時,普通,1.4,0.35,47,60,27,12,12,12.9,0.8,1.3,43,\"2025/05/13 22:00:00\",0.2,14.5,22,1,120.337736,22.565833,58\\n屏東,屏東縣,97,臭氧八小時,普通,0.8,0.27,52,69,34,17,7,8.3,0.6,0.8,337,\"2025/05/13 22:00:00\",0.3,13.8,31,0,120.488033,22.673081,59\\n潮州,屏東縣,87,臭氧八小時,普通,1.1,0.21,52,66,30,16,7,7.4,0.4,0.8,115,\"2025/05/13 22:00:00\",0.2,13.5,28,1,120.561175,22.523108,60\\n恆春,屏東縣,54,臭氧八小時,普通,1.2,0.12,47,56,8,0,0,1.5,0.7,4,40,\"2025/05/13 22:00:00\",0.1,1.2,7,1,120.788928,21.958069,61\\n臺東,臺東縣,47,,良好,0.8,0.15,47,51,5,2,3,3.3,0,1.9,70,\"2025/05/13 22:00:00\",0.2,3.1,8,0,121.15045,22.755358,62\\n花蓮,花蓮縣,45,,良好,0.5,0.3,32,49,14,6,6,6.9,0.1,1,209,\"2025/05/13 22:00:00\",0.2,4.5,11,0,121.599769,23.971306,63\\n陽明,臺北市,48,,良好,0.9,0.21,49,52,15,9,2,2.7,0.5,,,\"2025/05/13 22:00:00\",0.2,8.9,15,1,121.529583,25.182722,64\\n宜蘭,宜蘭縣,45,,良好,0.3,0.2,36,49,7,5,3,3.7,0.6,0.8,317,\"2025/05/13 22:00:00\",0.2,6,9,0,121.746394,24.747917,65\\n冬山,宜蘭縣,41,,良好,0.7,0.17,35,44,11,4,2,2.5,0.3,0.2,209,\"2025/05/13 22:00:00\",0.2,5.4,14,0,121.792928,24.632203,66\\n三重,新北市,63,二氧化氮,普通,1,0.92,7,25,17,12,41,82.5,40.7,-,-,\"2025/05/13 22:00:00\",0.8,14,21,1,121.493806,25.072611,67\\n中壢,桃園市,92,細懸浮微粒,普通,2.5,1.52,14,41,47,35,49,66.2,16.8,0.3,197,\"2025/05/13 22:00:00\",1,27.5,39,2,121.221667,24.953278,68\\n竹山,南投縣,64,臭氧八小時,普通,0.8,0.21,34,59,35,17,7,7.7,0.3,0.6,162,\"2025/05/13 22:00:00\",0.2,14.9,34,0,120.677306,23.756389,69\\n永和,新北市,61,細懸浮微粒,普通,0.1,0.47,30,37,13,9,14,16.4,2.1,1.1,99,\"2025/05/13 22:00:00\",0.7,16,23,0,121.516306,25.017,70\\n復興,高雄市,67,臭氧八小時,普通,1.1,0.51,44,60,30,17,15,17.6,1.9,0.5,245,\"2025/05/13 22:00:00\",0.3,11.8,22,1,120.312017,22.608711,71\\n埔里,南投縣,67,臭氧八小時,普通,1.5,0.38,30,60,30,17,9,10.8,0.9,0.4,316,\"2025/05/13 22:00:00\",0.2,16.1,26,1,120.967903,23.968842,72\\n馬祖,連江縣,108,臭氧八小時,對敏感族群不健康,0.6,0.19,59,73,34,14,4,4.9,0.3,1.7,326,\"2025/05/13 22:00:00\",0.2,18.2,34,1,119.952724,26.153736,75\\n金門,金門縣,136,臭氧八小時,對敏感族群不健康,1.4,0.32,71,81,34,18,7,7.9,0.4,0.5,24,\"2025/05/13 22:00:00\",0.3,18.6,33,1,118.312256,24.432133,77\\n馬公,澎湖縣,108,臭氧八小時,對敏感族群不健康,0.5,0.25,73,73,23,12,3,4.2,0.7,1.2,81,\"2025/05/13 22:00:00\",0.2,15,29,0,119.566158,23.569031,78\\n關山,臺東縣,41,,良好,0.2,0.17,36,44,7,7,3,4,0.8,0.6,269,\"2025/05/13 22:00:00\",0.1,4.8,8,0,121.161933,23.045083,80\\n麥寮,雲林縣,84,臭氧八小時,普通,1.4,0.25,51,65,42,22,3,4.9,1.4,0.3,54,\"2025/05/13 22:00:00\",0.2,19.1,40,2,120.251825,23.753506,83\\n富貴角,新北市,51,臭氧八小時,普通,0.9,0.17,41,55,30,15,2,3,0,1.7,148,\"2025/05/13 22:00:00\",0.1,9,20,1,121.53656894,25.29681695,84\\n大城,彰化縣,115,臭氧八小時,對敏感族群不健康,1,0.21,61,75,41,19,3,3.7,0,0.2,101,\"2025/05/13 22:00:00\",0.1,18.3,34,1,120.26964167,23.85493056,85\\n員林,彰化縣,84,臭氧八小時,普通,2.1,0.45,36,65,40,21,17,17.6,0.6,1.2,171,\"2025/05/13 22:00:00\",0.2,17.2,32,2,120.5631893,23.9615945,139\\n宜蘭（三星）,宜蘭縣,41,,良好,0.9,0.17,26,44,7,8,1,2,0.7,0.6,293,\"2025/05/13 22:00:00\",0.1,5.9,14,0,121.6565272,24.6757916,201\\n高雄（湖內）,高雄市,55,細懸浮微粒,普通,1.8,0.3,35,52,50,17,13,13.9,0.5,0.4,12,\"2025/05/13 22:00:00\",0.2,14,33,1,120.24535,22.87985556,202\\n南投（鹿谷）,南投縣,93,臭氧八小時,普通,1.7,0.19,58,68,24,13,3,4.2,0.9,0.2,45,\"2025/05/13 22:00:00\",0.2,15.3,30,1,120.7944772,23.71867609,203\\n屏東（琉球）,屏東縣,122,臭氧八小時,對敏感族群不健康,0.7,0.2,67,77,23,11,2,3.4,0.9,1.4,318,\"2025/05/13 22:00:00\",0.2,15.9,23,0,120.37722,22.35222,204\\n台中市（和平區消防隊）,臺中市,84,臭氧八小時,普通,0.2,0.3,28,65,24,13,5,6.5,0.6,0.2,299,\"2025/05/13 22:00:00\",0.3,13.3,23,0,120.883858,24.174592,310\\n新北(樹林),新北市,77,臭氧八小時,普通,1,0.43,42,63,33,19,18,19.4,1.3,0,94,\"2025/05/13 22:00:00\",0.3,13.9,30,1,121.38352778,24.94902778,311\\n臺南（南化）,臺南市,67,臭氧八小時,普通,0,0.2,32,60,26,10,3,3.6,0.2,5.6,184,\"2025/05/13 22:00:00\",0.2,8.4,23,0,120.44583156,23.04562013,312\\n屏東(枋山),屏東縣,101,臭氧八小時,對敏感族群不健康,0.2,0.11,53,71,6,2,3,2.9,0,2.3,94,\"2025/05/13 22:00:00\",0.1,6.5,15,0,120.651472,22.260899,313\\n'"
      ]
     },
     "execution_count": 2,
     "metadata": {},
     "output_type": "execute_result"
    }
   ],
   "source": [
    "#重新執行程式（結果：成功）\n",
    "\n",
    "import requests\n",
    "from requests import Response\n",
    "\n",
    "url = 'https://data.moenv.gov.tw/api/v2/aqx_p_432?api_key=540e2ca4-41e1-4186-8497-fdd67024ac44&limit=1000&sort=ImportDate desc&format=CSV'\n",
    "response:Response = requests.get(url)\n",
    "response.text"
   ]
  },
  {
   "cell_type": "markdown",
   "metadata": {},
   "source": [
    "---"
   ]
  },
  {
   "cell_type": "code",
   "execution_count": 9,
   "metadata": {},
   "outputs": [
    {
     "name": "stdout",
     "output_type": "stream",
     "text": [
      "<class 'list'>\n"
     ]
    }
   ],
   "source": [
    "import requests\n",
    "from requests import Response\n",
    "import csv\n",
    "from io import StringIO\n",
    "\n",
    "url = 'https://data.moenv.gov.tw/api/v2/aqx_p_432?api_key=540e2ca4-41e1-4186-8497-fdd67024ac44&limit=1000&sort=ImportDate desc&format=CSV'\n",
    "response:Response = requests.get(url)\n",
    "file = StringIO(response.text) #class初始化\n",
    "csv_reader = csv.DictReader(file) #class初始化\n",
    "aqi:list = list(csv_reader) #class初始化\n",
    "print(list)"
   ]
  },
  {
   "cell_type": "code",
   "execution_count": 10,
   "metadata": {},
   "outputs": [
    {
     "name": "stdout",
     "output_type": "stream",
     "text": [
      "{'sitename': '基隆', 'county': '基隆市', 'aqi': '35', 'pollutant': '', 'status': '良好', 'so2': '1.3', 'co': '0.31', 'o3': '21', 'o3_8hr': '38', 'pm10': '12', 'pm2.5': '3', 'no2': '11', 'nox': '12', 'no': '0.9', 'wind_speed': '0.3', 'wind_direc': '58', 'publishtime': '2025/05/13 23:00:00', 'co_8hr': '0.2', 'pm2.5_avg': '5.4', 'pm10_avg': '10', 'so2_avg': '1', 'longitude': '121.760056', 'latitude': '25.129167', 'siteid': '1'}\n",
      "{'sitename': '汐止', 'county': '新北市', 'aqi': '48', 'pollutant': '', 'status': '良好', 'so2': '0.7', 'co': '0.28', 'o3': '15', 'o3_8hr': '34', 'pm10': '12', 'pm2.5': '10', 'no2': '20', 'nox': '21.5', 'no': '1.5', 'wind_speed': '0.4', 'wind_direc': '55', 'publishtime': '2025/05/13 23:00:00', 'co_8hr': '0.2', 'pm2.5_avg': '10.1', 'pm10_avg': '14', 'so2_avg': '1', 'longitude': '121.64081', 'latitude': '25.06624', 'siteid': '2'}\n",
      "{'sitename': '新店', 'county': '新北市', 'aqi': '42', 'pollutant': '', 'status': '良好', 'so2': '0.6', 'co': '0.24', 'o3': '34', 'o3_8hr': '45', 'pm10': '12', 'pm2.5': '5', 'no2': '7', 'nox': '8.3', 'no': '0.5', 'wind_speed': '2', 'wind_direc': '183', 'publishtime': '2025/05/13 23:00:00', 'co_8hr': '0.3', 'pm2.5_avg': '10', 'pm10_avg': '18', 'so2_avg': '0', 'longitude': '121.537778', 'latitude': '24.977222', 'siteid': '4'}\n",
      "{'sitename': '土城', 'county': '新北市', 'aqi': '72', 'pollutant': '細懸浮微粒', 'status': '普通', 'so2': '1.4', 'co': '0.63', 'o3': '10', 'o3_8hr': '38', 'pm10': '33', 'pm2.5': '19', 'no2': '31', 'nox': '32.2', 'no': '1', 'wind_speed': '1.2', 'wind_direc': '151', 'publishtime': '2025/05/13 23:00:00', 'co_8hr': '0.4', 'pm2.5_avg': '20.2', 'pm10_avg': '31', 'so2_avg': '1', 'longitude': '121.451861', 'latitude': '24.982528', 'siteid': '5'}\n",
      "{'sitename': '板橋', 'county': '新北市', 'aqi': '64', 'pollutant': '二氧化氮', 'status': '普通', 'so2': '1.3', 'co': '0.91', 'o3': '10', 'o3_8hr': '41', 'pm10': '42', 'pm2.5': '24', 'no2': '43', 'nox': '44.1', 'no': '0.9', 'wind_speed': '0.9', 'wind_direc': '283', 'publishtime': '2025/05/13 23:00:00', 'co_8hr': '0.5', 'pm2.5_avg': '16.6', 'pm10_avg': '30', 'so2_avg': '1', 'longitude': '121.458667', 'latitude': '25.012972', 'siteid': '6'}\n",
      "{'sitename': '新莊', 'county': '新北市', 'aqi': '60', 'pollutant': '二氧化氮', 'status': '普通', 'so2': '0.5', 'co': '0.87', 'o3': '6', 'o3_8hr': '36', 'pm10': '24', 'pm2.5': '15', 'no2': '36', 'nox': '38.9', 'no': '2.4', 'wind_speed': '0.4', 'wind_direc': '273', 'publishtime': '2025/05/13 23:00:00', 'co_8hr': '0.4', 'pm2.5_avg': '14.9', 'pm10_avg': '23', 'so2_avg': '0', 'longitude': '121.4325', 'latitude': '25.037972', 'siteid': '7'}\n",
      "{'sitename': '菜寮', 'county': '新北市', 'aqi': '52', 'pollutant': '細懸浮微粒', 'status': '普通', 'so2': '0', 'co': '0.52', 'o3': '27', 'o3_8hr': '42', 'pm10': '12', 'pm2.5': '11', 'no2': '21', 'nox': '22.2', 'no': '0.8', 'wind_speed': '1', 'wind_direc': '201', 'publishtime': '2025/05/13 23:00:00', 'co_8hr': '0.4', 'pm2.5_avg': '12.9', 'pm10_avg': '19', 'so2_avg': '0', 'longitude': '121.481028', 'latitude': '25.06895', 'siteid': '8'}\n",
      "{'sitename': '林口', 'county': '新北市', 'aqi': '55', 'pollutant': '細懸浮微粒', 'status': '普通', 'so2': '1.2', 'co': '0.54', 'o3': '21', 'o3_8hr': '48', 'pm10': '25', 'pm2.5': '11', 'no2': '28', 'nox': '30', 'no': '1.2', 'wind_speed': '1.5', 'wind_direc': '136', 'publishtime': '2025/05/13 23:00:00', 'co_8hr': '0.3', 'pm2.5_avg': '14', 'pm10_avg': '19', 'so2_avg': '1', 'longitude': '121.36548982', 'latitude': '25.07798949', 'siteid': '9'}\n",
      "{'sitename': '淡水', 'county': '新北市', 'aqi': '51', 'pollutant': '細懸浮微粒', 'status': '普通', 'so2': '0.9', 'co': '0.41', 'o3': '25', 'o3_8hr': '41', 'pm10': '18', 'pm2.5': '8', 'no2': '15', 'nox': '16.4', 'no': '0.7', 'wind_speed': '', 'wind_direc': '', 'publishtime': '2025/05/13 23:00:00', 'co_8hr': '0.3', 'pm2.5_avg': '12.5', 'pm10_avg': '21', 'so2_avg': '0', 'longitude': '121.449239', 'latitude': '25.1645', 'siteid': '10'}\n",
      "{'sitename': '士林', 'county': '臺北市', 'aqi': '43', 'pollutant': '', 'status': '良好', 'so2': '1.5', 'co': '0.32', 'o3': '33', 'o3_8hr': '46', 'pm10': '16', 'pm2.5': '10', 'no2': '11', 'nox': '12.2', 'no': '0.7', 'wind_speed': '1.2', 'wind_direc': '153', 'publishtime': '2025/05/13 23:00:00', 'co_8hr': '0.2', 'pm2.5_avg': '8.6', 'pm10_avg': '16', 'so2_avg': '1', 'longitude': '121.51666356', 'latitude': '25.10334003', 'siteid': '11'}\n",
      "{'sitename': '中山', 'county': '臺北市', 'aqi': '52', 'pollutant': '二氧化氮', 'status': '普通', 'so2': '0.7', 'co': '0.48', 'o3': '22', 'o3_8hr': '34', 'pm10': '12', 'pm2.5': '6', 'no2': '24', 'nox': '27', 'no': '2.5', 'wind_speed': '0.9', 'wind_direc': '67', 'publishtime': '2025/05/13 23:00:00', 'co_8hr': '0.5', 'pm2.5_avg': '9.7', 'pm10_avg': '15', 'so2_avg': '0', 'longitude': '121.526528', 'latitude': '25.062361', 'siteid': '12'}\n",
      "{'sitename': '萬華', 'county': '臺北市', 'aqi': '52', 'pollutant': '二氧化氮', 'status': '普通', 'so2': '0.5', 'co': '0.5', 'o3': '22', 'o3_8hr': '36', 'pm10': '18', 'pm2.5': '6', 'no2': '23', 'nox': '25.2', 'no': '1.6', 'wind_speed': '0.2', 'wind_direc': '123', 'publishtime': '2025/05/13 23:00:00', 'co_8hr': '0.5', 'pm2.5_avg': '9.3', 'pm10_avg': '19', 'so2_avg': '0', 'longitude': '121.507972', 'latitude': '25.046503', 'siteid': '13'}\n",
      "{'sitename': '古亭', 'county': '臺北市', 'aqi': '38', 'pollutant': '', 'status': '良好', 'so2': '0.1', 'co': '0.3', 'o3': '32', 'o3_8hr': '38', 'pm10': '10', 'pm2.5': '5', 'no2': '11', 'nox': '12.7', 'no': '0.8', 'wind_speed': '0.6', 'wind_direc': '164', 'publishtime': '2025/05/13 23:00:00', 'co_8hr': '0.3', 'pm2.5_avg': '9.3', 'pm10_avg': '16', 'so2_avg': '0', 'longitude': '121.529556', 'latitude': '25.020608', 'siteid': '14'}\n",
      "{'sitename': '松山', 'county': '臺北市', 'aqi': '53', 'pollutant': '二氧化氮', 'status': '普通', 'so2': '1.6', 'co': '0.42', 'o3': '19', 'o3_8hr': '37', 'pm10': '11', 'pm2.5': '4', 'no2': '25', 'nox': '27.3', 'no': '1.9', 'wind_speed': '0.6', 'wind_direc': '55', 'publishtime': '2025/05/13 23:00:00', 'co_8hr': '0.3', 'pm2.5_avg': '8.2', 'pm10_avg': '10', 'so2_avg': '1', 'longitude': '121.578611', 'latitude': '25.05', 'siteid': '15'}\n",
      "{'sitename': '大同', 'county': '臺北市', 'aqi': '67', 'pollutant': '細懸浮微粒', 'status': '普通', 'so2': '1.3', 'co': '1.05', 'o3': '14', 'o3_8hr': '27', 'pm10': '26', 'pm2.5': '15', 'no2': '29', 'nox': '50.2', 'no': '20.2', 'wind_speed': '-', 'wind_direc': '-', 'publishtime': '2025/05/13 23:00:00', 'co_8hr': '0.9', 'pm2.5_avg': '18.2', 'pm10_avg': '26', 'so2_avg': '1', 'longitude': '121.51342074', 'latitude': '25.06331455', 'siteid': '16'}\n",
      "{'sitename': '桃園', 'county': '桃園市', 'aqi': '76', 'pollutant': '細懸浮微粒', 'status': '普通', 'so2': '3.9', 'co': '0.89', 'o3': '8', 'o3_8hr': '47', 'pm10': '45', 'pm2.5': '32', 'no2': '44', 'nox': '46.7', 'no': '1.9', 'wind_speed': '1', 'wind_direc': '71', 'publishtime': '2025/05/13 23:00:00', 'co_8hr': '0.5', 'pm2.5_avg': '21.7', 'pm10_avg': '32', 'so2_avg': '2', 'longitude': '121.30500531', 'latitude': '24.9947107', 'siteid': '17'}\n",
      "{'sitename': '大園', 'county': '桃園市', 'aqi': '65', 'pollutant': '二氧化氮', 'status': '普通', 'so2': '3.8', 'co': '0.57', 'o3': '7', 'o3_8hr': '50', 'pm10': '39', 'pm2.5': '20', 'no2': '44', 'nox': '45.4', 'no': '1.2', 'wind_speed': '1.3', 'wind_direc': '153', 'publishtime': '2025/05/13 23:00:00', 'co_8hr': '0.3', 'pm2.5_avg': '16.1', 'pm10_avg': '29', 'so2_avg': '2', 'longitude': '121.20251473', 'latitude': '25.06100357', 'siteid': '18'}\n",
      "{'sitename': '觀音', 'county': '桃園市', 'aqi': '99', 'pollutant': '細懸浮微粒', 'status': '普通', 'so2': '2.6', 'co': '0.51', 'o3': '28', 'o3_8hr': '62', 'pm10': '50', 'pm2.5': '41', 'no2': '26', 'nox': '27.2', 'no': '0.7', 'wind_speed': '0.4', 'wind_direc': '172', 'publishtime': '2025/05/13 23:00:00', 'co_8hr': '0.3', 'pm2.5_avg': '30', 'pm10_avg': '38', 'so2_avg': '2', 'longitude': '121.08283092', 'latitude': '25.03556747', 'siteid': '19'}\n",
      "{'sitename': '平鎮', 'county': '桃園市', 'aqi': '84', 'pollutant': '細懸浮微粒', 'status': '普通', 'so2': '2', 'co': '0.65', 'o3': '30', 'o3_8hr': '57', 'pm10': '47', 'pm2.5': '27', 'no2': '32', 'nox': '33', 'no': '0.3', 'wind_speed': '0.3', 'wind_direc': '191', 'publishtime': '2025/05/13 23:00:00', 'co_8hr': '0.5', 'pm2.5_avg': '24.5', 'pm10_avg': '40', 'so2_avg': '1', 'longitude': '121.203986', 'latitude': '24.952786', 'siteid': '20'}\n",
      "{'sitename': '龍潭', 'county': '桃園市', 'aqi': '84', 'pollutant': '細懸浮微粒', 'status': '普通', 'so2': '0.9', 'co': '0.33', 'o3': '48', 'o3_8hr': '49', 'pm10': '39', 'pm2.5': '21', 'no2': '14', 'nox': '14.4', 'no': '0.2', 'wind_speed': '0.8', 'wind_direc': '173', 'publishtime': '2025/05/13 23:00:00', 'co_8hr': '0.4', 'pm2.5_avg': '24.6', 'pm10_avg': '39', 'so2_avg': '1', 'longitude': '121.21645772', 'latitude': '24.86400048', 'siteid': '21'}\n",
      "{'sitename': '湖口', 'county': '新竹縣', 'aqi': '83', 'pollutant': '細懸浮微粒', 'status': '普通', 'so2': '1.2', 'co': '0.41', 'o3': '31', 'o3_8hr': '63', 'pm10': '39', 'pm2.5': '28', 'no2': '20', 'nox': '20.6', 'no': '0.3', 'wind_speed': '1.8', 'wind_direc': '103', 'publishtime': '2025/05/13 23:00:00', 'co_8hr': '0.3', 'pm2.5_avg': '24.1', 'pm10_avg': '35', 'so2_avg': '1', 'longitude': '121.03886894', 'latitude': '24.90009696', 'siteid': '22'}\n",
      "{'sitename': '竹東', 'county': '新竹縣', 'aqi': '66', 'pollutant': '細懸浮微粒', 'status': '普通', 'so2': '2', 'co': '0.28', 'o3': '37', 'o3_8hr': '58', 'pm10': '29', 'pm2.5': '22', 'no2': '7', 'nox': '8.5', 'no': '0.9', 'wind_speed': '1.7', 'wind_direc': '121', 'publishtime': '2025/05/13 23:00:00', 'co_8hr': '0.3', 'pm2.5_avg': '18', 'pm10_avg': '28', 'so2_avg': '1', 'longitude': '121.08895493', 'latitude': '24.74091408', 'siteid': '23'}\n",
      "{'sitename': '新竹', 'county': '新竹市', 'aqi': '73', 'pollutant': '細懸浮微粒', 'status': '普通', 'so2': '1.1', 'co': '0.7', 'o3': '14', 'o3_8hr': '60', 'pm10': '35', 'pm2.5': '19', 'no2': '36', 'nox': '37.4', 'no': '0.9', 'wind_speed': '1.2', 'wind_direc': '76', 'publishtime': '2025/05/13 23:00:00', 'co_8hr': '0.4', 'pm2.5_avg': '20.6', 'pm10_avg': '29', 'so2_avg': '1', 'longitude': '120.97236752', 'latitude': '24.8056356', 'siteid': '24'}\n",
      "{'sitename': '頭份', 'county': '苗栗縣', 'aqi': '93', 'pollutant': '臭氧八小時', 'status': '普通', 'so2': '1.2', 'co': '0.3', 'o3': '37', 'o3_8hr': '68', 'pm10': '27', 'pm2.5': '18', 'no2': '6', 'nox': '7', 'no': '0.5', 'wind_speed': '1.6', 'wind_direc': '123', 'publishtime': '2025/05/13 23:00:00', 'co_8hr': '0.3', 'pm2.5_avg': '18.8', 'pm10_avg': '32', 'so2_avg': '2', 'longitude': '120.89869286', 'latitude': '24.69690679', 'siteid': '25'}\n",
      "{'sitename': '苗栗', 'county': '苗栗縣', 'aqi': '84', 'pollutant': '臭氧八小時', 'status': '普通', 'so2': '1.2', 'co': '0.25', 'o3': '41', 'o3_8hr': '65', 'pm10': '22', 'pm2.5': '16', 'no2': '7', 'nox': '8.1', 'no': '0.8', 'wind_speed': '1.5', 'wind_direc': '182', 'publishtime': '2025/05/13 23:00:00', 'co_8hr': '0.2', 'pm2.5_avg': '19', 'pm10_avg': '28', 'so2_avg': '1', 'longitude': '120.82011468', 'latitude': '24.56499183', 'siteid': '26'}\n",
      "{'sitename': '三義', 'county': '苗栗縣', 'aqi': '51', 'pollutant': '細懸浮微粒', 'status': '普通', 'so2': '0.6', 'co': '0.17', 'o3': '38', 'o3_8hr': '53', 'pm10': '15', 'pm2.5': '7', 'no2': '1', 'nox': '2.2', 'no': '1', 'wind_speed': '1', 'wind_direc': '13', 'publishtime': '2025/05/13 23:00:00', 'co_8hr': '0.2', 'pm2.5_avg': '12.5', 'pm10_avg': '23', 'so2_avg': '0', 'longitude': '120.75956754', 'latitude': '24.38248443', 'siteid': '27'}\n",
      "{'sitename': '豐原', 'county': '臺中市', 'aqi': '58', 'pollutant': '細懸浮微粒', 'status': '普通', 'so2': '1.7', 'co': '0.26', 'o3': '38', 'o3_8hr': '53', 'pm10': '22', 'pm2.5': '17', 'no2': '8', 'nox': '9.2', 'no': '0.8', 'wind_speed': '1.6', 'wind_direc': '108', 'publishtime': '2025/05/13 23:00:00', 'co_8hr': '0.2', 'pm2.5_avg': '15.2', 'pm10_avg': '24', 'so2_avg': '1', 'longitude': '120.74252414', 'latitude': '24.25699731', 'siteid': '28'}\n",
      "{'sitename': '沙鹿', 'county': '臺中市', 'aqi': '71', 'pollutant': '細懸浮微粒', 'status': '普通', 'so2': '1.1', 'co': '0.36', 'o3': '37', 'o3_8hr': '53', 'pm10': '22', 'pm2.5': '13', 'no2': '17', 'nox': '18.3', 'no': '0.7', 'wind_speed': '0.3', 'wind_direc': '74', 'publishtime': '2025/05/13 23:00:00', 'co_8hr': '0.2', 'pm2.5_avg': '19.8', 'pm10_avg': '33', 'so2_avg': '1', 'longitude': '120.568794', 'latitude': '24.225628', 'siteid': '29'}\n",
      "{'sitename': '大里', 'county': '臺中市', 'aqi': '62', 'pollutant': '細懸浮微粒', 'status': '普通', 'so2': '1.7', 'co': '0.39', 'o3': '29', 'o3_8hr': '45', 'pm10': '22', 'pm2.5': '8', 'no2': '12', 'nox': '12.9', 'no': '0.6', 'wind_speed': '0.2', 'wind_direc': '116', 'publishtime': '2025/05/13 23:00:00', 'co_8hr': '0.4', 'pm2.5_avg': '16.7', 'pm10_avg': '27', 'so2_avg': '2', 'longitude': '120.67844444', 'latitude': '24.09961111', 'siteid': '30'}\n",
      "{'sitename': '忠明', 'county': '臺中市', 'aqi': '58', 'pollutant': '細懸浮微粒', 'status': '普通', 'so2': '2.1', 'co': '0.57', 'o3': '16', 'o3_8hr': '45', 'pm10': '32', 'pm2.5': '19', 'no2': '29', 'nox': '30.9', 'no': '1.2', 'wind_speed': '0.3', 'wind_direc': '177', 'publishtime': '2025/05/13 23:00:00', 'co_8hr': '0.3', 'pm2.5_avg': '15', 'pm10_avg': '25', 'so2_avg': '2', 'longitude': '120.641092', 'latitude': '24.151958', 'siteid': '31'}\n",
      "{'sitename': '西屯', 'county': '臺中市', 'aqi': '66', 'pollutant': '細懸浮微粒', 'status': '普通', 'so2': '1.7', 'co': '0.57', 'o3': '10', 'o3_8hr': '44', 'pm10': '37', 'pm2.5': '20', 'no2': '39', 'nox': '42.9', 'no': '3', 'wind_speed': '0.3', 'wind_direc': '164', 'publishtime': '2025/05/13 23:00:00', 'co_8hr': '0.3', 'pm2.5_avg': '17.8', 'pm10_avg': '32', 'so2_avg': '2', 'longitude': '120.616917', 'latitude': '24.162197', 'siteid': '32'}\n",
      "{'sitename': '彰化', 'county': '彰化縣', 'aqi': '63', 'pollutant': '細懸浮微粒', 'status': '普通', 'so2': '1', 'co': '0.45', 'o3': '24', 'o3_8hr': '47', 'pm10': '29', 'pm2.5': '18', 'no2': '17', 'nox': '18.3', 'no': '1', 'wind_speed': '0.4', 'wind_direc': '184', 'publishtime': '2025/05/13 23:00:00', 'co_8hr': '0.3', 'pm2.5_avg': '17', 'pm10_avg': '27', 'so2_avg': '2', 'longitude': '120.541519', 'latitude': '24.066', 'siteid': '33'}\n",
      "{'sitename': '線西', 'county': '彰化縣', 'aqi': '87', 'pollutant': '臭氧八小時', 'status': '普通', 'so2': '1.2', 'co': '0.32', 'o3': '39', 'o3_8hr': '66', 'pm10': '38', 'pm2.5': '20', 'no2': '13', 'nox': '14', 'no': '0.9', 'wind_speed': '0.4', 'wind_direc': '88', 'publishtime': '2025/05/13 23:00:00', 'co_8hr': '0.2', 'pm2.5_avg': '19', 'pm10_avg': '35', 'so2_avg': '1', 'longitude': '120.469061', 'latitude': '24.131672', 'siteid': '34'}\n",
      "{'sitename': '二林', 'county': '彰化縣', 'aqi': '82', 'pollutant': '細懸浮微粒', 'status': '普通', 'so2': '2.2', 'co': '0.25', 'o3': '32', 'o3_8hr': '61', 'pm10': '50', 'pm2.5': '26', 'no2': '5', 'nox': '6.1', 'no': '0.3', 'wind_speed': '0.2', 'wind_direc': '336', 'publishtime': '2025/05/13 23:00:00', 'co_8hr': '0.2', 'pm2.5_avg': '23.8', 'pm10_avg': '45', 'so2_avg': '2', 'longitude': '120.409653', 'latitude': '23.925175', 'siteid': '35'}\n",
      "{'sitename': '南投', 'county': '南投縣', 'aqi': '67', 'pollutant': '細懸浮微粒', 'status': '普通', 'so2': '1.7', 'co': '0.33', 'o3': '23', 'o3_8hr': '53', 'pm10': '37', 'pm2.5': '16', 'no2': '12', 'nox': '13.2', 'no': '0.7', 'wind_speed': '0.7', 'wind_direc': '267', 'publishtime': '2025/05/13 23:00:00', 'co_8hr': '0.3', 'pm2.5_avg': '18.2', 'pm10_avg': '32', 'so2_avg': '1', 'longitude': '120.685306', 'latitude': '23.913', 'siteid': '36'}\n",
      "{'sitename': '斗六', 'county': '雲林縣', 'aqi': '70', 'pollutant': '細懸浮微粒', 'status': '普通', 'so2': '1.4', 'co': '0.25', 'o3': '37', 'o3_8hr': '60', 'pm10': '36', 'pm2.5': '21', 'no2': '7', 'nox': '8.8', 'no': '0.8', 'wind_speed': '0.3', 'wind_direc': '121', 'publishtime': '2025/05/13 23:00:00', 'co_8hr': '0.2', 'pm2.5_avg': '19.6', 'pm10_avg': '36', 'so2_avg': '1', 'longitude': '120.544994', 'latitude': '23.711853', 'siteid': '37'}\n",
      "{'sitename': '崙背', 'county': '雲林縣', 'aqi': '76', 'pollutant': '細懸浮微粒', 'status': '普通', 'so2': '1.3', 'co': '0.24', 'o3': '48', 'o3_8hr': '62', 'pm10': '44', 'pm2.5': '23', 'no2': '5', 'nox': '6', 'no': '0.7', 'wind_speed': '0.4', 'wind_direc': '18', 'publishtime': '2025/05/13 23:00:00', 'co_8hr': '0.2', 'pm2.5_avg': '21.6', 'pm10_avg': '42', 'so2_avg': '1', 'longitude': '120.348742', 'latitude': '23.757547', 'siteid': '38'}\n",
      "{'sitename': '新港', 'county': '嘉義縣', 'aqi': '74', 'pollutant': '臭氧八小時', 'status': '普通', 'so2': '1.9', 'co': '0.24', 'o3': '45', 'o3_8hr': '62', 'pm10': '45', 'pm2.5': '23', 'no2': '6', 'nox': '7.3', 'no': '0.4', 'wind_speed': '1.1', 'wind_direc': '36', 'publishtime': '2025/05/13 23:00:00', 'co_8hr': '0.2', 'pm2.5_avg': '18.1', 'pm10_avg': '36', 'so2_avg': '1', 'longitude': '120.345531', 'latitude': '23.554839', 'siteid': '39'}\n",
      "{'sitename': '朴子', 'county': '嘉義縣', 'aqi': '74', 'pollutant': '臭氧八小時', 'status': '普通', 'so2': '0.9', 'co': '0.16', 'o3': '50', 'o3_8hr': '62', 'pm10': '40', 'pm2.5': '22', 'no2': '3', 'nox': '4.9', 'no': '1.4', 'wind_speed': '0.6', 'wind_direc': '42', 'publishtime': '2025/05/13 23:00:00', 'co_8hr': '0.1', 'pm2.5_avg': '18.2', 'pm10_avg': '31', 'so2_avg': '0', 'longitude': '120.2478', 'latitude': '23.46538', 'siteid': '40'}\n",
      "{'sitename': '臺西', 'county': '雲林縣', 'aqi': '63', 'pollutant': '細懸浮微粒', 'status': '普通', 'so2': '1.3', 'co': '0.23', 'o3': '46', 'o3_8hr': '58', 'pm10': '51', 'pm2.5': '23', 'no2': '5', 'nox': '6.1', 'no': '0.6', 'wind_speed': '1.5', 'wind_direc': '42', 'publishtime': '2025/05/13 23:00:00', 'co_8hr': '0.2', 'pm2.5_avg': '16.8', 'pm10_avg': '39', 'so2_avg': '2', 'longitude': '120.19933333', 'latitude': '23.702175', 'siteid': '41'}\n",
      "{'sitename': '嘉義', 'county': '嘉義市', 'aqi': '74', 'pollutant': '臭氧八小時', 'status': '普通', 'so2': '1.9', 'co': '0.28', 'o3': '46', 'o3_8hr': '62', 'pm10': '40', 'pm2.5': '18', 'no2': '8', 'nox': '8.4', 'no': '0.3', 'wind_speed': '0.6', 'wind_direc': '111', 'publishtime': '2025/05/13 23:00:00', 'co_8hr': '0.3', 'pm2.5_avg': '16.9', 'pm10_avg': '32', 'so2_avg': '2', 'longitude': '120.44125148', 'latitude': '23.46477865', 'siteid': '42'}\n",
      "{'sitename': '新營', 'county': '臺南市', 'aqi': '61', 'pollutant': '臭氧八小時', 'status': '普通', 'so2': '0.4', 'co': '0.3', 'o3': '42', 'o3_8hr': '58', 'pm10': '39', 'pm2.5': '19', 'no2': '11', 'nox': '11.4', 'no': '0.2', 'wind_speed': '1.4', 'wind_direc': '34', 'publishtime': '2025/05/13 23:00:00', 'co_8hr': '0.2', 'pm2.5_avg': '13.5', 'pm10_avg': '34', 'so2_avg': '0', 'longitude': '120.31725', 'latitude': '23.305633', 'siteid': '43'}\n",
      "{'sitename': '善化', 'county': '臺南市', 'aqi': '61', 'pollutant': '細懸浮微粒', 'status': '普通', 'so2': '1.9', 'co': '0.3', 'o3': '43', 'o3_8hr': '58', 'pm10': '41', 'pm2.5': '21', 'no2': '7', 'nox': '8.5', 'no': '0.9', 'wind_speed': '1', 'wind_direc': '34', 'publishtime': '2025/05/13 23:00:00', 'co_8hr': '0.2', 'pm2.5_avg': '16.3', 'pm10_avg': '35', 'so2_avg': '1', 'longitude': '120.29740529', 'latitude': '23.11337642', 'siteid': '44'}\n",
      "{'sitename': '安南', 'county': '臺南市', 'aqi': '64', 'pollutant': '細懸浮微粒', 'status': '普通', 'so2': '0.9', 'co': '0.33', 'o3': '47', 'o3_8hr': '57', 'pm10': '35', 'pm2.5': '23', 'no2': '9', 'nox': '9.5', 'no': '0.1', 'wind_speed': '0.8', 'wind_direc': '17', 'publishtime': '2025/05/13 23:00:00', 'co_8hr': '0.2', 'pm2.5_avg': '17.1', 'pm10_avg': '33', 'so2_avg': '0', 'longitude': '120.2175', 'latitude': '23.048197', 'siteid': '45'}\n",
      "{'sitename': '臺南', 'county': '臺南市', 'aqi': '74', 'pollutant': '臭氧八小時', 'status': '普通', 'so2': '2', 'co': '0.42', 'o3': '39', 'o3_8hr': '62', 'pm10': '43', 'pm2.5': '20', 'no2': '21', 'nox': '21.8', 'no': '0.5', 'wind_speed': '1.6', 'wind_direc': '27', 'publishtime': '2025/05/13 23:00:00', 'co_8hr': '0.2', 'pm2.5_avg': '15.5', 'pm10_avg': '36', 'so2_avg': '1', 'longitude': '120.21947897', 'latitude': '22.98928311', 'siteid': '46'}\n",
      "{'sitename': '美濃', 'county': '高雄市', 'aqi': '80', 'pollutant': '臭氧八小時', 'status': '普通', 'so2': '0.3', 'co': '0.22', 'o3': '37', 'o3_8hr': '64', 'pm10': '30', 'pm2.5': '12', 'no2': '4', 'nox': '4.9', 'no': '0.3', 'wind_speed': '0.5', 'wind_direc': '39', 'publishtime': '2025/05/13 23:00:00', 'co_8hr': '0.2', 'pm2.5_avg': '11.5', 'pm10_avg': '26', 'so2_avg': '0', 'longitude': '120.530542', 'latitude': '22.883583', 'siteid': '47'}\n",
      "{'sitename': '橋頭', 'county': '高雄市', 'aqi': '66', 'pollutant': '細懸浮微粒', 'status': '普通', 'so2': '1.3', 'co': '0.32', 'o3': '44', 'o3_8hr': '57', 'pm10': '47', 'pm2.5': '23', 'no2': '11', 'nox': '11.9', 'no': '0.6', 'wind_speed': '1.5', 'wind_direc': '12', 'publishtime': '2025/05/13 23:00:00', 'co_8hr': '0.3', 'pm2.5_avg': '17.8', 'pm10_avg': '35', 'so2_avg': '1', 'longitude': '120.305689', 'latitude': '22.757506', 'siteid': '48'}\n",
      "{'sitename': '仁武', 'county': '高雄市', 'aqi': '58', 'pollutant': '細懸浮微粒', 'status': '普通', 'so2': '1.1', 'co': '0.31', 'o3': '43', 'o3_8hr': '56', 'pm10': '41', 'pm2.5': '18', 'no2': '13', 'nox': '14.4', 'no': '0.8', 'wind_speed': '0.7', 'wind_direc': '319', 'publishtime': '2025/05/13 23:00:00', 'co_8hr': '0.2', 'pm2.5_avg': '14.9', 'pm10_avg': '30', 'so2_avg': '1', 'longitude': '120.332631', 'latitude': '22.689056', 'siteid': '49'}\n",
      "{'sitename': '鳳山', 'county': '高雄市', 'aqi': '66', 'pollutant': '細懸浮微粒', 'status': '普通', 'so2': '1.6', 'co': '0.34', 'o3': '48', 'o3_8hr': '55', 'pm10': '33', 'pm2.5': '25', 'no2': '9', 'nox': '9.8', 'no': '0.4', 'wind_speed': '0.3', 'wind_direc': '113', 'publishtime': '2025/05/13 23:00:00', 'co_8hr': '0.5', 'pm2.5_avg': '17.9', 'pm10_avg': '29', 'so2_avg': '1', 'longitude': '120.357422', 'latitude': '22.628126', 'siteid': '50'}\n",
      "{'sitename': '大寮', 'county': '高雄市', 'aqi': '65', 'pollutant': '細懸浮微粒', 'status': '普通', 'so2': '1.4', 'co': '0.27', 'o3': '46', 'o3_8hr': '47', 'pm10': '40', 'pm2.5': '18', 'no2': '8', 'nox': '8.9', 'no': '0.5', 'wind_speed': '1.2', 'wind_direc': '290', 'publishtime': '2025/05/13 23:00:00', 'co_8hr': '0.5', 'pm2.5_avg': '17.6', 'pm10_avg': '39', 'so2_avg': '3', 'longitude': '120.425311', 'latitude': '22.56413611', 'siteid': '51'}\n",
      "{'sitename': '林園', 'county': '高雄市', 'aqi': '80', 'pollutant': '臭氧八小時', 'status': '普通', 'so2': '1.4', 'co': '0.28', 'o3': '46', 'o3_8hr': '64', 'pm10': '48', 'pm2.5': '19', 'no2': '6', 'nox': '7.6', 'no': '0.6', 'wind_speed': '1.4', 'wind_direc': '35', 'publishtime': '2025/05/13 23:00:00', 'co_8hr': '0.2', 'pm2.5_avg': '15.2', 'pm10_avg': '32', 'so2_avg': '1', 'longitude': '120.41175', 'latitude': '22.4795', 'siteid': '52'}\n",
      "{'sitename': '楠梓', 'county': '高雄市', 'aqi': '60', 'pollutant': '細懸浮微粒', 'status': '普通', 'so2': '1.9', 'co': '0.28', 'o3': '45', 'o3_8hr': '56', 'pm10': '50', 'pm2.5': '17', 'no2': '10', 'nox': '10.7', 'no': '0.2', 'wind_speed': '1.3', 'wind_direc': '49', 'publishtime': '2025/05/13 23:00:00', 'co_8hr': '0.2', 'pm2.5_avg': '15.8', 'pm10_avg': '36', 'so2_avg': '1', 'longitude': '120.328289', 'latitude': '22.733667', 'siteid': '53'}\n",
      "{'sitename': '左營', 'county': '高雄市', 'aqi': '74', 'pollutant': '臭氧八小時', 'status': '普通', 'so2': '0.7', 'co': '0.31', 'o3': '45', 'o3_8hr': '62', 'pm10': '42', 'pm2.5': '14', 'no2': '12', 'nox': '13.3', 'no': '0.6', 'wind_speed': '0.6', 'wind_direc': '42', 'publishtime': '2025/05/13 23:00:00', 'co_8hr': '0.2', 'pm2.5_avg': '13.1', 'pm10_avg': '32', 'so2_avg': '0', 'longitude': '120.292917', 'latitude': '22.674861', 'siteid': '54'}\n",
      "{'sitename': '前金', 'county': '高雄市', 'aqi': '57', 'pollutant': '懸浮微粒', 'status': '普通', 'so2': '0.2', 'co': '0.33', 'o3': '43', 'o3_8hr': '56', 'pm10': '47', 'pm2.5': '17', 'no2': '10', 'nox': '10.7', 'no': '0.4', 'wind_speed': '1.5', 'wind_direc': '354', 'publishtime': '2025/05/13 23:00:00', 'co_8hr': '0.2', 'pm2.5_avg': '12.7', 'pm10_avg': '36', 'so2_avg': '0', 'longitude': '120.28676111', 'latitude': '22.63390278', 'siteid': '56'}\n",
      "{'sitename': '前鎮', 'county': '高雄市', 'aqi': '61', 'pollutant': '臭氧八小時', 'status': '普通', 'so2': '2.3', 'co': '0.4', 'o3': '49', 'o3_8hr': '58', 'pm10': '32', 'pm2.5': '16', 'no2': '12', 'nox': '13.1', 'no': '0.8', 'wind_speed': '1.6', 'wind_direc': '6', 'publishtime': '2025/05/13 23:00:00', 'co_8hr': '0.3', 'pm2.5_avg': '12.9', 'pm10_avg': '27', 'so2_avg': '2', 'longitude': '120.30833356', 'latitude': '22.6044507', 'siteid': '57'}\n",
      "{'sitename': '小港', 'county': '高雄市', 'aqi': '59', 'pollutant': '細懸浮微粒', 'status': '普通', 'so2': '2.1', 'co': '0.34', 'o3': '42', 'o3_8hr': '56', 'pm10': '32', 'pm2.5': '20', 'no2': '15', 'nox': '16.4', 'no': '0.8', 'wind_speed': '0.8', 'wind_direc': '334', 'publishtime': '2025/05/13 23:00:00', 'co_8hr': '0.2', 'pm2.5_avg': '15.5', 'pm10_avg': '23', 'so2_avg': '1', 'longitude': '120.337736', 'latitude': '22.565833', 'siteid': '58'}\n",
      "{'sitename': '屏東', 'county': '屏東縣', 'aqi': '77', 'pollutant': '臭氧八小時', 'status': '普通', 'so2': '0.8', 'co': '0.28', 'o3': '48', 'o3_8hr': '63', 'pm10': '35', 'pm2.5': '13', 'no2': '7', 'nox': '7.8', 'no': '0.6', 'wind_speed': '0.8', 'wind_direc': '351', 'publishtime': '2025/05/13 23:00:00', 'co_8hr': '0.3', 'pm2.5_avg': '13.9', 'pm10_avg': '32', 'so2_avg': '0', 'longitude': '120.488033', 'latitude': '22.673081', 'siteid': '59'}\n",
      "{'sitename': '潮州', 'county': '屏東縣', 'aqi': '74', 'pollutant': '臭氧八小時', 'status': '普通', 'so2': '1.1', 'co': '0.19', 'o3': '41', 'o3_8hr': '62', 'pm10': '26', 'pm2.5': '19', 'no2': '8', 'nox': '8.7', 'no': '0.4', 'wind_speed': '1.2', 'wind_direc': '106', 'publishtime': '2025/05/13 23:00:00', 'co_8hr': '0.2', 'pm2.5_avg': '14.4', 'pm10_avg': '27', 'so2_avg': '1', 'longitude': '120.561175', 'latitude': '22.523108', 'siteid': '60'}\n",
      "{'sitename': '恆春', 'county': '屏東縣', 'aqi': '51', 'pollutant': '臭氧八小時', 'status': '普通', 'so2': '1.2', 'co': '0.12', 'o3': '49', 'o3_8hr': '55', 'pm10': '9', 'pm2.5': '1', 'no2': '0', 'nox': '1.3', 'no': '0.7', 'wind_speed': '1.7', 'wind_direc': '50', 'publishtime': '2025/05/13 23:00:00', 'co_8hr': '0.1', 'pm2.5_avg': '0.9', 'pm10_avg': '7', 'so2_avg': '1', 'longitude': '120.788928', 'latitude': '21.958069', 'siteid': '61'}\n",
      "{'sitename': '臺東', 'county': '臺東縣', 'aqi': '47', 'pollutant': '', 'status': '良好', 'so2': '0.8', 'co': '0.14', 'o3': '50', 'o3_8hr': '51', 'pm10': '3', 'pm2.5': '1', 'no2': '2', 'nox': '2', 'no': '0', 'wind_speed': '0.7', 'wind_direc': '346', 'publishtime': '2025/05/13 23:00:00', 'co_8hr': '0.2', 'pm2.5_avg': '2.6', 'pm10_avg': '7', 'so2_avg': '0', 'longitude': '121.15045', 'latitude': '22.755358', 'siteid': '62'}\n",
      "{'sitename': '花蓮', 'county': '花蓮縣', 'aqi': '43', 'pollutant': '', 'status': '良好', 'so2': '0.7', 'co': '0.24', 'o3': '35', 'o3_8hr': '46', 'pm10': '12', 'pm2.5': '5', 'no2': '5', 'nox': '5.1', 'no': '0', 'wind_speed': '0.9', 'wind_direc': '280', 'publishtime': '2025/05/13 23:00:00', 'co_8hr': '0.2', 'pm2.5_avg': '4.7', 'pm10_avg': '11', 'so2_avg': '0', 'longitude': '121.599769', 'latitude': '23.971306', 'siteid': '63'}\n",
      "{'sitename': '陽明', 'county': '臺北市', 'aqi': '46', 'pollutant': '', 'status': '良好', 'so2': '1', 'co': '0.22', 'o3': '47', 'o3_8hr': '50', 'pm10': '12', 'pm2.5': '6', 'no2': '2', 'nox': '2.8', 'no': '0.5', 'wind_speed': '', 'wind_direc': '', 'publishtime': '2025/05/13 23:00:00', 'co_8hr': '0.2', 'pm2.5_avg': '8.5', 'pm10_avg': '14', 'so2_avg': '1', 'longitude': '121.529583', 'latitude': '25.182722', 'siteid': '64'}\n",
      "{'sitename': '宜蘭', 'county': '宜蘭縣', 'aqi': '43', 'pollutant': '', 'status': '良好', 'so2': '0.4', 'co': '0.21', 'o3': '34', 'o3_8hr': '46', 'pm10': '8', 'pm2.5': '6', 'no2': '3', 'nox': '3.8', 'no': '0.5', 'wind_speed': '0.8', 'wind_direc': '188', 'publishtime': '2025/05/13 23:00:00', 'co_8hr': '0.2', 'pm2.5_avg': '6.2', 'pm10_avg': '9', 'so2_avg': '0', 'longitude': '121.746394', 'latitude': '24.747917', 'siteid': '65'}\n",
      "{'sitename': '冬山', 'county': '宜蘭縣', 'aqi': '38', 'pollutant': '', 'status': '良好', 'so2': '0.6', 'co': '0.17', 'o3': '31', 'o3_8hr': '41', 'pm10': '11', 'pm2.5': '6', 'no2': '2', 'nox': '2.9', 'no': '0.1', 'wind_speed': '0.2', 'wind_direc': '239', 'publishtime': '2025/05/13 23:00:00', 'co_8hr': '0.2', 'pm2.5_avg': '5.7', 'pm10_avg': '13', 'so2_avg': '0', 'longitude': '121.792928', 'latitude': '24.632203', 'siteid': '66'}\n",
      "{'sitename': '三重', 'county': '新北市', 'aqi': '61', 'pollutant': '二氧化氮', 'status': '普通', 'so2': '0.9', 'co': '0.94', 'o3': '10', 'o3_8hr': '20', 'pm10': '20', 'pm2.5': '12', 'no2': '38', 'nox': '64.4', 'no': '25.9', 'wind_speed': '-', 'wind_direc': '-', 'publishtime': '2025/05/13 23:00:00', 'co_8hr': '0.8', 'pm2.5_avg': '13.6', 'pm10_avg': '20', 'so2_avg': '1', 'longitude': '121.493806', 'latitude': '25.072611', 'siteid': '67'}\n",
      "{'sitename': '中壢', 'county': '桃園市', 'aqi': '93', 'pollutant': '細懸浮微粒', 'status': '普通', 'so2': '2.2', 'co': '1.13', 'o3': '24', 'o3_8hr': '37', 'pm10': '46', 'pm2.5': '27', 'no2': '36', 'nox': '48.4', 'no': '11.7', 'wind_speed': '0.6', 'wind_direc': '194', 'publishtime': '2025/05/13 23:00:00', 'co_8hr': '1.1', 'pm2.5_avg': '28', 'pm10_avg': '41', 'so2_avg': '2', 'longitude': '121.221667', 'latitude': '24.953278', 'siteid': '68'}\n",
      "{'sitename': '竹山', 'county': '南投縣', 'aqi': '58', 'pollutant': '細懸浮微粒', 'status': '普通', 'so2': '0.9', 'co': '0.21', 'o3': '34', 'o3_8hr': '54', 'pm10': '35', 'pm2.5': '14', 'no2': '6', 'nox': '6.4', 'no': '0.4', 'wind_speed': '1.3', 'wind_direc': '59', 'publishtime': '2025/05/13 23:00:00', 'co_8hr': '0.2', 'pm2.5_avg': '15', 'pm10_avg': '35', 'so2_avg': '0', 'longitude': '120.677306', 'latitude': '23.756389', 'siteid': '69'}\n",
      "{'sitename': '永和', 'county': '新北市', 'aqi': '56', 'pollutant': '細懸浮微粒', 'status': '普通', 'so2': '0.1', 'co': '0.55', 'o3': '26', 'o3_8hr': '33', 'pm10': '13', 'pm2.5': '10', 'no2': '15', 'nox': '17.7', 'no': '2.4', 'wind_speed': '1', 'wind_direc': '93', 'publishtime': '2025/05/13 23:00:00', 'co_8hr': '0.7', 'pm2.5_avg': '14.5', 'pm10_avg': '21', 'so2_avg': '0', 'longitude': '121.516306', 'latitude': '25.017', 'siteid': '70'}\n",
      "{'sitename': '復興', 'county': '高雄市', 'aqi': '58', 'pollutant': '臭氧八小時', 'status': '普通', 'so2': '1.3', 'co': '0.41', 'o3': '47', 'o3_8hr': '57', 'pm10': '30', 'pm2.5': '15', 'no2': '13', 'nox': '14.8', 'no': '1.5', 'wind_speed': '0.5', 'wind_direc': '126', 'publishtime': '2025/05/13 23:00:00', 'co_8hr': '0.3', 'pm2.5_avg': '12', 'pm10_avg': '23', 'so2_avg': '1', 'longitude': '120.312017', 'latitude': '22.608711', 'siteid': '71'}\n",
      "{'sitename': '埔里', 'county': '南投縣', 'aqi': '61', 'pollutant': '細懸浮微粒', 'status': '普通', 'so2': '1.4', 'co': '0.33', 'o3': '24', 'o3_8hr': '55', 'pm10': '28', 'pm2.5': '14', 'no2': '10', 'nox': '10.9', 'no': '0.9', 'wind_speed': '0.4', 'wind_direc': '124', 'publishtime': '2025/05/13 23:00:00', 'co_8hr': '0.3', 'pm2.5_avg': '16.2', 'pm10_avg': '26', 'so2_avg': '1', 'longitude': '120.967903', 'latitude': '23.968842', 'siteid': '72'}\n",
      "{'sitename': '馬祖', 'county': '連江縣', 'aqi': '100', 'pollutant': '臭氧八小時', 'status': '普通', 'so2': '0.6', 'co': '0.18', 'o3': '60', 'o3_8hr': '70', 'pm10': '32', 'pm2.5': '13', 'no2': '4', 'nox': '4.8', 'no': '0.4', 'wind_speed': '2.5', 'wind_direc': '330', 'publishtime': '2025/05/13 23:00:00', 'co_8hr': '0.2', 'pm2.5_avg': '16.7', 'pm10_avg': '33', 'so2_avg': '1', 'longitude': '119.952724', 'latitude': '26.153736', 'siteid': '75'}\n",
      "{'sitename': '金門', 'county': '金門縣', 'aqi': '126', 'pollutant': '臭氧八小時', 'status': '對敏感族群不健康', 'so2': '1.4', 'co': '0.3', 'o3': '66', 'o3_8hr': '78', 'pm10': '26', 'pm2.5': '22', 'no2': '6', 'nox': '6.6', 'no': '0.4', 'wind_speed': '0.8', 'wind_direc': '18', 'publishtime': '2025/05/13 23:00:00', 'co_8hr': '0.3', 'pm2.5_avg': '19.3', 'pm10_avg': '32', 'so2_avg': '1', 'longitude': '118.312256', 'latitude': '24.432133', 'siteid': '77'}\n",
      "{'sitename': '馬公', 'county': '澎湖縣', 'aqi': '104', 'pollutant': '臭氧八小時', 'status': '對敏感族群不健康', 'so2': '0.6', 'co': '0.26', 'o3': '65', 'o3_8hr': '72', 'pm10': '23', 'pm2.5': '18', 'no2': '6', 'nox': '6.9', 'no': '0.7', 'wind_speed': '0.9', 'wind_direc': '86', 'publishtime': '2025/05/13 23:00:00', 'co_8hr': '0.2', 'pm2.5_avg': '15.2', 'pm10_avg': '27', 'so2_avg': '0', 'longitude': '119.566158', 'latitude': '23.569031', 'siteid': '78'}\n",
      "{'sitename': '關山', 'county': '臺東縣', 'aqi': '38', 'pollutant': '', 'status': '良好', 'so2': '0.2', 'co': '0.16', 'o3': '29', 'o3_8hr': '41', 'pm10': '15', 'pm2.5': '6', 'no2': '2', 'nox': '2.8', 'no': '0.7', 'wind_speed': '0.6', 'wind_direc': '165', 'publishtime': '2025/05/13 23:00:00', 'co_8hr': '0.1', 'pm2.5_avg': '5.9', 'pm10_avg': '10', 'so2_avg': '0', 'longitude': '121.161933', 'latitude': '23.045083', 'siteid': '80'}\n",
      "{'sitename': '麥寮', 'county': '雲林縣', 'aqi': '73', 'pollutant': '細懸浮微粒', 'status': '普通', 'so2': '1.3', 'co': '0.26', 'o3': '42', 'o3_8hr': '61', 'pm10': '', 'pm2.5': '25', 'no2': '5', 'nox': '6.8', 'no': '1.5', 'wind_speed': '0.3', 'wind_direc': '355', 'publishtime': '2025/05/13 23:00:00', 'co_8hr': '0.2', 'pm2.5_avg': '20.5', 'pm10_avg': '41', 'so2_avg': '2', 'longitude': '120.251825', 'latitude': '23.753506', 'siteid': '83'}\n",
      "{'sitename': '富貴角', 'county': '新北市', 'aqi': '49', 'pollutant': '', 'status': '良好', 'so2': '0.9', 'co': '0.16', 'o3': '50', 'o3_8hr': '53', 'pm10': '9', 'pm2.5': '2', 'no2': '1', 'nox': '2', 'no': '0', 'wind_speed': '1.8', 'wind_direc': '135', 'publishtime': '2025/05/13 23:00:00', 'co_8hr': '0.1', 'pm2.5_avg': '8.3', 'pm10_avg': '20', 'so2_avg': '1', 'longitude': '121.53656894', 'latitude': '25.29681695', 'siteid': '84'}\n",
      "{'sitename': '大城', 'county': '彰化縣', 'aqi': '101', 'pollutant': '臭氧八小時', 'status': '對敏感族群不健康', 'so2': '1', 'co': '0.22', 'o3': '46', 'o3_8hr': '71', 'pm10': '51', 'pm2.5': '25', 'no2': '6', 'nox': '6.3', 'no': '0.3', 'wind_speed': '0.2', 'wind_direc': '61', 'publishtime': '2025/05/13 23:00:00', 'co_8hr': '0.1', 'pm2.5_avg': '19.5', 'pm10_avg': '36', 'so2_avg': '1', 'longitude': '120.26964167', 'latitude': '23.85493056', 'siteid': '85'}\n",
      "{'sitename': '員林', 'county': '彰化縣', 'aqi': '66', 'pollutant': '細懸浮微粒', 'status': '普通', 'so2': '3.2', 'co': '0.55', 'o3': '23', 'o3_8hr': '58', 'pm10': '35', 'pm2.5': '18', 'no2': '20', 'nox': '21.4', 'no': '0.6', 'wind_speed': '0.3', 'wind_direc': '287', 'publishtime': '2025/05/13 23:00:00', 'co_8hr': '0.3', 'pm2.5_avg': '18', 'pm10_avg': '33', 'so2_avg': '2', 'longitude': '120.5631893', 'latitude': '23.9615945', 'siteid': '139'}\n",
      "{'sitename': '宜蘭（三星）', 'county': '宜蘭縣', 'aqi': '37', 'pollutant': '', 'status': '良好', 'so2': '0.9', 'co': '0.17', 'o3': '22', 'o3_8hr': '40', 'pm10': '17', 'pm2.5': '5', 'no2': '1', 'nox': '2', 'no': '0.3', 'wind_speed': '1', 'wind_direc': '260', 'publishtime': '2025/05/13 23:00:00', 'co_8hr': '0.1', 'pm2.5_avg': '6', 'pm10_avg': '14', 'so2_avg': '0', 'longitude': '121.6565272', 'latitude': '24.6757916', 'siteid': '201'}\n",
      "{'sitename': '高雄（湖內）', 'county': '高雄市', 'aqi': '57', 'pollutant': '懸浮微粒', 'status': '普通', 'so2': '2.3', 'co': '0.31', 'o3': '34', 'o3_8hr': '49', 'pm10': '49', 'pm2.5': '18', 'no2': '15', 'nox': '15.6', 'no': '0.3', 'wind_speed': '0.5', 'wind_direc': '338', 'publishtime': '2025/05/13 23:00:00', 'co_8hr': '0.2', 'pm2.5_avg': '14.5', 'pm10_avg': '36', 'so2_avg': '1', 'longitude': '120.24535', 'latitude': '22.87985556', 'siteid': '202'}\n",
      "{'sitename': '南投（鹿谷）', 'county': '南投縣', 'aqi': '87', 'pollutant': '臭氧八小時', 'status': '普通', 'so2': '1.7', 'co': '0.2', 'o3': '56', 'o3_8hr': '66', 'pm10': '30', 'pm2.5': '18', 'no2': '3', 'nox': '4.4', 'no': '1.1', 'wind_speed': '0.2', 'wind_direc': '7', 'publishtime': '2025/05/13 23:00:00', 'co_8hr': '0.2', 'pm2.5_avg': '16', 'pm10_avg': '30', 'so2_avg': '1', 'longitude': '120.7944772', 'latitude': '23.71867609', 'siteid': '203'}\n",
      "{'sitename': '屏東（琉球）', 'county': '屏東縣', 'aqi': '112', 'pollutant': '臭氧八小時', 'status': '對敏感族群不健康', 'so2': '0.6', 'co': '0.2', 'o3': '62', 'o3_8hr': '74', 'pm10': '18', 'pm2.5': '12', 'no2': '2', 'nox': '3.7', 'no': '1', 'wind_speed': '0.3', 'wind_direc': '137', 'publishtime': '2025/05/13 23:00:00', 'co_8hr': '0.2', 'pm2.5_avg': '14.9', 'pm10_avg': '22', 'so2_avg': '0', 'longitude': '120.37722', 'latitude': '22.35222', 'siteid': '204'}\n",
      "{'sitename': '台中市（和平區消防隊）', 'county': '臺中市', 'aqi': '58', 'pollutant': '臭氧八小時', 'status': '普通', 'so2': '0.1', 'co': '0.26', 'o3': '26', 'o3_8hr': '57', 'pm10': '25', 'pm2.5': '14', 'no2': '4', 'nox': '4.9', 'no': '0.5', 'wind_speed': '0.2', 'wind_direc': '355', 'publishtime': '2025/05/13 23:00:00', 'co_8hr': '0.3', 'pm2.5_avg': '13.2', 'pm10_avg': '23', 'so2_avg': '0', 'longitude': '120.883858', 'latitude': '24.174592', 'siteid': '310'}\n",
      "{'sitename': '新北(樹林)', 'county': '新北市', 'aqi': '59', 'pollutant': '細懸浮微粒', 'status': '普通', 'so2': '1', 'co': '0.46', 'o3': '34', 'o3_8hr': '56', 'pm10': '34', 'pm2.5': '17', 'no2': '18', 'nox': '19.3', 'no': '0.8', 'wind_speed': '0', 'wind_direc': '13', 'publishtime': '2025/05/13 23:00:00', 'co_8hr': '0.3', 'pm2.5_avg': '15.4', 'pm10_avg': '32', 'so2_avg': '1', 'longitude': '121.38352778', 'latitude': '24.94902778', 'siteid': '311'}\n",
      "{'sitename': '臺南（南化）', 'county': '臺南市', 'aqi': '48', 'pollutant': '', 'status': '良好', 'so2': '0', 'co': '0.2', 'o3': '18', 'o3_8hr': '51', 'pm10': '55', 'pm2.5': '6', 'no2': '3', 'nox': '3.3', 'no': '0.1', 'wind_speed': '5.6', 'wind_direc': '185', 'publishtime': '2025/05/13 23:00:00', 'co_8hr': '0.2', 'pm2.5_avg': '8.4', 'pm10_avg': '29', 'so2_avg': '0', 'longitude': '120.44583156', 'latitude': '23.04562013', 'siteid': '312'}\n",
      "{'sitename': '屏東(枋山)', 'county': '屏東縣', 'aqi': '90', 'pollutant': '臭氧八小時', 'status': '普通', 'so2': '0.2', 'co': '0.12', 'o3': '53', 'o3_8hr': '67', 'pm10': '5', 'pm2.5': '4', 'no2': '2', 'nox': '2.5', 'no': '0', 'wind_speed': '0.2', 'wind_direc': '58', 'publishtime': '2025/05/13 23:00:00', 'co_8hr': '0.1', 'pm2.5_avg': '6', 'pm10_avg': '13', 'so2_avg': '0', 'longitude': '120.651472', 'latitude': '22.260899', 'siteid': '313'}\n"
     ]
    }
   ],
   "source": [
    "for item in aqi:\n",
    "    print(item)"
   ]
  },
  {
   "cell_type": "code",
   "execution_count": 11,
   "metadata": {},
   "outputs": [
    {
     "name": "stdout",
     "output_type": "stream",
     "text": [
      "{'sitename': '中山', 'county': '臺北市', 'aqi': '52', 'pollutant': '二氧化氮', 'status': '普通', 'so2': '0.7', 'co': '0.48', 'o3': '22', 'o3_8hr': '34', 'pm10': '12', 'pm2.5': '6', 'no2': '24', 'nox': '27', 'no': '2.5', 'wind_speed': '0.9', 'wind_direc': '67', 'publishtime': '2025/05/13 23:00:00', 'co_8hr': '0.5', 'pm2.5_avg': '9.7', 'pm10_avg': '15', 'so2_avg': '0', 'longitude': '121.526528', 'latitude': '25.062361', 'siteid': '12'}\n"
     ]
    }
   ],
   "source": [
    "for item in aqi:\n",
    "    if item['sitename'] == '中山':\n",
    "        print(item)"
   ]
  }
 ],
 "metadata": {
  "kernelspec": {
   "display_name": "flask",
   "language": "python",
   "name": "python3"
  },
  "language_info": {
   "codemirror_mode": {
    "name": "ipython",
    "version": 3
   },
   "file_extension": ".py",
   "mimetype": "text/x-python",
   "name": "python",
   "nbconvert_exporter": "python",
   "pygments_lexer": "ipython3",
   "version": "3.11.11"
  }
 },
 "nbformat": 4,
 "nbformat_minor": 2
}
