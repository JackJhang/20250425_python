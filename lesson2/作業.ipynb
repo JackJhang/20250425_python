{
 "cells": [
  {
   "cell_type": "markdown",
   "id": "0fe30711",
   "metadata": {},
   "source": [
    "1. **請讀取names.txt**\n",
    "2. **將文字儲存於list內**\n",
    "3. **每次執行可以亂數取出3個姓名**"
   ]
  },
  {
   "cell_type": "code",
   "execution_count": 67,
   "id": "85988533",
   "metadata": {},
   "outputs": [
    {
     "name": "stdout",
     "output_type": "stream",
     "text": [
      "隨機抽取的 3 個姓名： 游詩亞, 彭虹屏, 白世宏\n"
     ]
    }
   ],
   "source": [
    "import random\n",
    "\n",
    "def get_random_names(filename=\"names.txt\"):\n",
    "    try:\n",
    "        with open(filename, 'r', encoding='utf-8') as file:\n",
    "            names = [line.strip() for line in file]\n",
    "    except FileNotFoundError:\n",
    "        return \"找不到檔案：names.txt\"\n",
    "    except UnicodeDecodeError:\n",
    "        return \"檔案編碼錯誤，請確認檔案是 UTF-8 編碼格式。\"\n",
    "    except PermissionError:\n",
    "        return \"沒有權限讀取 names.txt，請檢查檔案權限。\"\n",
    "    except Exception as e:\n",
    "        return f\"讀取檔案時發生未預期的錯誤：{str(e)}\"\n",
    "\n",
    "    if len(names) < 3:\n",
    "        return \"姓名數量少於3個，請檢查 names.txt 檔案。\"\n",
    "\n",
    "    return random.sample(names, 3)\n",
    "\n",
    "if __name__ == \"__main__\":\n",
    "    random_names = get_random_names()\n",
    "    if isinstance(random_names, str):\n",
    "        print(random_names)\n",
    "    else:\n",
    "        print(\"隨機抽取的 3 個姓名：\", \", \".join(random_names))"
   ]
  },
  {
   "cell_type": "markdown",
   "id": "c2174223",
   "metadata": {},
   "source": [
    "___\n",
    "___\n",
    "#### 以下解釋各行程式碼的含義，以及這麼寫的用意為何。"
   ]
  },
  {
   "cell_type": "markdown",
   "id": "e2af1a84",
   "metadata": {},
   "source": [
    "---"
   ]
  },
  {
   "cell_type": "code",
   "execution_count": null,
   "id": "5432ffe9",
   "metadata": {},
   "outputs": [],
   "source": [
    "import random"
   ]
  },
  {
   "cell_type": "markdown",
   "id": "a344c64c",
   "metadata": {},
   "source": [
    "* 題目要求「每次執行可以亂數取出3個姓名」，故 import (導入) Python 內建的 random 模組。該模組提供生成隨機數和隨機選擇的函數。\n",
    "* 由於後面會用到 random.sample() 這個 function 來從讀取的姓名列表中隨機抽取指定數量的姓名，因此需要先匯入這個模組。"
   ]
  },
  {
   "cell_type": "markdown",
   "id": "63e27be3",
   "metadata": {},
   "source": [
    "---"
   ]
  },
  {
   "cell_type": "code",
   "execution_count": null,
   "id": "48a1f406",
   "metadata": {},
   "outputs": [],
   "source": [
    "def get_random_names(filename=\"names.txt\"):"
   ]
  },
  {
   "cell_type": "markdown",
   "id": "f271bed8",
   "metadata": {},
   "source": [
    "此行程式碼表示使用 **def** 定義一個名叫 **get_random_names** 的函式（function），用來從指定的文字檔讀取姓名並隨機挑選三個不同的姓名。"
   ]
  },
  {
   "cell_type": "markdown",
   "id": "edd7159f",
   "metadata": {},
   "source": [
    "#### **filename=\"names.txt\"**:\n",
    " + **filename** 是函式（function） 裡面的一個參數。\n",
    " + **= \" \"** 是表示**預設讀取**當前目錄下的 \" \" 裡的檔案。這裡代表預設讀取 names.txt 檔案。因為題目要求「請讀取names.txt」。"
   ]
  },
  {
   "cell_type": "markdown",
   "id": "20296bee",
   "metadata": {},
   "source": [
    "---"
   ]
  },
  {
   "cell_type": "markdown",
   "id": "f87ebfd6",
   "metadata": {},
   "source": [
    "補充下，在 Python 中，`def` 是用來 **定義函式（function）** 的關鍵字。函式是一段可以重複呼叫、執行特定任務的程式碼區塊。使用 `def` 可以將程式邏輯封裝，讓程式碼更有組織、可重複使用。\\\n",
    "換言之，def 是能讓使用者將某段功能性程式碼「命名、封裝、重複使用」的基礎工具。\n",
    "\n",
    "\n",
    "#### 基本語法\n",
    "\n",
    "```python\n",
    "def 函式名稱(參數1, 參數2, ...):\n",
    "    函式主體（縮排區塊）\n",
    "    [return 回傳值]\n",
    "```\n",
    "\n",
    "- **def**：關鍵字，表示要定義一個函式。\n",
    "- **函式名稱**：自訂名稱，命名規則與變數相同（只能用字母、底線開頭，後面可接字母、數字、底線）。\n",
    "- **參數**：放在小括號內，用來接收外部傳入的資料，可有可無，多個參數用逗號分隔。\n",
    "- **冒號（:）**：定義函式主體的開始。\n",
    "- **函式主體**：必須縮排，寫要執行的程式碼。\n",
    "- **return**（可選）：用於回傳結果給呼叫者，若省略則預設回傳 `None`。\n",
    "\n",
    "\n",
    "#### 範例\n",
    "\n",
    "**無參數、無回傳值的函式**\n",
    "\n",
    "```python\n",
    "def say_hello():\n",
    "    print(\"Hello, World!\")\n",
    "```\n",
    "\n",
    "**有參數、無回傳值的函式**\n",
    "\n",
    "```python\n",
    "def greet(name):\n",
    "    print(f\"Hello, {name}!\")\n",
    "```\n",
    "\n",
    "**有參數、有回傳值的函式**\n",
    "\n",
    "```python\n",
    "def add(a, b):\n",
    "    return a + b\n",
    "```\n",
    "\n",
    "\n",
    "#### 呼叫函式\n",
    "\n",
    "定義好函式後，要用「函式名稱(參數)」的方式呼叫它：\n",
    "\n",
    "```python\n",
    "say_hello()          # 輸出：Hello, World!\n",
    "greet(\"Alice\")       # 輸出：Hello, Alice!\n",
    "result = add(2, 3)   # result 變數會得到 5\n",
    "```\n",
    "\n",
    "#### 其他補充\n",
    "\n",
    "- 如果函式沒有 `return`，執行完會自動回傳 `None`。\n",
    "- 參數可以有預設值（default value）。\n",
    "- 函式內的變數屬於區域變數，外部無法直接存取。\n",
    "\n",
    "\n",
    "#### **總結：**\n",
    "`def` 是 Python 用來定義函式的關鍵字，基本語法為 `def 函式名稱(參數):`，主體需縮排，回傳值用 `return`，沒有則預設回傳 `None`。這讓你能將重複或有邏輯的程式碼封裝成一個單位，方便呼叫與維護。"
   ]
  },
  {
   "cell_type": "markdown",
   "id": "086304fe",
   "metadata": {},
   "source": [
    "---"
   ]
  },
  {
   "cell_type": "markdown",
   "id": "8f395dc7",
   "metadata": {},
   "source": [
    "再補充說明下，即便不使用 def 把程式定義為函式（function），程式也可以正常執行。\\\n",
    "比如下面這樣：\n"
   ]
  },
  {
   "cell_type": "code",
   "execution_count": 74,
   "id": "1cd851f2",
   "metadata": {},
   "outputs": [
    {
     "name": "stdout",
     "output_type": "stream",
     "text": [
      "隨機抽取的 3 個姓名： 楊韋廷, 蔡欣汝, 李淑芳\n"
     ]
    }
   ],
   "source": [
    "import random\n",
    "\n",
    "filename = \"names.txt\"\n",
    "\n",
    "try:\n",
    "    with open(filename, 'r', encoding='utf-8') as file:\n",
    "        names = [line.strip() for line in file]\n",
    "except FileNotFoundError:\n",
    "    print(\"找不到檔案：names.txt\")\n",
    "except UnicodeDecodeError:\n",
    "    print(\"檔案編碼錯誤，請確認檔案是 UTF-8 編碼格式。\")\n",
    "except PermissionError:\n",
    "    print(\"沒有權限讀取 names.txt，請檢查檔案權限。\")\n",
    "except Exception as e:\n",
    "    print(f\"讀取檔案時發生未預期的錯誤：{str(e)}\")\n",
    "else:\n",
    "    if len(names) < 3:\n",
    "        print(\"姓名數量少於3個，請檢查 names.txt 檔案。\")\n",
    "    else:\n",
    "        print(\"隨機抽取的 3 個姓名：\", \", \".join(random.sample(names, 3)))\n"
   ]
  },
  {
   "cell_type": "markdown",
   "id": "5ddd7619",
   "metadata": {},
   "source": [
    "之所以要使用 def 把程式定義為函式（function），有以下幾個重要原因：\n",
    "1. **重複利用與模組化**\n",
    "    * 封裝功能：將「讀取檔案並隨機抽取姓名」這一組邏輯包裝成一個獨立的單元（函式），讓程式結構更清晰。\n",
    "    * 重複使用：你可以在程式的不同地方、甚至其他程式中重複呼叫這個函式，而不用每次都重寫相同的程式碼。\n",
    "    * 易於維護：如果未來需要修改抽取姓名的邏輯，只需修改函式內部，其他呼叫的地方不用改。\n",
    "2. **提升可讀性與易懂性**\n",
    "    * 語意明確：get_random_names() 這個名字清楚表達其用途，讓閱讀程式的人一眼就知道這段程式碼的功能。\n",
    "    * 分工明確：主程式只需呼叫函式，不用關心細節，讓主流程更簡潔、易懂。\n",
    "3. **方便錯誤處理與回傳值設計**\n",
    "    * 集中錯誤處理：所有檔案操作與錯誤處理都集中在函式內部，主程式只需判斷回傳值即可。\n",
    "    * 彈性回傳：可以根據不同情況回傳不同型態（如錯誤訊息字串或姓名列表），主程式可以統一處理。\n",
    "4. **易於測試與擴充**\n",
    "    * 單元測試：可以針對 get_random_names 這個函式單獨進行測試，驗證其功能正確性。\n",
    "    * 擴充方便：未來如果要增加參數（如抽取幾個姓名、指定檔案路徑等），只需在函式內擴充即可。\n",
    "\n",
    "#### 小結\n",
    "用 def 定義函式（function）的用意是：\n",
    " 1. **將一組相關邏輯封裝成可重複使用、易維護的單元。**\n",
    " 2. **提升程式可讀性與結構性。**\n",
    " 3. **方便錯誤處理、測試與未來擴充。**"
   ]
  },
  {
   "cell_type": "markdown",
   "id": "1738c387",
   "metadata": {},
   "source": [
    "---"
   ]
  },
  {
   "cell_type": "markdown",
   "id": "f0b95770",
   "metadata": {},
   "source": [
    "另外解釋下，技術上也可以將原始程式碼中的 return 改為 print()，但這樣會影響程式的結構與可重複使用性，改變程式的行為和函式的用途。**不建議這麼做**。\n",
    "\n",
    "+ **return vs. print() 的差異**\n",
    "   * return：將結果回傳給呼叫者，使函式可以在不同地方被使用。\n",
    "   * print()：直接輸出結果，但無法讓其他程式碼使用該值。\n",
    "<br/>\n",
    "+ **何時應該使用 return？**\n",
    "   * 如果函式的結果需要被其他程式碼使用（如存入變數、進一步處理）\n",
    "   * 如果希望函式能在不同地方被呼叫，而不只是輸出結果\n",
    "   * 如果需要根據回傳值進行條件判斷（如錯誤處理）\n",
    "<br/>\n",
    "+ **何時可以使用 print()？**\n",
    "   * 如果函式只需要顯示結果，而不需要回傳值\n",
    "   * 如果程式不需要進一步處理函式的輸出\n",
    "   * 如果函式的唯一目的就是輸出訊息\n",
    "\n",
    "#### 結論\n",
    " * 可以改成 print，但會讓主程式的回傳值判斷失效，也失去彈性。\n",
    " * 如需回傳資料，建議保留 return；如只需印出結果，可用 print，但主程式要相應調整。\n",
    " * 比如下面這個樣子：\n",
    "\n",
    "```python\n",
    "import random\n",
    "\n",
    "def get_random_names(filename=\"names.txt\"):\n",
    "    try:\n",
    "        with open(filename, 'r', encoding='utf-8') as file:\n",
    "            names = [line.strip() for line in file]\n",
    "    except FileNotFoundError:\n",
    "        print(\"找不到檔案：names.txt\")\n",
    "        return  # 這裡 return 只是結束函式，不回傳值\n",
    "    except UnicodeDecodeError:\n",
    "        print(\"檔案編碼錯誤，請確認檔案是 UTF-8 編碼格式。\")\n",
    "        return\n",
    "    except PermissionError:\n",
    "        print(\"沒有權限讀取 names.txt，請檢查檔案權限。\")\n",
    "        return\n",
    "    except Exception as e:\n",
    "        print(f\"讀取檔案時發生未預期的錯誤：{str(e)}\")\n",
    "        return\n",
    "\n",
    "    if len(names) < 3:\n",
    "        print(\"姓名數量少於3個，請檢查 names.txt 檔案。\")\n",
    "        return\n",
    "\n",
    "    result = random.sample(names, 3)\n",
    "    print(\"隨機抽取的 3 個姓名：\", \", \".join(result))\n",
    "    # 沒有 return，函式自動回傳 None\n",
    "\n",
    "if __name__ == \"__main__\":\n",
    "    get_random_names()\n",
    "    # 呼叫函式，直接印出結果，不處理回傳值\n",
    "\n",
    "```\n",
    "\n",
    "#### 說明\n",
    "\n",
    "- 原本 `return \"錯誤訊息\"` 改成 `print(\"錯誤訊息\")`，然後 `return`（這樣函式會直接結束，不再往下執行）。\n",
    "- 這裡的 `return` 不是用來回傳資料，而是「提前結束函式」的控制流程工具。\n",
    "- 如果把 `return` 拿掉，當發生錯誤時，雖然會印出錯誤訊息，但**函式還是會繼續往下執行**，可能導致更多錯誤或不合理的行為，這通常不是你想要的結果。\n",
    "- 原本 `return random.sample(names, 3)` 改成 `print(...)`，直接印出隨機姓名。\n",
    "- 主程式部分只需呼叫 `get_random_names()`，不需再判斷回傳值。"
   ]
  },
  {
   "cell_type": "markdown",
   "id": "5dfb5d7f",
   "metadata": {},
   "source": [
    "---"
   ]
  },
  {
   "cell_type": "code",
   "execution_count": null,
   "id": "f29ca751",
   "metadata": {},
   "outputs": [],
   "source": [
    "    try:\n",
    "        with open(filename, 'r', encoding='utf-8') as file:\n",
    "            names = [line.strip() for line in file]\n",
    "    except FileNotFoundError:\n",
    "        return \"找不到檔案：names.txt\"\n",
    "    except UnicodeDecodeError:\n",
    "        return \"檔案編碼錯誤，請確認檔案是 UTF-8 編碼格式。\"\n",
    "    except PermissionError:\n",
    "        return \"沒有權限讀取 names.txt，請檢查檔案權限。\"\n",
    "    except Exception as e:\n",
    "        return f\"讀取檔案時發生未預期的錯誤：{str(e)}\""
   ]
  },
  {
   "cell_type": "markdown",
   "id": "dc191ba3",
   "metadata": {},
   "source": [
    "#### 這段程式碼是使用 **try-except** 區塊處理有可能發生的檔案異常情況。"
   ]
  },
  {
   "cell_type": "markdown",
   "id": "3987d1c9",
   "metadata": {},
   "source": [
    "在 Python 中，try-except 是一種異常處理機制 (exception handling mechanism)。它的主要含義是嘗試執行一段可能引發錯誤的程式碼，如果在執行過程中發生了指定的錯誤（異常），則執行預先定義的處理程式碼，而不是讓程式崩潰。\n",
    "\n",
    "這種機制使得程式在遇到預期或非預期的錯誤時，能夠更具健壯性 (robustness) 和容錯性 (fault tolerance)，可以優雅地處理錯誤並繼續執行（或者至少安全地終止）。\n",
    "\n",
    "try-except 的基本語法如下："
   ]
  },
  {
   "cell_type": "code",
   "execution_count": null,
   "id": "37669a86",
   "metadata": {},
   "outputs": [],
   "source": [
    "try:\n",
    "    # 這段程式碼可能會引發異常\n",
    "    # 例如：檔案讀寫、網路操作、類型轉換等\n",
    "    可能出錯的程式碼\n",
    "except [ExceptionType [as variable]]:\n",
    "    # 如果 try 區塊中的程式碼拋出了 ExceptionType 類型的異常，\n",
    "    # 則執行這段程式碼來處理該異常\n",
    "    # [as variable] 是可選的，用於將捕獲到的異常實例賦值給一個變數\n",
    "    異常處理的程式碼\n",
    "[except (ExceptionType1, ExceptionType2) [as variable]]:\n",
    "    # 可以有多個 except 區塊來處理不同類型的異常\n",
    "    處理多個異常類型的程式碼\n",
    "[except:]\n",
    "    # 可以有一個空的 except 區塊來捕獲所有未被前面 except 處理的異常\n",
    "    # 但通常不建議這樣做，因為它會隱藏錯誤\n",
    "    處理所有其他異常的程式碼\n",
    "[else:]\n",
    "    # 如果 try 區塊中的程式碼沒有拋出任何異常，\n",
    "    # 則執行這個 else 區塊中的程式碼\n",
    "    沒有發生異常時執行的程式碼\n",
    "[finally:]\n",
    "    # 這個 finally 區塊中的程式碼無論 try 區塊是否拋出異常，\n",
    "    # 以及是否被 except 區塊處理，都會在離開 try 語句之前執行\n",
    "    # 通常用於執行清理工作，例如關閉檔案、釋放資源等\n",
    "    無論是否發生異常都會執行的程式碼"
   ]
  },
  {
   "cell_type": "markdown",
   "id": "1901175a",
   "metadata": {},
   "source": [
    "語法細節解釋：\n",
    "\n",
    "* try: 區塊： 包含您認為可能會引發異常的程式碼。\n",
    "\n",
    "* except [ExceptionType [as variable]]: 區塊：\n",
    "\n",
    "   + 用於捕獲特定類型的異常。您可以指定要捕獲的異常類別名稱（例如 FileNotFoundError、TypeError、ValueError 等）。\n",
    "   + 可以有多個 except 區塊來處理不同類型的異常。Python 會按順序檢查 except 區塊，並執行第一個與拋出的異常類型匹配的區塊。\n",
    "   + [as variable] 是可選的。如果使用它，捕獲到的異常物件會被賦值給指定的 variable，您可以在 except 區塊中使用這個變數來獲取關於異常的詳細資訊（例如錯誤訊息）。\n",
    "\n",
    "* except: 區塊（不帶異常類型）：\n",
    "\n",
    "   + 可以有一個這樣的 except 區塊，它會捕獲所有前面 except 區塊沒有捕獲到的異常。\n",
    "   + 通常不建議過度使用這種方式，因為它可能會隱藏重要的錯誤資訊，使除錯變得困難。 最好明確捕獲您預期可能發生的異常類型。\n",
    "\n",
    "* except (ExceptionType1, ExceptionType2) [as variable]: 區塊：\n",
    "\n",
    "   + 可以使用一個 except 區塊來同時處理多種類型的異常，將它們放在一個元組中。\n",
    "\n",
    "* else: 區塊（可選）：\n",
    "\n",
    "   + else 區塊中的程式碼只有在 try 區塊中的程式碼沒有拋出任何異常的情況下才會執行。\n",
    "   + 它可以用於放置那些依賴於 try 區塊成功執行的程式碼。\n",
    "\n",
    "* finally: 區塊（可選）：\n",
    "\n",
    "   + finally 區塊中的程式碼總是會被執行，無論 try 區塊中的程式碼是否拋出了異常，以及異常是否被 except 區塊處理。\n",
    "   + 它通常用於執行必須進行的清理工作，例如關閉已打開的檔案或釋放已獲取的資源。"
   ]
  },
  {
   "cell_type": "markdown",
   "id": "e627a267",
   "metadata": {},
   "source": [
    "運作流程：\n",
    "\n",
    "1. Python 直譯器首先嘗試執行 try 區塊中的程式碼。\n",
    "2. 如果在 try 區塊的執行過程中發生了異常，直譯器會立即停止執行 try 區塊中剩餘的程式碼。\n",
    "3. 然後，直譯器會尋找與拋出的異常類型相匹配的 except 區塊。\n",
    "4. 如果找到匹配的 except 區塊，則執行該區塊中的程式碼。\n",
    "5. 如果沒有找到匹配的 except 區塊，且沒有 except: 區塊，則異常會被傳遞到調用堆疊的上一層，如果沒有更上層的處理，程式將會終止並顯示錯誤訊息（traceback）。\n",
    "6. 如果 try 區塊中的程式碼沒有拋出任何異常，則會執行 else 區塊中的程式碼（如果有的話），然後跳過所有的 except 區塊。\n",
    "7. 無論 try 區塊是否拋出異常，以及是否有匹配的 except 區塊被執行，finally 區塊中的程式碼總是會在離開 try 語句之前執行。"
   ]
  },
  {
   "cell_type": "markdown",
   "id": "72657118",
   "metadata": {},
   "source": [
    "使用 try-except 的好處：\n",
    "\n",
    "* 防止程式崩潰： 允許程式在遇到錯誤時繼續執行或至少安全地終止。\n",
    "* 提供更好的使用者體驗： 可以向使用者顯示更友好的錯誤訊息，而不是技術性的錯誤追溯。\n",
    "* 更精確的錯誤處理： 可以針對不同類型的異常採取不同的處理措施。\n",
    "* 資源管理： finally 區塊確保資源（如檔案）在不再需要時總是會被釋放。"
   ]
  },
  {
   "cell_type": "markdown",
   "id": "d4cc97d0",
   "metadata": {},
   "source": [
    "總之，try-except 語句是 Python 中用於處理程式執行期間可能發生的錯誤的強大工具，它有助於編寫更可靠和更具彈性的程式碼。"
   ]
  },
  {
   "cell_type": "markdown",
   "id": "4bbdfae6",
   "metadata": {},
   "source": [
    "---"
   ]
  },
  {
   "cell_type": "markdown",
   "id": "dbd24994",
   "metadata": {},
   "source": [
    "#### 補充下，如果 python 不下 try-except ，會對程式有什麼影響？\n"
   ]
  },
  {
   "cell_type": "markdown",
   "id": "ba15d348",
   "metadata": {},
   "source": [
    "比如將程式改成下面這樣："
   ]
  },
  {
   "cell_type": "code",
   "execution_count": null,
   "id": "6e52b5ee",
   "metadata": {},
   "outputs": [],
   "source": [
    "import random\n",
    "\n",
    "with open('names.txt', 'r', encoding='utf-8') as f:\n",
    "    names = [line.strip() for line in f]\n",
    "\n",
    "sample = random.sample(names, 3)\n",
    "print(\"隨機抽取的 3 個姓名：\"\", \"(sample))"
   ]
  },
  {
   "cell_type": "markdown",
   "id": "a0a219a4",
   "metadata": {},
   "source": [
    "當程式執行過程中遇到例外（Exception）時，會發生以下影響：\n",
    "\n",
    "* 程式會在發生例外的地方立即中斷執行，後續的程式碼將不會被執行。\n",
    "* 例外訊息會直接顯示在螢幕上，例如 ZeroDivisionError、FileNotFoundError、NameError 等。\n",
    "* 無法進行錯誤處理或補救措施，例如記錄錯誤、顯示友善訊息、嘗試其他方案等。\n",
    "* 整個程式流程會被迫終止，無法繼續執行剩餘任務。\n",
    "* 比如 `names.txt` 沒有和 py 檔放在同一個資料夾，程式就會出現像下面一樣的錯誤訊息，並被迫終止：\n",
    "```python\n",
    "\n",
    "D:\\[Github]\\20250425_python\\lesson2>python test.py\n",
    "Traceback (most recent call last):\n",
    "  File \"D:\\[Github]\\20250425_python\\lesson2\\test.py\", line 3, in <module>\n",
    "    with open('names.txt', 'r', encoding='utf-8') as f:\n",
    "         ~~~~^^^^^^^^^^^^^^^^^^^^^^^^^^^^^^^^^^^^^\n",
    "FileNotFoundError: [Errno 2] No such file or directory: 'names.txt'\n",
    "\n",
    "```\n",
    "\n",
    "總結：不下 try-except 會讓你的程式在遇到任何未預期的錯誤時直接崩潰，降低了程式的穩定性與使用者體驗。"
   ]
  },
  {
   "cell_type": "markdown",
   "id": "1d7d735b",
   "metadata": {},
   "source": [
    "---"
   ]
  },
  {
   "cell_type": "code",
   "execution_count": null,
   "id": "9f92ddfc",
   "metadata": {},
   "outputs": [],
   "source": [
    "try:"
   ]
  },
  {
   "cell_type": "markdown",
   "id": "4323b41a",
   "metadata": {},
   "source": [
    "* `try:` ：表示開始執行 try-except 區塊，開始執行 `try:` 區塊下方可能會引發異常的程式碼。"
   ]
  },
  {
   "cell_type": "code",
   "execution_count": null,
   "id": "fc30d337",
   "metadata": {},
   "outputs": [],
   "source": [
    "with open(filename, 'r', encoding='utf-8') as file:"
   ]
  },
  {
   "cell_type": "markdown",
   "id": "8156ebe1",
   "metadata": {},
   "source": [
    "#### **with … as file**\n",
    "* 在 Python 中，with … as … 是一種上下文管理器（context manager）語法，常用來自動管理資源（如檔案、資料庫連線、鎖等）的取得與釋放。\n",
    "* with 語句的核心功能是**當這個區塊結束時，會自動執行清理動作**。\n",
    "* 也就是說，**with 區塊中的程式碼執行完畢後，檔案都會被自動正確地釋放或關閉，即使在程式執行過程中發生異常（錯誤）也不例外。這樣可以避免資源洩漏，甚至資料損壞。能方便且安全地管理資源。**\n",
    "* 以這行程式碼來解釋，用 **with open** 開啟檔案時，會將開啟的檔案放在 **file** 變數中，但是這個 **file** 只有在這個 **with** 的範圍內可以使用，而離開這個範圍時(即程式碼執行完畢後) **file** 就會自動被關閉，回收相關的資源。\n",
    "* 該 Function 基本語法如下："
   ]
  },
  {
   "cell_type": "code",
   "execution_count": null,
   "id": "5ceb07aa",
   "metadata": {},
   "outputs": [],
   "source": [
    "with 表達式 as 變數:\n",
    "    區塊程式碼"
   ]
  },
  {
   "cell_type": "markdown",
   "id": "cfc5de43",
   "metadata": {},
   "source": [
    "* 表達式：必須回傳一個支援上下文管理協定的物件（即實作 __enter__() 和 __exit__() 方法），例如 open() 開檔案，sqlite3.connect() 數據庫連接。\n",
    "* as 變數：[ as 變數 ] 這是個可選參數，會將 __enter__() 回傳的物件指派給這個變數，供區塊內使用。\n",
    "* 區塊程式碼：在 with 區塊內執行的程式碼。"
   ]
  },
  {
   "cell_type": "markdown",
   "id": "a6a1cd8a",
   "metadata": {},
   "source": [
    "  執行流程\n",
    "   1. with 會先執行 表達式，取得一個上下文管理器物件。\n",
    "   2. 呼叫該物件的 __enter__() 方法，並將回傳值賦給 as 後的變數（若有）。\n",
    "   3. 執行區塊程式碼。\n",
    "   4. 區塊結束後（無論是否發生例外），自動呼叫該物件的 __exit__() 方法，進行必要的清理（如關閉檔案）。"
   ]
  },
  {
   "cell_type": "markdown",
   "id": "bd8aa391",
   "metadata": {},
   "source": [
    "#### **open()**\n",
    "* 使用這個 Function 開啟 (open) 指定的檔案 (filename)。\n",
    "* 該 Function 基本語法如下："
   ]
  },
  {
   "cell_type": "code",
   "execution_count": null,
   "id": "67c861ba",
   "metadata": {},
   "outputs": [],
   "source": [
    "open(file, mode='r', buffering=-1, encoding=None, errors=None, newline=None, closefd=True, opener=None)"
   ]
  },
  {
   "cell_type": "markdown",
   "id": "18f1569f",
   "metadata": {},
   "source": [
    "* 除了 **file** 是必要參數外，其餘皆為可選參數。\n",
    "* 各參數說明如下：<br/><br/>\n",
    "  * **file**: 這是一個字串，它可以是檔案名稱（如果檔案位於當前工作目錄中）或包含完整目錄結構的路徑。\n",
    "  * **mode**: 這是一個字串，指定檔案的打開模式。**預設值是 'r' (讀取模式)**。\n",
    "  * **buffering**: 用於設置緩衝策略。**預設值是-1**，即使用系統預設的緩衝大小。\n",
    "  * **encoding**: 這是一個字串，指定用於編碼和解碼檔案的編碼格式 (只能在文字模式下使用)。\n",
    "  * **errors**: 這是一個字串，指定如何處理編碼和解碼錯誤（只能在文字模式下使用）。**預設值為 'strict'**，即如果遇到無法編碼或解碼的字元，會引發 UnicodeError 異常。這是最嚴格的模式，可確保資料的完整性。<br/><br/>\n",
    "    * **為什麼預設值是 'strict'，但基本語法寫 errors=None？**<br/><br/>\n",
    "      * **errors=None 是語法層的預設，而不是功能層的最終行為。**\n",
    "        * 在 open() 函數的定義中，errors=None 是預設參數值。\n",
    "        * 當你不提供 errors 時，Python 會根據 encoding 所使用的編碼器自行決定錯誤處理策略。\n",
    "        * 幾乎所有標準的文字編碼（像是 'utf-8', 'ascii', 'latin-1' 等）其內建的預設錯誤處理機制都是 'strict'。\n",
    "      * **這是一個兩層邏輯**：\n",
    "        * 語法層：open() 預設值為 errors=None，代表沒有手動指定錯誤處理方式。\n",
    "        * 編碼層：當 errors=None 被傳給編碼器時，它會自動採用其內建的錯誤策略，通常是 'strict'。<br/><br/>\n",
    "    * **為什麼不直接寫 errors='strict'？**<br/><br/>\n",
    "      這涉及到 Python 的設計哲學和實現細節。以下是具體原因：<br/><br/>\n",
    "        1. **明確區分「未指定」與「指定某種行為」**：\n",
    "\n",
    "            * 在 Python 的設計中，None 作為預設值通常表示「未指定任何值」，這允許函數在執行時根據上下文動態選擇適當的行為。\n",
    "            * 如果直接寫 errors='strict'，則意味著預設行為被硬編碼為 'strict'，這可能限制未來擴展或上下文相關的靈活性。\n",
    "        2. **與 encoding 參數的交互**：\n",
    "            * errors 參數只有在指定了 encoding（例如 encoding='utf-8'）時才會生效，因為 errors 是針對文本模式（mode='r' 或 'w'）的編碼/解碼錯誤處理。\n",
    "            * 如果 encoding=None（即以二進位模式或系統預設編碼打開檔案），errors 參數實際上不會被使用。在這種情況下，設置 errors=None 是一個中立的選擇，表明「錯誤處理不適用」或「尚未指定」。\n",
    "            * 如果預設值直接設為 errors='strict'，可能會讓人誤以為即使在二進位模式下，errors 也有作用，這會造成語義上的混淆。\n",
    "        3. **與其他可選參數的一致性**：\n",
    "            * 在 open() 函數中，encoding 和 newline 的預設值也都是 None，表示「未指定」或「根據上下文決定」。將 errors 設為 None 與這種設計保持一致，形成統一的參數風格。\n",
    "            * 如果 errors='strict'，而其他相關參數（如 encoding）使用 None，會導致參數設計的不一致，讓使用者感到困惑。<br/><br/>\n",
    "            \n",
    "  * **newline**: 這是一個字串，控制文本模式下的換行符處理。預設值是 None，即讀取時，所有換行符 ('\\n', '\\r', '\\r\\n') 都會被轉換為 '\\n'；寫入時，'\\n' 會被轉換為系統預設的換行符。\n",
    "  * **closefd**: 這是一個布林值，指定是否在檔案物件被關閉時關閉底層的檔案描述符。預設值是 True，即關閉檔案描述符。通常用不到。\n",
    "  * **opener**:一個可呼叫的物件，用於自定義檔案的打開方式。通常用不到。"
   ]
  },
  {
   "cell_type": "markdown",
   "id": "a63d01cc",
   "metadata": {},
   "source": [
    "\n",
    "___\n",
    "\n",
    "#### **filename**\n",
    "  * filename 即要開啟的檔案名稱。也可以改成包含完整目錄結構的路徑（比如：**'./names.txt'**）。"
   ]
  },
  {
   "cell_type": "markdown",
   "id": "8f43860a",
   "metadata": {},
   "source": [
    "___\n",
    "\n",
    "#### **'r'** \n",
    "\n",
    "* `'r'` 表示以讀取 (read-only) 的方式開啟檔案。\n",
    "* `'r'` 技術上可以不設，因為 `'r'` 是 `open()` 的預設值。\n",
    "* 之所以寫 `'r'` 的理由如下：\n",
    "  1. 可讀性好：讓讀程式的人馬上知道這是「讀取」模式。\n",
    "  2. 一致性：當你有其他操作（像寫入 `'w'`、附加 `'a'`）時，習慣都加上會比較一致。\n",
    "  3. 明確性原則：Python 的設計哲學就是「明確比隱含好」，明示總是比較好理解。"
   ]
  },
  {
   "cell_type": "markdown",
   "id": "d94f8812",
   "metadata": {},
   "source": [
    "---"
   ]
  },
  {
   "cell_type": "markdown",
   "id": "e84e39a0",
   "metadata": {},
   "source": [
    "額外補充下，根據 Python 官方文件與主流教學資源，`open()` 的 `mode` 參數由主要操作符（基本模式）與修飾符（附加選項）組成。以下詳細列出全部主要操作符與修飾符及其說明：\n",
    "\n",
    "#### 主要操作符（基本模式）\n",
    "\n",
    "| 操作符 | 說明 |\n",
    "| :-- | :-- |\n",
    "| `'r'` | 只讀模式（read）。檔案必須存在，否則拋出錯誤。 |\n",
    "| `'w'` | 只寫模式（write）。檔案存在則清空，不存在則新建。 |\n",
    "| `'a'` | 追加模式（append）。檔案存在則從檔尾寫入，不存在則新建。 |\n",
    "| `'x'` | 排他性建立模式（exclusive creation）。僅建立新檔案，檔案已存在則拋出錯誤。 |\n",
    "\n",
    "\n",
    "\n",
    "#### 修飾符（附加選項）\n",
    "\n",
    "| 修飾符 | 說明 |\n",
    "| :-- | :-- |\n",
    "| `'b'` | 二進位模式（binary）。以 bytes 形式處理資料，常用於非文字檔案（如圖片、音訊等）。 |\n",
    "| `'t'` | 文字模式（text）。以文字方式處理資料（預設值），可省略。 |\n",
    "| `'+'` | 更新模式（updating）。允許同時讀寫檔案（如 `'r+'`、`'w+'`、`'a+'`）。 |\n",
    "| `'U'` | 通用換行模式（universal newline mode），**已棄用**，僅在舊版 Python 存在。 |\n",
    "\n",
    "\n",
    "#### 常見組合範例\n",
    "\n",
    "| 模式 | 說明 |\n",
    "| :-- | :-- |\n",
    "| `'r'` | 只讀文字模式（預設） |\n",
    "| `'rb'` | 只讀二進位模式 |\n",
    "| `'w'` | 只寫文字模式，清空或新建檔案 |\n",
    "| `'wb'` | 只寫二進位模式，清空或新建檔案 |\n",
    "| `'a'` | 追加文字模式 |\n",
    "| `'ab'` | 追加二進位模式 |\n",
    "| `'r+'` | 讀寫文字模式，檔案必須存在 |\n",
    "| `'w+'` | 讀寫文字模式，清空或新建檔案 |\n",
    "| `'a+'` | 追加讀寫文字模式，檔案不存在則新建，存在則從檔尾寫入 |\n",
    "| `'rb+'` | 讀寫二進位模式，檔案必須存在 |\n",
    "| `'wb+'` | 讀寫二進位模式，清空或新建檔案 |\n",
    "| `'ab+'` | 追加讀寫二進位模式，檔案不存在則新建，存在則從檔尾寫入 |\n",
    "| `'x'` | 排他性建立新檔案，只能寫入 |\n",
    "| `'xb'` | 排他性建立新檔案，只能寫入二進位資料 |\n",
    "\n",
    "\n",
    "#### 補充說明\n",
    "\n",
    "- **`'t'` 是預設值**，即 `open('file.txt', 'r')` 等同於 `open('file.txt', 'rt')`。\n",
    "- **`'b'` 必須明確指定**，用於處理非文字檔案。\n",
    "- **`'+'` 需與其他操作符組合**，才有讀寫功能。\n",
    "- **`'U'` 已棄用**，不建議再使用。\n",
    "\n",
    "\n",
    "#### **總結：**\n",
    "\n",
    "- 主要操作符：`'r'`、`'w'`、`'a'`、`'x'`\n",
    "- 修飾符：`'b'`、`'t'`、`'+'`、（`'U'` 已棄用）\n",
    "- 可依需求組合使用，決定檔案的開啟、讀寫、建立、追加及資料型態處理方式。"
   ]
  },
  {
   "cell_type": "markdown",
   "id": "28ca83d5",
   "metadata": {},
   "source": [
    "---"
   ]
  },
  {
   "cell_type": "markdown",
   "id": "7c527307",
   "metadata": {},
   "source": [
    "另外，以下用表格方式補充說明各模式對原始程式碼的影響。"
   ]
  },
  {
   "cell_type": "markdown",
   "id": "23f4d204",
   "metadata": {},
   "source": [
    "| 模式 | 名稱 | 對原始程式碼的影響 | 是否適合此函式？ |\n",
    "|------|------|---------------|------------------|\n",
    "| `'r'` | 讀取模式 | ✔ 正常讀取檔案（預設），若檔案不存在會報錯。 | ✅ **適合** |\n",
    "| `'w'` | 寫入模式 | ⚠️ 檔案內容會被清空，`for line in file` 讀不到任何內容，`names` 為空，程式會回傳「姓名數量少於3個」。 | ❌ 不適合 |\n",
    "| `'a'` | 附加模式 | ⚠️ 不能讀取，只能寫入，`for line in file` 會報錯（io.UnsupportedOperation: not readable）。 | ❌ 不適合 |\n",
    "| `'x'` | 排他建立模式 | ⚠️ 若檔案已存在會報錯（FileExistsError），不存在則新建空檔，`names` 為空，程式回傳「姓名數量少於3個」。 | ❌ 不適合 |\n",
    "| `'r+'` | 讀寫模式 | ✔ 可讀寫，但檔案必須存在。若只是讀取不進行寫入操作的話，則與 'r' 相同，可正常運作。 | ⚠️ **可行但多餘** |\n",
    "| `'w+'` | 讀寫模式（清空） | ⚠️ 檔案會被清空 → `names` 會變空清單 → 程式會回傳「姓名數量少於3個」。 | ❌ 不適合 |\n",
    "| `'a+'` | 附加 + 讀寫 | ⚠️ 可讀寫，但檔案指標預設在檔尾，直接讀取時會讀不到內容 → 須額外添加 `file.seek(0)` 才能讀內容，否則 names 為空。 | ❌ 不適合原寫法 |\n",
    "| `'x+'` | 建立新檔 + 讀寫 | ⚠️ 若檔案已存在會報錯（FileExistsError），不存在則新建空檔，names 為空，程式回傳「姓名數量少於3個」。 → 無姓名可讀。 | ❌ 不適合 |\n",
    "| `'rb'` | 讀取 + 二進位 | ❌ 讀取的是 bytes，不能用 `.strip()` → 會出現型態錯誤（TypeError），程式無法正常運作。 | ❌ 不適合 |\n",
    "| `'wb'` | 寫入 + 二進位 | ❌ 檔案內容被清空且無法讀取。 `for line in file` 會報錯。 | ❌ 不適合 |\n",
    "| `'ab'` | 附加 + 二進位 | ❌ 不能讀取，且是以二進位開啟。`for line in file` 會報錯。 | ❌ 不適合 |\n",
    "| `'xb'` | 建立 + 二進位 | ❌ 不能讀取，且開新檔；檔案存在的話會報錯。 | ❌ 不適合 |\n",
    "| `'rb+'` | 讀寫 + 二進位 | ❌ 雖能讀寫，但回傳 bytes → `.strip()` 報錯。 | ❌ 不適合 |\n",
    "| `'wb+'` | 讀寫 + 二進位（清空） | ❌ 檔案被清空，讀的是 bytes → 出錯。 | ❌ 不適合 |\n",
    "| `'ab+'` | 附加 + 二進位 + 讀 | ❌ 可讀，但指標在尾端，且資料是 bytes。 | ❌ 不適合 |\n",
    "| `'xb+'` | 建立 + 二進位 + 讀寫 | ❌ 新建空檔、回傳 bytes → 報錯或空。 | ❌ 不適合 |"
   ]
  },
  {
   "cell_type": "markdown",
   "id": "3064c2f8",
   "metadata": {},
   "source": [
    "#### 補充說明\n",
    "* 只要不是純文字讀取（`'r'` 或 `'r+'`）模式，這支程式幾乎都無法正常運作。\n",
    "\n",
    "* 二進位模式（b）下，讀出的是 bytes 物件，`line.strip()` 會出現型態錯誤。\n",
    "\n",
    "* 寫入模式（w、a、x）下，檔案內容會被清空或無法讀取，導致 `names` 為空或報錯。\n",
    "\n",
    "* `'a+'` 理論上可讀可寫，但預設指標在檔尾，需加 `file.seek(0)` 才能正確讀取。"
   ]
  },
  {
   "cell_type": "markdown",
   "id": "65c3587e",
   "metadata": {},
   "source": [
    "#### 總結說明：\n",
    "  * 原始程式碼需讀取檔案內容，所以必須使用允許讀取的模式（如 `'r'` 或 `'r+'`）。\n",
    "  * 若改為 `'w'`、`'a'`、`'x'`、`'w+'`、`'a+'` 等，會因為檔案內容被清空、無法讀取、指標位置錯誤或型態錯誤，導致原始程式碼無法正常運作。\n",
    "  * 建議：\n",
    "      + 若只需讀取，請使用 `'r'`；若需同時讀寫且檔案必須存在，可用 `'r+'`。\n",
    "      + 如果未來想要「讀檔後寫入新內容」或「建立新檔」，那就可以考慮其他模式。不過對於單純讀取資料並抽取隨機姓名的情況，用 `'r'` 是最佳選擇。"
   ]
  },
  {
   "cell_type": "markdown",
   "id": "a0e75a5c",
   "metadata": {},
   "source": [
    "---"
   ]
  },
  {
   "cell_type": "markdown",
   "id": "2f4088d1",
   "metadata": {},
   "source": [
    "\n",
    "### **encoding='utf-8'** \n",
    "\n",
    "* 指定了檔案的字元編碼為 UTF-8。UTF-8 是一種最通用且能處理多語言字元的編碼，能夠處理各種語言的文字，包括中文，這樣可以確保程式正確讀取包含中文姓名的檔案。"
   ]
  },
  {
   "cell_type": "markdown",
   "id": "ada05279",
   "metadata": {},
   "source": [
    "##### 若將 `encoding='utf-8'` 改成 `encoding=None` （即預設值）時，會有以下影響：\n",
    "\n",
    "##### 1. **使用系統預設編碼**\n",
    "\n",
    "- 當 `encoding` 參數設為 `None`（或完全省略），Python 會根據**作業系統的預設編碼**來讀取檔案，而不是強制使用 UTF-8 編碼。\n",
    "    - 在大多數英文 Windows 系統上，預設編碼可能是 `cp1252` 或 `mbcs`。\n",
    "    - 在 macOS、Linux 及新版 Windows（特別是設定為 UTF-8 的地區），預設編碼通常是 `utf-8`。\n",
    "- 這個預設值是透過 `locale.getpreferredencoding(False)` 取得的。\n",
    "\n",
    "#### 2. **可能導致編碼錯誤或亂碼**\n",
    "\n",
    "- **如果你的檔案本身是 UTF-8 編碼**，但系統預設編碼不是 UTF-8，則讀取時可能出現亂碼或 `UnicodeDecodeError`（尤其是檔案內有非 ASCII 字元時）。\n",
    "- **如果檔案和系統預設編碼一致**，則通常可以正常讀取，不會有問題。\n",
    "\n",
    "#### 3. **跨平台行為不一致**\n",
    "\n",
    "- 不同作業系統、不同地區設定下，`encoding=None` 的行為會不一樣，導致程式在不同電腦上有時能正常運作、有時卻發生亂碼或錯誤。\n",
    "- 這會降低程式的可攜性與穩定性。\n",
    "\n",
    "#### 4. **可能發生的錯誤狀況**\n",
    "\n",
    "| 狀況 | 結果 |\n",
    "|------|------|\n",
    "| `names.txt` 是 UTF-8 編碼 | 在 Windows 使用 `encoding=None` 可能會出現亂碼或報錯 |\n",
    "| `names.txt` 是 Big5 編碼（舊 Windows 檔案） | 使用 `utf-8` 會觸發 `UnicodeDecodeError` |\n",
    "| 檔案內含非英文字（如中文、日文） | 未指定 `encoding` 容易造成錯誤或亂碼 |\n",
    "| 在 Windows 上移植別人寫的 UTF-8 程式 | 如果沒設 `encoding='utf-8'`，很容易壞掉 |\n",
    "\n",
    "#### 5.**總結**：\n",
    "\n",
    "- `encoding=None` 會讓 Python 使用系統預設編碼來解碼檔案。\n",
    "- 這可能導致跨平台亂碼或錯誤，降低程式穩定性。\n",
    "- **建議明確指定 encoding，除非你完全確定檔案與系統預設編碼一致。**"
   ]
  },
  {
   "cell_type": "markdown",
   "id": "5c91ab5f",
   "metadata": {},
   "source": [
    "---"
   ]
  },
  {
   "cell_type": "code",
   "execution_count": null,
   "id": "006735dc",
   "metadata": {},
   "outputs": [],
   "source": [
    "names = [line.strip() for line in file]"
   ]
  },
  {
   "cell_type": "markdown",
   "id": "7d7bc27b",
   "metadata": {},
   "source": [
    "#### 這一行程式碼使用了一個列表推導式 (list comprehension) 來從檔案物件 **file** 中讀取每一行，將每行內容去除首尾空白字符，然後將其儲存到一個名為 **names** 的列表 (list) 中。"
   ]
  },
  {
   "cell_type": "markdown",
   "id": "b816483d",
   "metadata": {},
   "source": [
    "所謂的 **列表推導式（list comprehension）** 是 Python 中一種簡潔且強大的語法，用來從現有資料快速產生新的列表（list），不需要傳統的多行 for 迴圈。它讓你可以用一行語法，根據條件或運算，對原有資料進行轉換、過濾或重組。\n",
    "\n",
    "#### 基本語法\n",
    "\n",
    "```python\n",
    "[表達式 for 變數 in 可迭代物件 if 條件]\n",
    "```\n",
    "\n",
    "- **表達式**：對每個元素進行處理的運算式。\n",
    "- **變數**：代表每次迭代時取得的元素。\n",
    "- **可迭代物件**：如列表、元組、字串、range 等。\n",
    "- **if 條件**（可選）：用來過濾元素，只有符合條件的元素才會被處理。\n",
    "\n",
    "\n",
    "#### 範例\n",
    "\n",
    "1. **將列表元素平方：**\n",
    "\n",
    "```python\n",
    "numbers = [1, 2, 3, 4, 5]\n",
    "squared = [x**2 for x in numbers]\n",
    "# 結果: [1, 4, 9, 16, 25]\n",
    "```\n",
    "\n",
    "2. **字串轉大寫：**\n",
    "\n",
    "```python\n",
    "fruits = [\"apple\", \"banana\", \"orange\"]\n",
    "uppercased = [fruit.upper() for fruit in fruits]\n",
    "# 結果: [\"APPLE\", \"BANANA\", \"ORANGE\"]\n",
    "```\n",
    "\n",
    "#### 優點\n",
    "\n",
    "- **語法簡潔，易讀易寫**\n",
    "- **可結合運算與條件過濾**\n",
    "- **效率高，適合資料轉換與過濾**\n",
    "\n",
    "\n",
    "#### 小結\n",
    "\n",
    "列表推導式讓你能用簡單的語法，快速建立、轉換或過濾列表，是 Python 資料處理中非常實用的技巧。"
   ]
  },
  {
   "cell_type": "markdown",
   "id": "02c53cb4",
   "metadata": {},
   "source": [
    "---"
   ]
  },
  {
   "cell_type": "markdown",
   "id": "46ea4f52",
   "metadata": {},
   "source": [
    "額外補充，在 Python 中，**不同的括號代表不同的資料型態**：\n",
    "\n",
    "#### 括號與資料型態對照\n",
    "\n",
    "| 括號類型 | 資料型態 | 用途與特點 |\n",
    "| :-- | :-- | :-- |\n",
    "| `[]` | 列表（List） | 可變動、有序的元素集合，可以新增、刪除、修改元素。<br>例如：`my_list =[1,2,3]` |\n",
    "| `()` | 元組（Tuple） | 不可變動、有序的元素集合，建立後不能更改內容。<br>例如：`my_tuple = (1, 2, 3)`<br>注意：只有一個元素時需加逗號，如 `(1,)` |\n",
    "| `{}` | 字典（Dict）或集合（Set） | <ul><li>**字典**：鍵值對的無序集合，例如：`my_dict = {'a': 1, 'b': 2}`</li><li>**集合**：唯一元素的無序集合，例如：`my_set = {1, 2, 3}`（當內容全是鍵時）</li></ul> |\n",
    "\n",
    "\n",
    "#### 補充說明\n",
    "\n",
    "- **列表（List）**：用方括號 `[]`，內容可修改，適合需要動態增減元素的情境。\n",
    "- **元組（Tuple）**：用小括號 `()`，內容不可修改，適合需要保護資料不被更動的情境。\n",
    "- **字典（Dict）**：用大括號 `{}`，以鍵值對形式儲存資料，查詢效率高。\n",
    "- **集合（Set）**：用大括號 `{}`，只存唯一元素，沒有順序，常用於去重或集合運算。\n",
    "\n",
    "#### 總結\n",
    "\n",
    "- `[]`：列表（List）\n",
    "- `()`：元組（Tuple）\n",
    "- `{}`：字典（Dict）或集合（Set）"
   ]
  },
  {
   "cell_type": "markdown",
   "id": "79084c64",
   "metadata": {},
   "source": [
    "---"
   ]
  },
  {
   "cell_type": "markdown",
   "id": "4a5a9641",
   "metadata": {},
   "source": [
    "#### **names = [　]** :\n",
    "  * 方括號表示創建一個新的 list。這裡代表創建一個名叫 names 的 list。由於題目要求「將文字儲存於list內」，因此才創建這個 list。\n",
    "  * 搭配方括號內的語法，形成了一個列表推導式（list comprehension）。\n",
    "\n",
    "#### **line.strip()** :\n",
    "\n",
    "  * 對於讀取的每一行 line，**strip()** 方法會移除該行開頭和結尾的空白字元，例如換行符號 (\\n)、空格和 Tab 鍵。這樣可以確保我們得到的姓名列表中不包含多餘的空白。\n",
    "  * strip() 是 Python 字串（string）物件常用的方法，用於移除字串開頭和結尾的指定字符（預設為空白符號），但不會影響字串中間的內容。\n",
    "  * 其基本語法為："
   ]
  },
  {
   "cell_type": "code",
   "execution_count": null,
   "id": "6e9a6a4b",
   "metadata": {},
   "outputs": [],
   "source": [
    "str.strip([chars])"
   ]
  },
  {
   "cell_type": "markdown",
   "id": "16f3ab74",
   "metadata": {},
   "source": [
    "  * str：要處理的字串物件。\n",
    "  * chars（可選）：要移除的字符序列。如果省略，預設移除所有空白符號（如空格、換行、Tab 等）。"
   ]
  },
  {
   "cell_type": "markdown",
   "id": "50ea2962",
   "metadata": {},
   "source": [
    "#### 功能說明\n",
    "\n",
    "- `strip()` 會從**字串的頭尾**開始，依序移除所有在 `chars` 參數中的字符，直到遇到第一個不屬於 `chars` 的字符為止。\n",
    "- 如果不帶參數，則移除所有空白字符（包括空格、`\\n`、`\\t` 等）。\n",
    "- **注意：** 只會處理開頭和結尾，不會處理字串中間的字符。\n",
    "\n",
    "\n",
    "#### 參數說明\n",
    "\n",
    "- **chars**：可以是一個或多個字符，strip 會將頭尾所有屬於這些字符的部分都去除。\n",
    "    - 例如 `strip('12')` 會把頭尾所有 `1` 和 `2` 都去除，不論順序。\n",
    "\n",
    "\n",
    "#### 回傳值\n",
    "\n",
    "- 回傳一個**新的字串**，原本的字串不會被改變。\n",
    "\n",
    "\n",
    "#### 範例\n",
    "\n",
    "```python\n",
    "s = \"   Hello, World!  \\n\"\n",
    "print(s.strip())  # 輸出：'Hello, World!'\n",
    "\n",
    "s2 = \"0001234000\"\n",
    "print(s2.strip('0'))  # 輸出：'1234'\n",
    "\n",
    "s3 = \"123abcrunoob321\"\n",
    "print(s3.strip('12'))  # 輸出：'3abcrunoob3'\n",
    "```\n",
    "\n",
    "- 第一個例子移除頭尾所有空白和換行。\n",
    "- 第二個例子移除頭尾所有 `0`。\n",
    "- 第三個例子移除頭尾所有 `1` 或 `2`，直到遇到不是這些字元為止。\n",
    "\n",
    "#### 注意事項\n",
    "\n",
    "- 只會移除**頭尾**的指定字符，不會移除字串中間的字符。\n",
    "- `chars` 參數中的每個字元都會被視為可移除的對象，**不是當作一個整體序列**。\n",
    "\n",
    "\n",
    "#### 總結：\n",
    "`strip()` 用於去除字串頭尾的特定字符（預設為空白），語法為 `str.strip([chars])`，只影響頭尾，不影響中間內容。"
   ]
  },
  {
   "cell_type": "markdown",
   "id": "abba326e",
   "metadata": {},
   "source": [
    "\n",
    "\n",
    "#### **for line in file** :\n",
    "\n",
    "  * 此程式碼的意思是逐行讀取檔案中的每一行。即用 **for 迴圈**來逐行讀取。每次迴圈，**line** 這個變數就會取得檔案中的一行字串（包含換行符號），直到檔案結束為止。"
   ]
  },
  {
   "cell_type": "markdown",
   "id": "9de26d97",
   "metadata": {},
   "source": [
    "Python 的 `for` 迴圈是一種用來**重複執行特定程式碼區塊，並依序處理可迭代物件（如清單、字串、元組、字典、集合、範圍等）中每個元素**的流程控制語法。\n",
    "\n",
    "#### 基本語法"
   ]
  },
  {
   "cell_type": "code",
   "execution_count": null,
   "id": "3dbcb235",
   "metadata": {},
   "outputs": [],
   "source": [
    "for 變數 in 可迭代物件:\n",
    "    執行程式碼"
   ]
  },
  {
   "cell_type": "markdown",
   "id": "b25134cd",
   "metadata": {},
   "source": [
    "| 組成部分 | 說明 |\n",
    "|------|------|\n",
    "| `for` | Python 的關鍵字，表示進入 for 迴圈 |\n",
    "| `變數` | 每次迴圈時，會依序取得可迭代物件中的一個元素，並賦值給這個變數 |\n",
    "| `in` | 關鍵字，表示從後面的可迭代物件中取值 |\n",
    "| `可迭代物件` | 可以逐一取出元素的資料結構，例如清單（list）、字串（str）、元組（tuple）、字典（dict）、集合（set）、範圍（range）等。 |\n",
    "| `:` | 冒號，表示下面是要執行的區塊 |\n",
    "| **執行程式碼** | 這是每次迴圈對每個元素執行的內容對每個元素，**必須縮排**（通常 4 個空白） |"
   ]
  },
  {
   "cell_type": "markdown",
   "id": "f7d9e857",
   "metadata": {},
   "source": [
    "##### 執行流程\n",
    "\n",
    "1. 依序從可迭代物件中取出每個元素。\n",
    "2. 每次將元素賦值給變數。\n",
    "3. 執行縮排區塊內的程式碼。\n",
    "4. 直到所有元素都處理完畢，迴圈結束。\n",
    "\n",
    "\n",
    "##### 範例\n",
    "\n",
    "**1. 遍歷清單（list）**\n",
    "\n",
    "```python\n",
    "fruits = [\"apple\", \"banana\", \"orange\"]\n",
    "for fruit in fruits:\n",
    "    print(fruit)\n",
    "# 輸出：\n",
    "# apple\n",
    "# banana\n",
    "# orange\n",
    "```\n",
    "\n",
    "**2. 遍歷字串（str）**\n",
    "\n",
    "```python\n",
    "message = \"Hello\"\n",
    "for char in message:\n",
    "    print(char)\n",
    "# 輸出：\n",
    "# H\n",
    "# e\n",
    "# l\n",
    "# l\n",
    "# o\n",
    "```\n",
    "\n",
    "##### 小結\n",
    "\n",
    "- `for` 迴圈可用來**依序處理集合、序列或其他可迭代物件中的每個元素**。\n",
    "- 語法簡潔、易讀，是 Python 最常用的重複執行工具之一。"
   ]
  },
  {
   "cell_type": "markdown",
   "id": "dd31e64a",
   "metadata": {},
   "source": [
    "---"
   ]
  },
  {
   "cell_type": "markdown",
   "id": "1740330d",
   "metadata": {},
   "source": [
    "#### 總結來說，在 `names = [line.strip() for line in file]` 這行程式碼中：\n",
    "* `file` 代表您打開的 `names.txt` 檔案物件。\n",
    "* `for line in file` 表示程式正在逐行讀取這個檔案的內容。\n",
    "* `line` 是一個臨時變數，在每次迭代中，它會儲存檔案中的當前行的字串內容（包括行尾的換行符）。 \n",
    "    * 補充下，可以將 `line` 換成任何其他有效的 Python 變數名稱，例如 `apple` 、 `banana` 等，程式碼的邏輯和功能都可以保持不變。只是使用一個有意義的變數名稱（例如 `line` 表示檔案的一行）可以使程式碼更容易理解。\n",
    "* `line.strip()` 用於移除當前行字串首尾的空白字元。\n",
    "    * 補充下，若將 `for line in file` 改為 `for apple in file`，`line.strip()` 須改為 `apple.strip()`。變數名稱需統一。\n",
    "* 整個列表推導式的作用是讀取檔案中的每一行，去除每行首尾的空白，然後將處理後的每一行（姓名）添加到一個新的列表 `names` 中。"
   ]
  },
  {
   "cell_type": "markdown",
   "id": "82907250",
   "metadata": {},
   "source": [
    "---"
   ]
  },
  {
   "cell_type": "code",
   "execution_count": null,
   "id": "ff212a86",
   "metadata": {},
   "outputs": [],
   "source": [
    "except FileNotFoundError:\n",
    "    return \"找不到檔案：names.txt\""
   ]
  },
  {
   "cell_type": "markdown",
   "id": "6cc78fe0",
   "metadata": {},
   "source": [
    "#### **except FileNotFoundError:**\n",
    "* 這段程式碼的作用是：開始一個 except 區塊 (except block)，用於捕獲特定的例外情況 **FileNotFoundError**。當 try 區塊中的 open(filename, 'r', encoding='utf-8') 語句因為找不到指定的檔案而引發 **FileNotFoundError** 時，程式會跳到這個 except 區塊中的程式碼執行。"
   ]
  },
  {
   "cell_type": "markdown",
   "id": "5ca5a494",
   "metadata": {},
   "source": [
    "#### **return \"找不到檔案：names.txt\"**\n",
    "*  如果捕獲到 FileNotFoundError，這一行程式碼會返回 (return) 一個錯誤訊息的字串 (string)，告知使用者「找不到檔案：names.txt」。"
   ]
  },
  {
   "cell_type": "markdown",
   "id": "6bf7b37d",
   "metadata": {},
   "source": [
    "---"
   ]
  },
  {
   "cell_type": "code",
   "execution_count": null,
   "id": "b7d69e65",
   "metadata": {},
   "outputs": [],
   "source": [
    "except UnicodeDecodeError:\n",
    "    return \"檔案編碼錯誤，請確認檔案是 UTF-8 編碼格式。\""
   ]
  },
  {
   "cell_type": "markdown",
   "id": "139eb113",
   "metadata": {},
   "source": [
    "#### **except UnicodeDecodeError**\n",
    "* 這一行程式碼的作用是：開始一個 except 區塊 (except block)，用於捕獲特定的例外情況 **UnicodeDecodeError**。當使用 open(filename, 'r', encoding='utf-8') 開啟檔案時，Python 會嘗試用 UTF-8 編碼來解讀檔案內容。如果檔案實際上不是 UTF-8 編碼（例如是 Big5、GBK、ANSI 等），在讀取過程中就會發生 UnicodeDecodeError。程式便會跳到這個 except 區塊中的程式碼執行。"
   ]
  },
  {
   "cell_type": "markdown",
   "id": "3a35bbc8",
   "metadata": {},
   "source": [
    "#### **return \"檔案編碼錯誤，請確認檔案是 UTF-8 編碼格式。\"**\n",
    "*  如果捕獲到 UnicodeDecodeError，這一行程式碼會返回 (return) 一個錯誤訊息的字串 (string)，告知使用者「檔案編碼錯誤，請確認檔案是 UTF-8 編碼格式。」。"
   ]
  },
  {
   "cell_type": "markdown",
   "id": "46d4ada0",
   "metadata": {},
   "source": [
    "---"
   ]
  },
  {
   "cell_type": "code",
   "execution_count": null,
   "id": "74dd4719",
   "metadata": {},
   "outputs": [],
   "source": [
    "except PermissionError:\n",
    "    return \"沒有權限讀取 names.txt，請檢查檔案權限。\""
   ]
  },
  {
   "cell_type": "markdown",
   "id": "1a8860af",
   "metadata": {},
   "source": [
    "#### **except PermissionError**\n",
    "* 這一行程式碼的作用是：開始一個 except 區塊 (except block)，用於捕獲特定的例外情況 **PermissionError**。當使用 open(filename, 'r', encoding='utf-8') 開啟一個沒有讀取權限的檔案時（例如檔案屬於其他用戶、檔案被鎖定）。程式便會跳到這個 except 區塊中的程式碼執行。"
   ]
  },
  {
   "cell_type": "markdown",
   "id": "3e23089c",
   "metadata": {},
   "source": [
    "#### **return \"沒有權限讀取 names.txt，請檢查檔案權限。\"**\n",
    "*  如果捕獲到 PermissionError，這一行程式碼會返回 (return) 一個錯誤訊息的字串 (string)，告知使用者「沒有權限讀取 names.txt，請檢查檔案權限。」。"
   ]
  },
  {
   "cell_type": "markdown",
   "id": "13033e8b",
   "metadata": {},
   "source": [
    "---"
   ]
  },
  {
   "cell_type": "code",
   "execution_count": null,
   "id": "cd12b9dd",
   "metadata": {},
   "outputs": [],
   "source": [
    "except Exception as e:\n",
    "    return f\"讀取檔案時發生未預期的錯誤：{str(e)}\""
   ]
  },
  {
   "cell_type": "markdown",
   "id": "3d41fc09",
   "metadata": {},
   "source": [
    "#### **except Exception as e**:\n",
    "* 這一行的作用是：開始另一個 except 區塊。因為前面3個 except 區塊已處理繼承自 Exception 類別的例外錯誤 FileNotFoundError 、 UnicodeDecodeError 跟 PermissionError。故這個 except 區塊是捕獲上述3種錯誤之外，所有其他繼承自 Exception 類別的例外錯誤（也就是大多數常見錯誤。例如：ValueError, TypeError 等等），並將該錯誤儲存到變數 e 裡，讓使用者能夠在後續的程式中存取與使用錯誤細節。\n",
    "* 使用 as e 保存異常資訊，以便在錯誤訊息中提供更多細節。\n",
    "* Exception 是一個內建的類別 (class)，是 Python 中所有非系統退出異常的基底類別。它代表程式執行期間發生的錯誤或不正常事件。大多數常見的例外（如 FileNotFoundError、TypeError、ValueError 等）都是 Exception 的子類。"
   ]
  },
  {
   "cell_type": "markdown",
   "id": "14618632",
   "metadata": {},
   "source": [
    "#### **return f\"讀取檔案時發生未預期的錯誤：{str(e)}\"**\n",
    "* 如果捕獲到 Exception，這一行程式碼會使用一個 f-string (formatted string literal) 來創建一個包含錯誤訊息的字串，並將其返回。str(e) 會將捕獲到的例外物件 e 轉換為一個易於閱讀的字串，以便向使用者提供更具體的錯誤描述。\n",
    "\n",
    "    * **f\"...\"**:\n",
    "      * 這是一個f-string（格式化字串），是 Python 3.6 以後提供的功能。它允許在字串中直接嵌入變數或表達式。讓訊息的組裝更直覺、更簡潔。\n",
    "\n",
    "    * **讀取檔案時發生未預期的錯誤：** ：\n",
    "      * 這是 f-string 中的一部分靜態文字 (literal text)。它是一個普通的字串，會被直接包含在最終返回的字串中。\n",
    "\n",
    "    * **{str(e)}**\n",
    "      * e 是先前在 except Exception as e 中捕獲到的例外物件。str(e) 表示會把這個錯誤物件轉成字串形式（通常就是錯誤描述），例如：'Permission denied' 或 'invalid encoding'。\n",
    "      * 嵌入大括號中，表示要把它插進 f-string。"
   ]
  },
  {
   "cell_type": "markdown",
   "id": "43072b0a",
   "metadata": {},
   "source": [
    "___"
   ]
  },
  {
   "cell_type": "markdown",
   "id": "f3fca1c4",
   "metadata": {},
   "source": [
    "補充說明下，即便只寫 except Exception as e: 這個區塊的程式碼，不寫其他3個 except 區塊也可以正常捕獲錯誤，之所以要把 FileNotFoundError 、 UnicodeDecodeError 跟 PermissionError 從 Exception 中獨立出來處理的理由是：\n",
    "  + 提供更具針對性的錯誤訊息。\n",
    "  + 有助於區分這3種錯誤與其他類型的錯誤，避免錯誤訊息模糊不清。\n",
    "  + 提升程式碼的可讀性，使維護更容易。\n",
    "\n",
    "這3種錯誤是在這段程式碼中，**合理預期較有可能會發生的錯誤**。雖然將其包含在 except Exception as e: 中也能捕獲到這些錯誤，但提供的錯誤訊息可能不夠直接和友好。因此才將其獨立出來，提供使用者清晰的錯誤訊息，方便進行更精確的處理。\n",
    "\n",
    "比如，不將 FileNotFoundError 獨立出來，遇到該類型錯誤，即找不到 names.txt 這個檔案時，程式會顯示出以下字串：\n",
    "\n",
    "       `讀取檔案時發生未預期的錯誤：[Errno 2] No such file or directory: 'name1.txt'`\n",
    "\n",
    "而這串錯誤訊息跟原先設定的相比，顯然不夠直接和友好。\n",
    "\n",
    "       `找不到檔案：\"names.txt\"`\n",
    "\n",
    "總結：\\\n",
    "**因為是合理預期較有可能會發生的錯誤，才將其獨立出來處理。若發生錯誤，能讓使用者清楚了解發生什麼錯誤，進行相應的處理。至於其他可能性較小的錯誤，則交給  `except Exception as e:` 處理。**\n",
    "___"
   ]
  },
  {
   "cell_type": "code",
   "execution_count": null,
   "id": "d51cf499",
   "metadata": {},
   "outputs": [],
   "source": [
    "if len(names) < 3:\n",
    "    return \"姓名數量少於3個，請檢查 names.txt 檔案。\""
   ]
  },
  {
   "cell_type": "markdown",
   "id": "7d4d9b33",
   "metadata": {},
   "source": [
    "#### **if len(names) < 3:**\n",
    "* 這一行程式碼使用一個 if 語句來檢查從檔案中讀取的姓名列表 names 的長度 (length) 是否小於 3。因為如果讀入的姓名總數少於 3 個，無法進行隨機抽 3 個姓名的操作。\n",
    "* 在 Python 中，len() 是一個內建函式（built-in function），用來 計算序列（如字串、列表、元組）或其他可迭代物件的長度。它的作用是回傳該物件中元素的數量。\n",
    "* 因此， len(names) 是用於獲取 names 這個 list 中元素的個數。"
   ]
  },
  {
   "cell_type": "markdown",
   "id": "6a82f283",
   "metadata": {},
   "source": [
    "* len() 的基本語法為："
   ]
  },
  {
   "cell_type": "code",
   "execution_count": null,
   "id": "c3cb2077",
   "metadata": {},
   "outputs": [],
   "source": [
    "len(s)"
   ]
  },
  {
   "cell_type": "markdown",
   "id": "43f60fbb",
   "metadata": {},
   "source": [
    "  s (可迭代物件) 可以是：\n",
    "   * 字串 (str) → 計算字元數\n",
    "   * 列表 (list) → 計算元素數量\n",
    "   * 元組 (tuple) → 計算元素數量\n",
    "   * 字典 (dict) → 計算鍵值對數量\n",
    "   * 集合 (set) → 計算元素數量\n",
    "   * 範圍 (range) → 計算範圍內的數量"
   ]
  },
  {
   "cell_type": "markdown",
   "id": "27e12f52",
   "metadata": {},
   "source": [
    "#### **return \"姓名數量少於3個，請檢查 names.txt 檔案。\"**\n",
    "*  如果檔案中的姓名數量少於3個，這一行程式碼會 return 一個錯誤訊息的字串 (string)，告知使用者「姓名數量少於3個，請檢查 names.txt 檔案。」。"
   ]
  },
  {
   "cell_type": "markdown",
   "id": "e8620262",
   "metadata": {},
   "source": [
    "---"
   ]
  },
  {
   "cell_type": "markdown",
   "id": "62da2a73",
   "metadata": {},
   "source": [
    "#### 額外補充：Python 中 if、elif、else 的語法與意義\n",
    "\n",
    "在 Python 中，`if`、`elif`、`else` 是用來進行**條件判斷與分支選擇**的基本語法。這讓程式可以根據不同條件，執行不同的程式碼區塊，是流程控制的重要工具。\n",
    "\n",
    "### 1. if 的基本語法與意義\n",
    "\n",
    "- **語法**：\n",
    "\n",
    "```python\n",
    "if 條件表達式:\n",
    "    # 條件成立時執行的程式碼（需縮排）\n",
    "```\n",
    "\n",
    "- **意義**：\n",
    "`if` 判斷就像「如果……，就……」。當條件表達式的結果為 `True`，就會執行縮排區塊內的程式碼，否則跳過不執行，繼續往下執行程式。\n",
    "- **範例**：\n",
    "\n",
    "```python\n",
    "a = 2\n",
    "b = 3\n",
    "if a > b:\n",
    "    print('a 大於 b')\n",
    "print('這行一定會執行')\n",
    "```\n",
    "\n",
    "**說明**：\n",
    "* `if a > b:` 判斷條件是否成立。\n",
    "* 如果條件為 `True`，執行縮排內的程式碼（這裡是 `print('a 大於 b')`）。\n",
    "* 如果條件為 `False`，跳過 `if` 區塊，繼續往下執行。\n",
    "* `print('這行一定會執行')` 不受 `if` 控制，無論條件如何都會執行。\n",
    "\n",
    "\n",
    "### 2. if…else 結構\n",
    "\n",
    "- **語法**：\n",
    "\n",
    "```python\n",
    "if 條件表達式:\n",
    "    # 條件成立時執行\n",
    "else:\n",
    "    # 條件不成立時執行\n",
    "```\n",
    "\n",
    "- **意義**：\n",
    "當 `if` 條件為 False 時，會執行 `else` 區塊內的程式碼。\n",
    "- **範例**：\n",
    "\n",
    "```python\n",
    "score = 70\n",
    "if score >= 60:\n",
    "    print('及格')\n",
    "else:\n",
    "    print('不及格')\n",
    "```\n",
    "\n",
    "**說明：**\n",
    "* 先判斷 `score >= 60`是否為 `True`。\n",
    "* 如果為 `True`，執行 `print('及格')`。\n",
    "* 如果為 `False`，執行 `else` 區塊內的 `print('不及格')`。\n",
    "* 這種結構保證兩者必執行其一。\n",
    "\n",
    "### 3. if…elif…else 結構（多重條件判斷）\n",
    "\n",
    "- **語法**：\n",
    "\n",
    "```python\n",
    "if 條件1:\n",
    "    # 條件1成立時執行\n",
    "elif 條件2:\n",
    "    # 條件2成立時執行\n",
    "elif 條件3:\n",
    "    # 條件3成立時執行\n",
    "else:\n",
    "    # 以上條件都不成立時執行\n",
    "```\n",
    "\n",
    "- **意義**：\n",
    "當有多個條件需要判斷時，可以用 `elif`（「else if」的縮寫）來依序檢查。只會有一個區塊被執行，從上到下遇到第一個成立的條件就執行對應內容，之後的條件不再檢查。\n",
    "- **範例**：\n",
    "\n",
    "```python\n",
    "score = 85\n",
    "if score >= 90:\n",
    "    print('A')\n",
    "elif score >= 80:\n",
    "    print('B')\n",
    "elif score >= 70:\n",
    "    print('C')\n",
    "else:\n",
    "    print('D')\n",
    "```\n",
    "\n",
    "**說明：**\n",
    "* 依序判斷每個條件（從上到下）。\n",
    "* 第一個條件 `score >= 90` 不成立，檢查下一個 `score >= 80`，這裡成立，執行 `print('B')`。\n",
    "* 執行完畢後，不會再檢查後續條件。\n",
    "* 如果所有條件都不成立，才會執行 `else` 區塊。\n",
    "\n",
    "### 4. 可以只寫 if、elif、else 嗎？\n",
    "\n",
    "- **只寫 if**：可以。當只需要在條件成立時做事，其餘情況不處理時，只寫 if 即可。\n",
    "\n",
    "```python\n",
    "if x > 0:\n",
    "    print('x 是正數')\n",
    "```\n",
    "\n",
    "- **只寫 elif**：不可以。`elif` 必須和前面的 `if` 搭配，不能單獨出現。否則會出現語法錯誤（SyntaxError）。\n",
    "\n",
    "```python\n",
    "# 錯誤寫法\n",
    "elif x > 0:\n",
    "    print('x 是正數')\n",
    "# 會出現 SyntaxError: invalid syntax\n",
    "```\n",
    "\n",
    "- **只寫 else**：不可以。`else` 也必須和 `if` 或 `elif` 搭配，不能單獨出現，否則會出現語法錯誤。\n",
    "\n",
    "```python\n",
    "# 錯誤寫法\n",
    "else:\n",
    "    print('這樣寫會出錯')\n",
    "# 會出現 SyntaxError: invalid syntax\n",
    "```\n",
    "\n",
    "### 5. 其他補充\n",
    "\n",
    "- **elif 可有多個**，但一個 if 判斷式只能有一個 else。\n",
    "- **條件可以是任何會產生布林值的表達式**，如比較運算、邏輯運算、變數等。\n",
    "- **程式碼區塊需縮排**（通常為四個空格）。\n",
    "- 若某分支不需執行任何動作，可用 `pass` 保持語法正確。\n",
    "\n",
    "\n",
    "## 小結\n",
    "\n",
    "- `if`：用於單一條件判斷，條件成立才執行。\n",
    "- `if…else`：條件成立執行 if 區塊，不成立執行 else 區塊。\n",
    "- `if…elif…else`：多重條件判斷，依序檢查條件，只會執行第一個成立的區塊。\n",
    "- **只有 if 可以獨立存在，elif 和 else 都必須有前面的 if。不能只寫 elif 或 else。**\n",
    "- 條件判斷讓程式能根據不同情況執行不同的邏輯，是流程控制的核心工具。"
   ]
  },
  {
   "cell_type": "markdown",
   "id": "db509751",
   "metadata": {},
   "source": [
    "---"
   ]
  },
  {
   "cell_type": "code",
   "execution_count": null,
   "id": "c14c228d",
   "metadata": {},
   "outputs": [],
   "source": [
    "return random.sample(names, 3)"
   ]
  },
  {
   "cell_type": "markdown",
   "id": "cdc30af4",
   "metadata": {},
   "source": [
    "* 如果程式執行到這裡，表示檔案已成功讀取，並且姓名數量至少有 3 個。\n",
    "* 這一行程式碼使用 random 模組中的 random.sample() 函數從 names 列表中隨機抽取 (randomly sample) 3 個 (k=3) **不重複**的元素，並將結果作為一個新的列表 (list) 返回 (return)。\n",
    "* `random.sample()` 是 Python 標準庫 `random` 模組中的一個函式，用於**從指定的序列（如列表、元組、字串等）中隨機選取指定數量的不重複元素，並以列表形式回傳**。\n",
    "* 其基本語法為："
   ]
  },
  {
   "cell_type": "code",
   "execution_count": null,
   "id": "6d42ae39",
   "metadata": {},
   "outputs": [],
   "source": [
    "random.sample(population, k)"
   ]
  },
  {
   "cell_type": "markdown",
   "id": "adf633c7",
   "metadata": {},
   "source": [
    "\n",
    "  + population：資料來源，必須是可迭代物件（如 list、tuple、str）。\n",
    "  + k：表示要隨機選取的元素個數（必須是整數，且不能大於 population 的長度）。"
   ]
  },
  {
   "cell_type": "markdown",
   "id": "8909c41b",
   "metadata": {},
   "source": [
    "#### 用法說明\n",
    "\n",
    "- 抽取的元素**不會重複**。\n",
    "- 回傳的是一個新列表，**不會改變原始序列**。\n",
    "- 若 `k` 大於資料長度，會拋出 `ValueError`。\n",
    "\n",
    "#### 範例\n",
    "\n",
    "**1. 基本用法：**\n",
    "\n",
    "```python\n",
    "import random\n",
    "data = [1, 2, 3, 4, 5]\n",
    "result = random.sample(data, 3)\n",
    "print(result)\n",
    "# 可能輸出: [2, 5, 3]\n",
    "```\n",
    "\n",
    "**2. 抽取字串中的隨機字元：**\n",
    "\n",
    "```python\n",
    "import random\n",
    "letters = 'abcdefg'\n",
    "sampled = random.sample(letters, 4)\n",
    "print(sampled)\n",
    "# 可能輸出: ['a', 'e', 'g', 'c']\n",
    "```\n",
    "\n",
    "**3. 抽取列表中的隨機元素組合：**\n",
    "\n",
    "```python\n",
    "import random\n",
    "fruits = ['apple', 'banana', 'cherry', 'date']\n",
    "sampled_fruits = random.sample(fruits, 2)\n",
    "print(sampled_fruits)\n",
    "# 可能輸出: ['banana', 'date']\n",
    "```\n",
    "\n",
    "## 小結\n",
    "\n",
    "- `random.sample()` 適合用於**隨機抽樣且不重複**的情境，如抽獎、隨機分組等。\n",
    "- 語法簡單，結果每次執行都可能不同。"
   ]
  },
  {
   "cell_type": "markdown",
   "id": "ffc82df8",
   "metadata": {},
   "source": [
    "---"
   ]
  },
  {
   "cell_type": "markdown",
   "id": "f1bf90d3",
   "metadata": {},
   "source": [
    "補充一下，題目未設定名字是否可以重複顯示，因此不一定要使用 `random.sample()` ，也可使用 `random.choices()` 。\\\n",
    "`random.choices()` 是一個從序列中獲取多個隨機元素（預設1個），允許重複，並且可以根據權重進行選擇的函數。\\\n",
    "其基本語法為："
   ]
  },
  {
   "cell_type": "code",
   "execution_count": null,
   "id": "5105baab",
   "metadata": {},
   "outputs": [],
   "source": [
    "random.choices(population, k=1, weights=None, cum_weights=None)"
   ]
  },
  {
   "cell_type": "markdown",
   "id": "283a0631",
   "metadata": {},
   "source": [
    "+ population（必選）：資料來源（可迭代物件，如 list、tuple、str）。\n",
    "+ k（可選）：抽幾個元素（預設為 1）。\n",
    "+ weights（可選）：一個與 population 長度相同的列表，包含每個元素被抽取的相對權重（機率）。數值越大被選中的機率越高。\n",
    "+ cum_weights (可選)： 一個與 population 長度相同的列表，包含每個元素的累積權重。與 weights 只能擇一使用。"
   ]
  },
  {
   "cell_type": "markdown",
   "id": "c8b503ad",
   "metadata": {},
   "source": [
    "#### 用法說明\n",
    "\n",
    "- **可重複抽樣**：`random.choices()` 抽出的元素可重複，與 `random.sample()`（不重複抽樣）不同。\n",
    "- **權重控制**：透過 `weights` 或 `cum_weights` 參數調整各元素被選中的機率。\n",
    "- **回傳值**：回傳一個長度為 k 的新列表。\n",
    "\n",
    "#### 範例\n",
    "\n",
    "**1. 基本用法：**\n",
    "\n",
    "```python\n",
    "import random\n",
    "fruits = ['apple', 'banana', 'cherry']\n",
    "result = random.choices(fruits, k=5)\n",
    "print(result)\n",
    "# 可能輸出: ['banana', 'cherry', 'banana', 'apple', 'banana']\n",
    "```\n",
    "\n",
    "**2. 設定權重：**\n",
    "\n",
    "```python\n",
    "import random\n",
    "fruits = ['apple', 'banana', 'cherry']\n",
    "weights = [1, 3, 2]  # banana 機率最高\n",
    "result = random.choices(fruits, weights=weights, k=5)\n",
    "print(result)\n",
    "# 'banana' 出現機率較高\n",
    "```\n",
    "\n",
    "#### 小結\n",
    "\n",
    "* `random.choices()` 適合用於**大量隨機抽樣（可重複）**，並可靈活設定權重，常用於模擬、抽獎、隨機資料生成等場景。\n",
    "* 若要將原始程式碼中的 `random.choices()` 替換為 `random.sample()`，`random.sample()` 的寫法為 `random.choices(names, k=3)`。\n",
    "* 在 `random.choices()` 中，`k=` 不能省略，必須明確寫出 `k=數字`。\n",
    "* 這和 `random.sample()` 不同，`sample` 可以直接寫 `random.sample(names, 3)`，但 `choices` 一定要寫 `random.choices(names, k=3)`。\n"
   ]
  },
  {
   "cell_type": "markdown",
   "id": "87d24634",
   "metadata": {},
   "source": [
    "---"
   ]
  },
  {
   "cell_type": "code",
   "execution_count": null,
   "id": "5a3fb55f",
   "metadata": {},
   "outputs": [],
   "source": [
    "if __name__ == \"__main__\":\n",
    "    random_names = get_random_names()\n",
    "    if isinstance(random_names, str):\n",
    "        print(random_names)\n",
    "    else:\n",
    "        print(\"隨機抽取的 3 個姓名：\", \", \".join(random_names))"
   ]
  },
  {
   "cell_type": "markdown",
   "id": "09044f25",
   "metadata": {},
   "source": [
    "### `if __name__ == \"__main__\":`\n",
    "\n",
    "* 在 Python 中，`if __name__ == \"__main__\":` 是一個常見的結構，主要用來判斷目前的程式碼是否是直接執行的程式，還是被當作模組匯入 (import) 到其他程式中。可根據返回值類型進行差異化輸出。\n",
    "* 如果這一個 Python 檔，確定不會被匯入到其他程式中的話，`if __name__ == \"__main__\":` 此行代碼也可以不用設。\n",
    "* 在 Python 中，`__name__` 是一個內建的特殊變數（字串），它表示目前模組的名稱，其值會根據程式的執行方式而不同：\n",
    "    + 如果程式是「直接執行」的（如 `python script.py`），則 `__name__` 會被設定為 `\"__main__\"`。\n",
    "    + 如果程式是「作為模組匯入」的（如 `import script`），則 `__name__` 會被設定為該模組的名稱（例如 `\"script\"`），不會包含 `.py` 副檔名。\n",
    "* **此結構的主要作用是確保某段程式碼只會在該檔案「直接執行」時執行，而不會在它被「作為模組匯入」時執行。避免不必要的程式碼在被 import 時自動執行。**\n",
    "```"
   ]
  },
  {
   "cell_type": "markdown",
   "id": "d7448813",
   "metadata": {},
   "source": [
    "#### 總結\n",
    "* `if __name__ == \"__main__\":` 這個結構的典型用途有：\n",
    "    + **防止不必要的程式執行**：當我們匯入模組時，可能只想使用其中的函式，而不希望程式主邏輯被執行。\n",
    "    + **用來測試和除錯**：可以在 `if __name__ == \"__main__\":` 區塊內加入測試程式碼，確保模組的功能正常運作。\n",
    "    + **提升程式的可重用性**：允許程式既可以獨立運行，也可以被其他程式引用。\n"
   ]
  },
  {
   "cell_type": "markdown",
   "id": "f6d52356",
   "metadata": {},
   "source": [
    "---"
   ]
  },
  {
   "cell_type": "code",
   "execution_count": null,
   "id": "acec1917",
   "metadata": {},
   "outputs": [],
   "source": [
    "random_names = get_random_names()"
   ]
  },
  {
   "cell_type": "markdown",
   "id": "a9e38932",
   "metadata": {},
   "source": [
    "* 呼叫上面定義的 get_random_names 函式，將其回傳值儲存到 random_names 變數中。\n",
    "* get_random_names() 在上面的程式碼中會嘗試從 \"names.txt\" 檔案中讀取姓名並隨機抽取三個，或者在發生錯誤時返回一個錯誤訊息字串。\n",
    "* 也就是說，這一行程式碼會呼叫 (call) 之前定義的 get_random_names() 函數，並將其返回值 (return value) 賦值給一個名為 random_names 的變數 (variable)。\n"
   ]
  },
  {
   "cell_type": "markdown",
   "id": "048f1ffc",
   "metadata": {},
   "source": [
    "---"
   ]
  },
  {
   "cell_type": "code",
   "execution_count": null,
   "id": "4ac91e27",
   "metadata": {},
   "outputs": [],
   "source": [
    "if isinstance(random_names, str):\n",
    "    print(random_names)"
   ]
  },
  {
   "cell_type": "markdown",
   "id": "d1bc6253",
   "metadata": {},
   "source": [
    "#### **if isinstance(random_names, str):**\n",
    "* 此行程式碼是檢查 random_names 是否為字串類型。用以判斷 random_names 是否為錯誤訊息（字串）。這能有效區分正常結果與錯誤狀況，並確保程式在不同情境下都能正確執行。\n",
    "* 為什麼這麼寫：\n",
    "  * 函數可能返回兩種類型的值：列表（成功時返回 3 個姓名的列表）或字串（錯誤訊息）。\n",
    "\n",
    "  * 使用 isinstance(random_names, str) 來判斷返回值類型，決定如何處理。\n",
    "* isinstance() 是 Python 的內建函式，用來檢查某個變數是否屬於特定資料類型。\n",
    "\n",
    "  其語法為： "
   ]
  },
  {
   "cell_type": "code",
   "execution_count": null,
   "id": "28f3d00a",
   "metadata": {},
   "outputs": [],
   "source": [
    "isinstance(變數, 類型)"
   ]
  },
  {
   "cell_type": "markdown",
   "id": "66f61704",
   "metadata": {},
   "source": [
    "* 如果該變數的類型與指定的類型相符，會回傳 True，否則回傳 False。"
   ]
  },
  {
   "cell_type": "markdown",
   "id": "a2395b24",
   "metadata": {},
   "source": [
    "#### **random_names**\n",
    "\n",
    "這個變數來自於函式 get_random_names() 的回傳值：\n",
    "  * 如果函式成功 隨機選取 3 個姓名，則 random_names 會是一個 列表 (list)。\n",
    "  * 如果發生錯誤，例如檔案不存在或姓名數量不足，函式則回傳 錯誤訊息（字串）。<br/>\n",
    "  \n",
    "因此，我們需要確認 random_names 的類型，以確保我們正確處理錯誤狀況。\n",
    "\n",
    "#### **str**\n",
    "  * str 是 Python 的內建資料型別之一，即「字串（String）」，用來表示 文字資料。字串可以包含字母、數字、符號、空格以及其他特殊字元。並且通常使用單引號 '...' 或雙引號 \"...\" 來定義。\n",
    "  * 字串一旦被創建，就不能直接修改其中的單個字元。任何看似修改字串的操作（例如替換、切片賦值）實際上都會創建一個新的字串物件。"
   ]
  },
  {
   "cell_type": "markdown",
   "id": "23ff8e87",
   "metadata": {},
   "source": [
    "#### **print(random_names)**\n",
    "* 如果 random_names 是字串，則直接印出錯誤訊息。\n",
    "* 當函數返回錯誤訊息時，將其顯示給使用者，方便問題診斷。"
   ]
  },
  {
   "cell_type": "code",
   "execution_count": null,
   "id": "8bcefb6d",
   "metadata": {},
   "outputs": [],
   "source": [
    "else:\n",
    "    print(\"隨機抽取的 3 個姓名：\", \", \".join(random_names))"
   ]
  },
  {
   "cell_type": "markdown",
   "id": "c4aa6334",
   "metadata": {},
   "source": [
    "#### **else:**\n",
    "* 這是 if 的對應分支，用於處理函數成功返回 3 個姓名的情況。\n",
    "* 如果 random_names 不是字串（即為列表），代表程式執行成功。\n",
    "\n",
    "\n",
    "#### **print(\"隨機抽取的 3 個姓名：\", \", \".join(random_names))**\n",
    "* 這行程式碼的目的是將隨機抽取的姓名列表（list）用 `join()` 以逗號和空格分隔，組合成一個字串，前面加上提示文字「隨機抽取的 3 個姓名：」後，再用 `print()` 把這個字串和前面的提示文字一起輸出。\n",
    "* 因為程式執行成功，所以 random_names 會是一個包含三個姓名的 list，例如 ['賴又琦', '高信宏', '劉依婷']。\n",
    "* `\", \".join(random_names)` 會把這三個姓名用逗號和空格串接起來，變成一個字串：\"賴又琦, 高信宏, 劉依婷\"。讓輸出看起來像自然語言，而不是 Python 的清單格式。\n",
    "   + 使用 `join()`，會顯示如下結果：\n",
    "      ```\n",
    "      隨機抽取的 3 個姓名： 賴又琦, 高信宏, 劉依婷\n",
    "      ```\n",
    "   + 沒有使用 `join()`，會顯示如下結果：\n",
    "      ```\n",
    "      隨機抽取的 3 個姓名： ['賴又琦', '高信宏', '劉依婷']\n",
    "      ```\n"
   ]
  },
  {
   "cell_type": "markdown",
   "id": "49c18077",
   "metadata": {},
   "source": [
    "---"
   ]
  },
  {
   "cell_type": "markdown",
   "id": "bf1004e6",
   "metadata": {},
   "source": [
    "### 補充：join() 的基本語法"
   ]
  },
  {
   "cell_type": "code",
   "execution_count": null,
   "id": "ae5ee9f9",
   "metadata": {},
   "outputs": [],
   "source": [
    "separator.join(iterable)"
   ]
  },
  {
   "cell_type": "markdown",
   "id": "0cc49eca",
   "metadata": {},
   "source": [
    "\n",
    "- **separator**：希望用來分隔每個元素的字串（例如 `\", \"`、`\"-\"`、`\"\\n\"` 等）。\n",
    "- **iterable**：可迭代物件（如 list、tuple、set 等），裡面**每個元素都必須是字串**。如果清單裡有整數或其他型別，會報錯。"
   ]
  },
  {
   "cell_type": "markdown",
   "id": "99b11076",
   "metadata": {},
   "source": [
    "\n",
    "#### 功能說明\n",
    "\n",
    "- `join()` 是字串的方法，用來**將 iterable 內的多個字串元素，依序用 separator 串接成一個新字串**。\n",
    "- 如果 iterable 內有非字串元素，會拋出 TypeError，必須先轉成字串才能 join。\n",
    "- `join()` 回傳一個新的字串，原本的 separator 會插在每兩個元素之間。\n",
    "\n",
    "\n",
    "#### 範例\n",
    "\n",
    "```python\n",
    "names = ['賴又琦', '高信宏', '劉依婷']\n",
    "result = \", \".join(names)\n",
    "print(result)  # 輸出：賴又琦, 高信宏, 劉依婷\n",
    "```"
   ]
  },
  {
   "cell_type": "markdown",
   "id": "db4c9058",
   "metadata": {},
   "source": [
    "---"
   ]
  }
 ],
 "metadata": {
  "kernelspec": {
   "display_name": ".venv",
   "language": "python",
   "name": "python3"
  },
  "language_info": {
   "codemirror_mode": {
    "name": "ipython",
    "version": 3
   },
   "file_extension": ".py",
   "mimetype": "text/x-python",
   "name": "python",
   "nbconvert_exporter": "python",
   "pygments_lexer": "ipython3",
   "version": "3.13.2"
  }
 },
 "nbformat": 4,
 "nbformat_minor": 5
}
