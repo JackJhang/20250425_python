{
 "cells": [
  {
   "cell_type": "markdown",
   "metadata": {},
   "source": [
    "### 呼叫Function"
   ]
  },
  {
   "cell_type": "code",
   "execution_count": null,
   "metadata": {},
   "outputs": [
    {
     "name": "stdout",
     "output_type": "stream",
     "text": [
      "wine 紅酒 entree 牛排 dessert 蛋糕\n"
     ]
    }
   ],
   "source": [
    "def menu (wine,entree,dessert):\n",
    "    print (\"wine\",wine,\"entree\",entree,\"dessert\",dessert)\n",
    "#引數值的呼叫(需依照順序)\n",
    "menu (\"紅酒\",\"牛排\",\"蛋糕\")"
   ]
  },
  {
   "cell_type": "code",
   "execution_count": null,
   "metadata": {},
   "outputs": [
    {
     "ename": "TypeError",
     "evalue": "menu() missing 1 required positional argument: 'dessert'",
     "output_type": "error",
     "traceback": [
      "\u001b[31m---------------------------------------------------------------------------\u001b[39m",
      "\u001b[31mTypeError\u001b[39m                                 Traceback (most recent call last)",
      "\u001b[36mCell\u001b[39m\u001b[36m \u001b[39m\u001b[32mIn[4]\u001b[39m\u001b[32m, line 4\u001b[39m\n\u001b[32m      2\u001b[39m     \u001b[38;5;28mprint\u001b[39m (\u001b[33m\"\u001b[39m\u001b[33mwine\u001b[39m\u001b[33m\"\u001b[39m,wine,\u001b[33m\"\u001b[39m\u001b[33mentree\u001b[39m\u001b[33m\"\u001b[39m,entree,\u001b[33m\"\u001b[39m\u001b[33mdessert\u001b[39m\u001b[33m\"\u001b[39m,dessert)\n\u001b[32m      3\u001b[39m \u001b[38;5;66;03m#引述值的呼叫(錯誤版)\u001b[39;00m\n\u001b[32m----> \u001b[39m\u001b[32m4\u001b[39m \u001b[43mmenu\u001b[49m\u001b[43m \u001b[49m\u001b[43m(\u001b[49m\u001b[33;43m\"\u001b[39;49m\u001b[33;43m紅酒\u001b[39;49m\u001b[33;43m\"\u001b[39;49m\u001b[43m,\u001b[49m\u001b[33;43m\"\u001b[39;49m\u001b[33;43m牛排\u001b[39;49m\u001b[33;43m\"\u001b[39;49m\u001b[43m)\u001b[49m\n",
      "\u001b[31mTypeError\u001b[39m: menu() missing 1 required positional argument: 'dessert'"
     ]
    }
   ],
   "source": [
    "def menu (wine,entree,dessert):\n",
    "    print (\"wine\",wine,\"entree\",entree,\"dessert\",dessert)\n",
    "#引數值的呼叫(錯誤版)\n",
    "menu (\"紅酒\",\"牛排\")"
   ]
  },
  {
   "cell_type": "code",
   "execution_count": 12,
   "metadata": {},
   "outputs": [],
   "source": [
    "#加入型別提示(type hint)\n",
    "def menu(wine:str, entree:str, dessert:str)->dict:\n",
    "    return {\"wine\":wine,\n",
    "            \"entree\":entree, \n",
    "            \"dessert\":dessert}\n"
   ]
  },
  {
   "cell_type": "code",
   "execution_count": 14,
   "metadata": {},
   "outputs": [
    {
     "data": {
      "text/plain": [
       "{'wine': '白酒', 'entree': '牛排', 'dessert': '蛋糕'}"
      ]
     },
     "execution_count": 14,
     "metadata": {},
     "output_type": "execute_result"
    }
   ],
   "source": [
    "#引數值呼叫\n",
    "pk:dict = menu(\"白酒\",\"牛排\",\"蛋糕\")\n",
    "pk"
   ]
  },
  {
   "cell_type": "code",
   "execution_count": null,
   "metadata": {},
   "outputs": [
    {
     "data": {
      "text/plain": [
       "{'wine': '白酒', 'entree': '牛排', 'dessert': '蛋糕'}"
      ]
     },
     "execution_count": 13,
     "metadata": {},
     "output_type": "execute_result"
    }
   ],
   "source": [
    "#引數名稱的呼叫(可以不依順序)\n",
    "pk:dict = menu(wine=\"白酒\",dessert=\"蛋糕\",entree=\"牛排\")\n",
    "pk"
   ]
  },
  {
   "cell_type": "code",
   "execution_count": 16,
   "metadata": {},
   "outputs": [
    {
     "data": {
      "text/plain": [
       "{'wine': '白酒', 'entree': '牛排', 'dessert': '蛋糕'}"
      ]
     },
     "execution_count": 16,
     "metadata": {},
     "output_type": "execute_result"
    }
   ],
   "source": [
    "#混合呼叫\n",
    "#前面要引數值呼叫\n",
    "#後面引數名稱呼叫\n",
    "#引數名稱呼叫後，全部都要引數名稱呼叫\n",
    "pk:dict = menu(\"白酒\",dessert=\"蛋糕\",entree=\"牛排\")\n",
    "pk"
   ]
  },
  {
   "cell_type": "code",
   "execution_count": 1,
   "metadata": {},
   "outputs": [],
   "source": [
    "def print_apple(**apple):\n",
    "    print(\"apple是dict:\",apple)"
   ]
  },
  {
   "cell_type": "code",
   "execution_count": 2,
   "metadata": {},
   "outputs": [
    {
     "name": "stdout",
     "output_type": "stream",
     "text": [
      "apple是dict: {'one': 1, 'two': 2, 'three': 3, 'four': 4, 'five': 5}\n"
     ]
    }
   ],
   "source": [
    "print_apple(one=1,two=2,three=3,four=4,five=5)"
   ]
  },
  {
   "cell_type": "code",
   "execution_count": 3,
   "metadata": {},
   "outputs": [],
   "source": [
    "def print_cake(*cake):\n",
    "    print(\"cake是tuple:\",cake)"
   ]
  },
  {
   "cell_type": "code",
   "execution_count": 4,
   "metadata": {},
   "outputs": [
    {
     "name": "stdout",
     "output_type": "stream",
     "text": [
      "cake是tuple: (1, 2, 3, 'a', 'b', 'c')\n"
     ]
    }
   ],
   "source": [
    "print_cake(1,2,3,\"a\",\"b\",\"c\")"
   ]
  },
  {
   "cell_type": "code",
   "execution_count": 7,
   "metadata": {},
   "outputs": [],
   "source": [
    "def print_all(*cake,**apple):\n",
    "    print(\"cake是tuple:\",cake)\n",
    "    print(\"apple是dict:\",apple)"
   ]
  },
  {
   "cell_type": "code",
   "execution_count": 6,
   "metadata": {},
   "outputs": [
    {
     "name": "stdout",
     "output_type": "stream",
     "text": [
      "cake是tuple: (1, 2, 3, 4, 5)\n",
      "apple是dict: {'one': 1, 'two': 2, 'three': 3, 'four': 4, 'five': 5}\n"
     ]
    }
   ],
   "source": [
    "print_all(1,2,3,4,5,one=1,two=2,three=3,four=4,five=5)"
   ]
  },
  {
   "cell_type": "code",
   "execution_count": 2,
   "metadata": {},
   "outputs": [
    {
     "data": {
      "text/plain": [
       "[{'name': 'alan', 'chinese': 95, 'english': 54, 'math': 85},\n",
       " {'name': 'alice', 'chinese': 55, 'english': 99, 'math': 60}]"
      ]
     },
     "execution_count": 2,
     "metadata": {},
     "output_type": "execute_result"
    }
   ],
   "source": [
    "students:list = []\n",
    "students.append({\"name\":\"alan\",\n",
    "                \"chinese\":95,\n",
    "                \"english\":54,\n",
    "                \"math\":85})\n",
    "students.append({\"name\":\"alice\",\n",
    "                \"chinese\":55,\n",
    "                \"english\":99,\n",
    "                \"math\":60})\n",
    "students"
   ]
  },
  {
   "cell_type": "code",
   "execution_count": 4,
   "metadata": {},
   "outputs": [
    {
     "name": "stdout",
     "output_type": "stream",
     "text": [
      "name:alan\n",
      "chinese:95\n",
      "english:54\n",
      "math:85\n",
      "====================\n",
      "name:alice\n",
      "chinese:55\n",
      "english:99\n",
      "math:60\n",
      "====================\n"
     ]
    }
   ],
   "source": [
    "for student in students:\n",
    "    for key,value in student.items():\n",
    "        print(key,value,sep=\":\")\n",
    "    print(\"=\"*20)"
   ]
  }
 ],
 "metadata": {
  "kernelspec": {
   "display_name": ".venv",
   "language": "python",
   "name": "python3"
  },
  "language_info": {
   "codemirror_mode": {
    "name": "ipython",
    "version": 3
   },
   "file_extension": ".py",
   "mimetype": "text/x-python",
   "name": "python",
   "nbconvert_exporter": "python",
   "pygments_lexer": "ipython3",
   "version": "3.13.2"
  }
 },
 "nbformat": 4,
 "nbformat_minor": 2
}
