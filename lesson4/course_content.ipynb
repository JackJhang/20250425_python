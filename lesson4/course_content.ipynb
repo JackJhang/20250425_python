{
 "cells": [
  {
   "cell_type": "markdown",
   "metadata": {},
   "source": [
    "## 20250516 lesson4 課程內容"
   ]
  },
  {
   "cell_type": "markdown",
   "metadata": {},
   "source": [
    "### 1. 更改 Python 解譯器設定\n",
    "   1. 按下 `Ctrl + Shift + P`，開啟 Command Palette。（或按左下角齒輪圖示，點選`命令選擇區`）\n",
    "   2. 輸入並選擇「`Python: 選擇解譯器`」（`Python: Select Interpreter`）。\n",
    "   3. 在清單中選擇預設的解譯器（例如之前設的 flask 虛擬環境或是系統預設的 Python），這樣新開的終端機就不會自動進入其他環境。\n",
    "   4. 關閉並重新開啟終端機\n",
    "      * 更換解譯器後，關閉所有終端機（點選終端機右上方的垃圾桶圖示），再開新終端機，確認環境前綴。\n",
    "### 2. 進入**專案的根目錄**，新建一個 `requirements.txt`，將需要的第三方套件名字加入到 `requirements.txt` 裡面\n",
    "   * 此次課程所需套件共 1 個：`Flask` （`requests` 為上次 lesson3 所需的套件）\n",
    "   * **每個套件名稱各一行**（不要全部列在同一行裡！）\n",
    "### 3. 在**專案的根目錄**新增終端機執行以下程式碼，便會自動安裝在 ```requirements.txt``` 裡面所列的第三方套件"
   ]
  },
  {
   "cell_type": "code",
   "execution_count": null,
   "metadata": {},
   "outputs": [],
   "source": [
    "pip install -r requirements.txt"
   ]
  },
  {
   "cell_type": "markdown",
   "metadata": {},
   "source": [
    "### 4. 在 lesson4 資料夾裡，新增一個 index.py，在裡面寫入以下程式碼：（此條程式碼為上課教學用，可寫可不寫）\n"
   ]
  },
  {
   "cell_type": "code",
   "execution_count": null,
   "metadata": {},
   "outputs": [],
   "source": [
    "print (\"Hello! Flask!\")"
   ]
  },
  {
   "cell_type": "markdown",
   "metadata": {},
   "source": [
    "### 5. 使用 flask 建立 web server\n",
    "* 進入到 flask 官網，找到以下指令，並貼在`print (\"Hello! Flask!\")`下方：\n",
    "* 官網 → User’s Guide → Quickstart → A Minimal Application\n",
    "* 網址：https://flask.palletsprojects.com/en/stable/quickstart/#a-minimal-application"
   ]
  },
  {
   "cell_type": "code",
   "execution_count": null,
   "metadata": {},
   "outputs": [],
   "source": [
    "from flask import Flask\n",
    "\n",
    "app = Flask(__name__)\n",
    "\n",
    "@app.route(\"/\")\n",
    "def hello_world():\n",
    "    return \"<p>Hello, World!</p>\""
   ]
  },
  {
   "cell_type": "markdown",
   "metadata": {},
   "source": [
    "---"
   ]
  },
  {
   "cell_type": "markdown",
   "metadata": {},
   "source": [
    "#### 各行程式碼用意："
   ]
  },
  {
   "cell_type": "code",
   "execution_count": null,
   "metadata": {},
   "outputs": [],
   "source": [
    "from flask import Flask  # 從 Flask 模組中匯入 Flask 類別，這是建立 Flask 應用程式的核心類別。\n",
    "\n",
    "app = Flask(__name__)  # 建立一個 Flask 應用程式實例，__name__ 代表目前模組的名稱，用來告訴 Flask 這個應用程式的位置。\n",
    "\n",
    "@app.route(\"/\")  # 使用裝飾器定義路由，當使用者瀏覽器訪問根目錄 (\"/\") 時，會觸發下面的函式。\n",
    "def hello_world():\n",
    "    return \"<p>Hello, World!</p>\"  # 回傳一個簡單的 HTML 字串，顯示 \"Hello, World!\"，作為網頁內容。"
   ]
  },
  {
   "cell_type": "markdown",
   "metadata": {},
   "source": [
    "\n",
    "1. **`from flask import Flask`**\n",
    "匯入 Flask 類別是建立 Flask 應用的第一步，Flask 是一個輕量級的 Python Web 框架，讓你可以快速建立 Web 伺服器。\n",
    "2. **`app = Flask(__name__)`**\n",
    "這行建立一個 Flask 應用物件，`__name__` 參數用來告訴 Flask 這個應用程式的模組名稱，Flask 會根據它來尋找靜態檔案和模板資料夾。\n",
    "3. **`@app.route(\"/\")`**\n",
    "這是 Flask 的路由設定，告訴 Flask 當使用者訪問網站根目錄（\"/\"）時，要執行下面的函式。這是建立網頁 URL 與對應處理函式之間的連結。\n",
    "4. **`def hello_world():`**\n",
    "定義一個函式作為根目錄的回應函式，當使用者訪問 \"/\" 時，這個函式會被呼叫。\n",
    "5. **`return \"<p>Hello, World!</p>\"`**\n",
    "函式回傳一段 HTML 內容，這段內容會顯示在使用者的瀏覽器上。這裡用 `<p>` 標籤包裹文字，讓網頁顯示一段簡單的文字訊息。\n",
    "\n",
    "\n",
    "這段程式碼是建立一個最簡單的 Flask 網頁伺服器範例，目的是快速展示如何用 Flask 回應 HTTP 請求並回傳網頁內容。\n",
    "\n",
    "---"
   ]
  },
  {
   "cell_type": "markdown",
   "metadata": {},
   "source": [
    "### 6. 執行 index.py\n",
    "* 以下 2 條程式碼的功能皆為**啟動伺服器**。\n",
    "* **執行程式碼時，須注意開啟的資料夾位置！！！**\n",
    "- 使用「對 index.py 按右鍵，點選『在整合式終端機開啟』」的方式開啟終端機，在終端機輸入以下兩條程式碼其中之一：\n"
   ]
  },
  {
   "cell_type": "code",
   "execution_count": null,
   "metadata": {},
   "outputs": [],
   "source": [
    "flask --app index run"
   ]
  },
  {
   "cell_type": "code",
   "execution_count": null,
   "metadata": {},
   "outputs": [],
   "source": [
    "flask --app index run --debug"
   ]
  },
  {
   "cell_type": "code",
   "execution_count": null,
   "metadata": {},
   "outputs": [],
   "source": [
    "# index 指的是 index.py，該名稱會隨著要執行的 py 檔名稱而有所變動。而沒有固定要叫 index\n",
    "# 在 run 後面加入 --debug ，代表進入 Debug Mode （調試模式），該模式會自動重載程式碼，且會啟用除錯工具"
   ]
  },
  {
   "cell_type": "markdown",
   "metadata": {},
   "source": [
    "---"
   ]
  },
  {
   "cell_type": "markdown",
   "metadata": {},
   "source": [
    "#### 在使用 VSCode 執行 Flask 應用時，以下兩行指令的差異主要在於是否啟用了「除錯模式（debug mode）」：\n",
    "\n",
    "```bash\n",
    "flask --app index run\n",
    "flask --app index run --debug\n",
    "```\n",
    "\n",
    "\n",
    "#### 指令差異說明\n",
    "\n",
    "- `flask --app index run`：\n",
    "    - 這條指令會啟動 Flask 內建的開發伺服器，並執行 `index.py`（或 `index` 模組）作為應用程式入口。\n",
    "    - 伺服器會在預設的 `127.0.0.1:5000` 監聽請求。\n",
    "    - 這時候 Flask 以「生產環境模式」或預設模式運行，**不會自動重載程式碼，且不會啟用除錯工具**。\n",
    "- `flask --app index run --debug`：\n",
    "    - 除了啟動伺服器外，還會啟用 Flask 的「除錯模式」。\n",
    "    - 除錯模式會自動開啟兩個重要功能：\n",
    "        - **自動重載（reloader）**：當你修改程式碼並儲存時，伺服器會自動重新啟動，讓修改立即生效，不需手動重啟伺服器。\n",
    "        - **內建除錯器（debugger）**：當程式發生錯誤時，會在瀏覽器顯示詳細的錯誤追蹤（traceback）資訊，並且可以直接在錯誤頁面執行 Python 代碼進行調試。\n",
    "    - 這對於開發階段非常有用，能大幅提升除錯和開發效率。\n",
    "\n",
    "\n",
    "#### 補充說明\n",
    "\n",
    "- Flask 也可以透過設定環境變數 `FLASK_ENV=development` 或 `FLASK_DEBUG=1` 來達成類似效果，但使用 `--debug` 參數更直觀且方便。\n",
    "- 在生產環境中不建議使用除錯模式，因為它會暴露詳細錯誤資訊，可能造成安全風險。\n",
    "- 使用 `--debug` 啟動時，VSCode 也能更好地支援斷點調試和即時程式碼變更。\n",
    "\n",
    "\n",
    "#### 簡單比較表\n",
    "\n",
    "| 指令 | 是否啟用除錯模式 | 自動重載 | 詳細錯誤追蹤 | 適用場景 |\n",
    "| :-- | :-- | :-- | :-- | :-- |\n",
    "| `flask --app index run` | 否 | 否 | 否 | 生產環境或一般運行 |\n",
    "| `flask --app index run --debug` | 是 | 是 | 是 | 開發階段調試 |\n",
    "\n",
    "\n",
    "#### 總結\n",
    "\n",
    "`flask --app index run` 是基本啟動伺服器的指令，而加上 `--debug` 則是開發時常用的除錯模式，能自動重載程式並提供錯誤追蹤，方便開發者快速調試與測試。"
   ]
  },
  {
   "cell_type": "markdown",
   "metadata": {},
   "source": [
    "---"
   ]
  },
  {
   "cell_type": "markdown",
   "metadata": {},
   "source": [
    "##### 附註說明：`__pycache__` 資料夾為放置暫存檔的資料夾，需將其添加至`.gitignore`裡，確保不會將 `__pycache__` 資料夾上傳至github。"
   ]
  },
  {
   "cell_type": "markdown",
   "metadata": {},
   "source": [
    "---"
   ]
  },
  {
   "cell_type": "markdown",
   "metadata": {},
   "source": [
    "### 7. 建立網站其他頁面"
   ]
  },
  {
   "cell_type": "code",
   "execution_count": null,
   "metadata": {},
   "outputs": [],
   "source": [
    "from flask import Flask\n",
    "\n",
    "app = Flask(__name__)\n",
    "\n",
    "@app.route(\"/\")\n",
    "def index():\n",
    "    return \"<h1>index</h1><p>這是我的第1頁</p>\"\n",
    "\n",
    "@app.route(\"/user\")\n",
    "def user():\n",
    "    return \"<h1>user!</h1><p>這是我的第2頁</p>\"\n",
    "\n",
    "@app.route(\"/product\")\n",
    "def product():\n",
    "    return \"<h1>product!</h1><p>這是我的第3頁</p>\""
   ]
  },
  {
   "cell_type": "markdown",
   "metadata": {},
   "source": [
    "### 8. 建立放置靜態檔(Static Files)的資料夾\n",
    "####  PS. `CSS` 和 `JavaScript` 皆為靜態檔的1種\n",
    "\n",
    "1. https://flask.palletsprojects.com/en/stable/quickstart/#static-files\n",
    "\n",
    "    * 按照官網說明，若要為靜態檔生成 URL，要使用特殊的 『static』 端點名稱：\n",
    "\n",
    "        `url_for('static', filename='style.css')`\n",
    "\n",
    "        該文件必須以 static/style.css 的形式存儲在文件系統上。\n",
    "\n",
    "2. 具體步驟：於 `lesson4` 母資料夾下，建立 `static` 子資料夾。\n",
    "    * 可於 `static` 資料夾下，再建立其他子資料夾。例如 `css` 、 `js` 或是 `images` 等子資料夾。"
   ]
  },
  {
   "cell_type": "markdown",
   "metadata": {},
   "source": [
    "### 9. 建立放置範本(Templates)的資料夾\n",
    "#### PS. `範本`即`模板`\n",
    "\n",
    "1. https://flask.palletsprojects.com/en/stable/quickstart/#rendering-templates\n",
    "\n",
    "    * 按照官網說明，若要渲染範本，您可以使用 render_template（） 方法。 您所要做的就是提供範本的名稱和要作為關鍵字參數傳遞給範本引擎的變數。 下面是一個如何渲染範本的簡單範例：\n",
    "\n",
    "    ```python\n",
    "    from flask import render_template\n",
    "\n",
    "    @app.route('/hello/')\n",
    "    @app.route('/hello/<name>')\n",
    "    def hello(name=None):\n",
    "    return render_template('hello.html', person=name)\n",
    "    ```\n",
    "      \n",
    "    `Flask` 將在 `templates` 資料夾中尋找樣本。因此，如果你的應用程式是一個模組，這個資料夾就在那個模組旁邊，如果它是一個包，它實際上在你的包裡：\n",
    "\n",
    "    \n",
    "    案例 1：一個模組：（Case 1: a module:）\n",
    "\n",
    "    ```python \n",
    "    /application.py\n",
    "    /templates\n",
    "        /hello.html\n",
    "    ```\n",
    "\n",
    "    **對於範本，您可以使用 Jinja2 範本的全部功能。前往官方 Jinja2 範本文件瞭解更多資訊。**\n",
    "    * https://jinja.palletsprojects.com/en/stable/templates/\n",
    "\n",
    "\n",
    "2. 具體步驟：於 `lesson4` 母資料夾下，建立 `templates` 子資料夾。（即`templates` 子資料夾與應用程式 `index.py` 要建立在同一層資料夾）\n",
    "    * 可於 `templates` 資料夾下，建立範本的HTML。例如 `index.html` 。\n",
    "\n",
    "3. 要渲染範本，須將原先的程式碼"
   ]
  },
  {
   "cell_type": "code",
   "execution_count": null,
   "metadata": {},
   "outputs": [],
   "source": [
    "from flask import Flask\n",
    "\n",
    "app = Flask(__name__)\n",
    "\n",
    "@app.route(\"/\")\n",
    "def index():\n",
    "    return \"<h1>index</h1><p>這是我的第1頁</p>\""
   ]
  },
  {
   "cell_type": "markdown",
   "metadata": {},
   "source": [
    "改為下面這樣，原本網站根目錄顯示的內容 `\"<h1>index</h1><p>這是我的第1頁</p>\"` 就會改為 `index.html` 裡的內容："
   ]
  },
  {
   "cell_type": "code",
   "execution_count": null,
   "metadata": {},
   "outputs": [],
   "source": [
    "from flask import Flask,render_template\n",
    "\n",
    "app = Flask(__name__)\n",
    "\n",
    "@app.route(\"/\")\n",
    "def index():\n",
    "    return render_template(\"index.html\")"
   ]
  },
  {
   "cell_type": "markdown",
   "metadata": {},
   "source": [
    "---"
   ]
  },
  {
   "cell_type": "code",
   "execution_count": null,
   "metadata": {},
   "outputs": [],
   "source": [
    "from flask import Flask, render_template  # 從 Flask 框架匯入 Flask 類別和 render_template 函式\n",
    "\n",
    "app = Flask(__name__)  # 建立一個 Flask 應用程式實例，__name__ 用來告訴 Flask 目前模組的位置，方便尋找資源\n",
    "\n",
    "@app.route(\"/\")  # 使用裝飾器定義路由，當使用者訪問根目錄 \"/\" 時，會執行下面的函式\n",
    "def index():\n",
    "    return render_template(\"index.html\")  # 回傳渲染後的 index.html 模板，將網頁內容呈現給使用者"
   ]
  },
  {
   "cell_type": "markdown",
   "metadata": {},
   "source": [
    "#### 說明\n",
    "\n",
    "```python\n",
    "from flask import Flask, render_template\n",
    "```\n",
    "\n",
    "- 這行是從 Flask 框架中匯入兩個重要的模組：\n",
    "    - `Flask`：用來建立 Flask 應用程式的核心物件。\n",
    "    - `render_template`：用來渲染 HTML 模板，方便將網頁內容動態呈現給使用者。\n",
    "\n",
    "```python\n",
    "app = Flask(__name__)\n",
    "```\n",
    "\n",
    "- 建立一個 Flask 應用程式的實例，變數名稱為 `app`。\n",
    "- `__name__` 是 Python 內建變數，代表目前模組的名稱。\n",
    "- 傳入 `__name__` 是為了讓 Flask 知道應用程式所在的位置，方便尋找資源（如模板、靜態檔案等）。\n",
    "- 這是建立 Flask 應用的標準寫法。\n",
    "\n",
    "```python\n",
    "@app.route(\"/\")\n",
    "```\n",
    "\n",
    "- 這是一個裝飾器（Decorator），用來定義路由（Route）。\n",
    "- `\"/\"` 表示根目錄路徑，也就是使用者在瀏覽器輸入網站主頁時的 URL。\n",
    "- 這行告訴 Flask：當使用者訪問網站根目錄時，執行下面定義的函式。\n",
    "\n",
    "```python\n",
    "def index():\n",
    "    return render_template(\"index.html\")\n",
    "```\n",
    "\n",
    "- 定義一個函式 `index()`，這個函式會在使用者訪問根目錄時被呼叫。\n",
    "- `render_template(\"index.html\")` 會去 `templates` 資料夾中尋找 `index.html` 檔案，並將它渲染成 HTML 回傳給使用者。\n",
    "- 這樣可以讓網頁內容以模板形式管理，方便後續維護與修改。\n",
    "\n",
    "---\n",
    "\n",
    "#### 總結\n",
    "\n",
    "這段程式碼的用意是建立一個簡單的 Flask 網站，當使用者訪問根目錄 `/` 時，會回傳並顯示 `index.html` 頁面。這是 Flask 建立動態網頁的基本範例，利用路由來對應 URL，並用模板渲染來呈現網頁內容。"
   ]
  },
  {
   "cell_type": "markdown",
   "metadata": {},
   "source": [
    "---"
   ]
  },
  {
   "cell_type": "markdown",
   "metadata": {},
   "source": [
    "### 10. 於範本網頁中使用 `Jinja2` 的語法\n",
    "\n",
    "`Jinja2` 的語法請到以下網址查詢：https://jinja.palletsprojects.com/en/stable/templates/"
   ]
  },
  {
   "cell_type": "markdown",
   "metadata": {},
   "source": [
    "There are a few kinds of delimiters. The default Jinja delimiters are configured as follows:\n",
    "\n",
    "有幾種類型的分隔符。預設 Jinja 分隔符的設定如下：\n",
    "```Jinja2\n",
    "{% ... %} for Statements\n",
    "\n",
    "{% ... %} for 語句\n",
    "\n",
    "{{ ... }} for Expressions to print to the template output\n",
    "\n",
    "{{ ... }} 用於表示式列印到範本輸出\n",
    "\n",
    "{# ... #} for Comments not included in the template output\n",
    "\n",
    "{# ... #} 表示 範本輸出中未包含的註釋\n",
    "```"
   ]
  },
  {
   "cell_type": "markdown",
   "metadata": {},
   "source": [
    "比如網頁中要連結 `CSS` 的語法為：\n",
    "\n",
    "```html\n",
    "<link rel=\"stylesheet\" href=\"../static/css/index.css\" />\n",
    "```\n",
    "\n",
    "改用 `Jinja2` 的語法來寫：\n",
    "\n",
    "```html\n",
    "<link rel=\"stylesheet\" href=\"{{url_for('static',filename='css/index.css')}}\" />\n",
    "```\n",
    "\n"
   ]
  },
  {
   "cell_type": "markdown",
   "metadata": {},
   "source": [
    "##### **需先安裝 `Jinja` 延伸模組， `Jinja2` 的語法才會生效！！！**"
   ]
  },
  {
   "cell_type": "markdown",
   "metadata": {},
   "source": [
    "---"
   ]
  },
  {
   "cell_type": "markdown",
   "metadata": {},
   "source": [
    "### **補充：**\n",
    "\n",
    "在 VSCode 中，副檔名為 Jinja2（常見如 `.jinja`、`.j2`）和 HTML（`.html`）的主要差別在於它們所代表的文件類型及語法內容不同，這也影響到編輯器的語法高亮、格式化和智能提示功能。\n",
    "\n",
    "#### 主要差異\n",
    "\n",
    "- **文件內容與用途不同**\n",
    "    - `.html` 文件純粹是靜態的 HTML 文件，主要包含標準的 HTML 標籤和內容。\n",
    "    - `.jinja` 或 `.j2` 文件是基於 Jinja2 模板語言的文件，除了包含 HTML 標籤外，還會嵌入 Jinja2 的模板語法，如變量插值 `{{ variable }}`、控制結構 `{% for ... %}`、條件判斷 `{% if ... %}` 等，用於動態生成 HTML 或其他文本內容。\n",
    "- **語法高亮與智能提示**\n",
    "    - VSCode 對 `.html` 文件有內建的 HTML 語法高亮和格式化支持。\n",
    "    - 對於 Jinja2 模板文件，因為包含了模板語法，VSCode 需要額外安裝專門的擴展插件（如「Jinja Template Highlighting」或「JinjaHTML-VSCode」）來提供準確的語法高亮、智能提示和格式化功能，這些插件能識別 Jinja2 的變量、表達式、塊和注釋等結構，並與 HTML 語法高亮結合，提升編輯體驗。\n",
    "- **格式化設定**\n",
    "    - HTML 文件的格式化通常由 VSCode 內建或常見的 HTML 格式化擴展來完成。\n",
    "    - Jinja2 文件的格式化則需要額外設定，通常在 VSCode 的設定檔中指定 Jinja 文件關聯，並且配置 Python 格式化工具（如 `black` 或 `yapf`）來處理模板中的 Python 代碼部分，確保格式化正確且不破壞模板語法。\n",
    "\n",
    "\n",
    "#### 總結\n",
    "\n",
    "| 特性 | HTML (.html) | Jinja2 (.jinja, .j2) |\n",
    "| :-- | :-- | :-- |\n",
    "| 文件內容 | 靜態 HTML | HTML + Jinja2 模板語法 |\n",
    "| 語法高亮 | 內建支持 | 需安裝專門 Jinja 插件支持 |\n",
    "| 智能提示 | 內建 HTML 智能提示 | 需插件支持 Jinja 語法提示 |\n",
    "| 格式化工具 | 內建或 HTML 格式化擴展 | 需配置 Python 格式化工具（如 black、yapf） |\n",
    "| 使用場景 | 靜態網頁內容 | 動態模板生成，與後端數據交互 |\n",
    "\n",
    "##### **因此，在 VSCode 中使用 Jinja2 模板文件時，建議安裝並配置專門的 Jinja 語法高亮和格式化插件，以獲得更好的編輯體驗；而純 HTML 文件則可直接使用內建支持即可。**"
   ]
  },
  {
   "cell_type": "markdown",
   "metadata": {},
   "source": [
    "---\n",
    "---"
   ]
  },
  {
   "cell_type": "markdown",
   "metadata": {},
   "source": [
    "### 11. 在 `templates` 資料夾中建立一個副檔名為 `.jinja2` 的檔案"
   ]
  },
  {
   "cell_type": "markdown",
   "metadata": {},
   "source": [
    "1. 在 `templates` 資料夾中新增一個名叫 `testindex.html.jinja2` 的檔案"
   ]
  },
  {
   "cell_type": "markdown",
   "metadata": {},
   "source": [
    "2. 使用 `Figma` 設計出 `testindex.html.jinja2` 的選單框架\n",
    "\n",
    "    + **步驟1**：用 google 搜尋 `Figma` ，使用 `Figma` 的網頁版或APP版。\n",
    "    \n",
    "    + **步驟2**：在 `Figma` 左側選單選擇  `Drafts` ，點選 `Drafts` 裡面的 `Design` ，在 `Design` 裡面設計 UI/UX。\n",
    "\n",
    "    + **步驟3**：將設計好的 UI/UX 以 PNG 的形式匯出。\n",
    "\n",
    "    * `Figma`是一個向量圖形編輯器和原型設計工具，主要基於網頁進行工作，透過macOS或Windows的桌面應用程式可啟用離線編輯功能。適用於Android和iOS的配套程式稱為Figma Mirror，可以在行動裝置上檢視Figma原型。Figma的功能集著重於使用者介面設計及使用者體驗設計，並強調即時協作。\n",
    "\n",
    "    * `Figma`主要用於各種介面設計，可以在上面輕鬆設計UI 元件、Wireframe 或是Prototype 等。"
   ]
  },
  {
   "cell_type": "markdown",
   "metadata": {},
   "source": [
    "3. 在 `lesson4` 資料夾新增一個名叫 `source` 的資料夾，將上述步驟匯出的 PNG 檔案放到 `source` 資料夾裡。"
   ]
  },
  {
   "cell_type": "markdown",
   "metadata": {},
   "source": [
    "4. 將設計網頁的需求，寫進 `.md` 檔裡。 `.md` 檔與 `.png` 同樣放到 `source` 資料夾裡。"
   ]
  },
  {
   "cell_type": "markdown",
   "metadata": {},
   "source": [
    "5. 將 `.PNG` 與 `.md檔` 上傳給 AI （例如：`Gemini` 、 `Perplexity` 、`Microsoft Copilot` 等等），請 AI 根據需求做一個`回應式網頁設計`（英語：`Responsive Web Design`，通常縮寫為`RWD`）。"
   ]
  },
  {
   "cell_type": "markdown",
   "metadata": {},
   "source": [
    "6. 將 AI 設計出的 `.html` 、 `.css` 、 `.js` 檔案匯入到 `static` 裡個別的資料夾中（此處為了方便辨識，將　`.html` 、 `.css` 、 `.js` 檔案的主檔名皆設為 `testindex` ）\n",
    "\n",
    "    * **因為要使用 `Jinja2` 生成動態模板，與後端數據交互，因此 `testindex.html` 改為 `testindex.html.jinja2`**。\n",
    "\n",
    "    以下為 `testindex.html.jinja2` 裡面套用 `Jinja2` 語法的程式碼：\n",
    "\n",
    "    ```html\n",
    "    <link rel=\"stylesheet\" href=\"{{url_for('static',filename='css/testindex.css')}}\">\n",
    "\n",
    "    <script src=\"{{url_for('static',filename='js/testindex.js')}}\"></script>\n",
    "    ```\n"
   ]
  },
  {
   "cell_type": "markdown",
   "metadata": {},
   "source": [
    "7. 將 AI 輸出的檔案，修改成符合自己需求的檔案。\n",
    "\n",
    "    * 可在 VSCODE 安裝 `Gemini Code Assist` 這個延伸套件，詢問在 VSCODE 遇到的相關問題，此套件會給出建議。按下  `Accept Changes`  等於同意接受 `Gemini Code Assist` 給出的建議， `Gemini Code Assist` 就會直接自動修改程式碼。 "
   ]
  },
  {
   "cell_type": "markdown",
   "metadata": {},
   "source": [
    "---\n",
    "---\n",
    "---"
   ]
  },
  {
   "cell_type": "markdown",
   "metadata": {},
   "source": [
    "## ENDING"
   ]
  }
 ],
 "metadata": {
  "language_info": {
   "name": "python"
  }
 },
 "nbformat": 4,
 "nbformat_minor": 2
}
