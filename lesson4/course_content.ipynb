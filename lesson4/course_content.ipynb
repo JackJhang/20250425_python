{
 "cells": [
  {
   "cell_type": "markdown",
   "metadata": {},
   "source": [
    "### 20250516 lesson4 課程內容\n",
    "1. 進入**專案的根目錄**，新建一個 requirements.txt，將需要的第三方套件名字加入到 requirements.txt 裡面\n",
    "   * 此次課程所需套件共 1 個：Flask （requests 為上次 lesson3 所需的套件）\n",
    "2. **每個套件名稱各一行**（不要全部列在同一行裡！）\n",
    "3. 在終端機執行以下指令，便會自動安裝在 requirements.txt 裡面所列的第三方套件"
   ]
  },
  {
   "cell_type": "code",
   "execution_count": null,
   "metadata": {},
   "outputs": [],
   "source": [
    "pip install -r requirements.txt"
   ]
  },
  {
   "cell_type": "markdown",
   "metadata": {},
   "source": [
    "4. 在 lesson4 資料夾裡，新增一個 index.py，在裡面寫入以下指令：\n"
   ]
  },
  {
   "cell_type": "code",
   "execution_count": null,
   "metadata": {},
   "outputs": [],
   "source": [
    "print (\"Hello! Flask!\")"
   ]
  },
  {
   "cell_type": "markdown",
   "metadata": {},
   "source": [
    "5. 進入到 flask 官網，找到以下指令，並貼在```print (\"Hello! Flask!\")```下方："
   ]
  },
  {
   "cell_type": "code",
   "execution_count": null,
   "metadata": {},
   "outputs": [],
   "source": [
    "from flask import Flask\n",
    "\n",
    "app = Flask(__name__)\n",
    "\n",
    "@app.route(\"/\")\n",
    "def hello_world():\n",
    "    return \"<p>Hello, World!</p>\""
   ]
  },
  {
   "cell_type": "markdown",
   "metadata": {},
   "source": [
    "6.執行 index.py，使用「對 index.py 按右鍵，點選『在整合式終端機開啟』」的方式開啟終端機，在終端機輸入以下兩條指令其中之一："
   ]
  },
  {
   "cell_type": "code",
   "execution_count": null,
   "metadata": {},
   "outputs": [],
   "source": [
    "flask --app index run"
   ]
  },
  {
   "cell_type": "code",
   "execution_count": null,
   "metadata": {},
   "outputs": [],
   "source": [
    "flask --app index run --debug"
   ]
  },
  {
   "cell_type": "code",
   "execution_count": null,
   "metadata": {},
   "outputs": [],
   "source": [
    "# index 指的是 index.py，該名稱會隨著要執行的 py 檔名稱而有所變動。而沒有固定要叫 index\n",
    "# 在 run 後面加入 --debug ，代表進入 Debug Mode （調試模式），該模式會自動重載程式碼，且會啟用除錯工具"
   ]
  },
  {
   "cell_type": "markdown",
   "metadata": {},
   "source": [
    "---"
   ]
  },
  {
   "cell_type": "markdown",
   "metadata": {},
   "source": [
    "在使用 VSCode 執行 Flask 應用時，以下兩行指令的差異主要在於是否啟用了「除錯模式（debug mode）」：\n",
    "\n",
    "```bash\n",
    "flask --app index run\n",
    "flask --app index run --debug\n",
    "```\n",
    "\n",
    "\n",
    "### 指令差異說明\n",
    "\n",
    "- `flask --app index run`：\n",
    "    - 這條指令會啟動 Flask 內建的開發伺服器，並執行 `index.py`（或 `index` 模組）作為應用程式入口。\n",
    "    - 伺服器會在預設的 `127.0.0.1:5000` 監聽請求。\n",
    "    - 這時候 Flask 以「生產環境模式」或預設模式運行，**不會自動重載程式碼，且不會啟用除錯工具**。\n",
    "- `flask --app index run --debug`：\n",
    "    - 除了啟動伺服器外，還會啟用 Flask 的「除錯模式」。\n",
    "    - 除錯模式會自動開啟兩個重要功能：\n",
    "        - **自動重載（reloader）**：當你修改程式碼並儲存時，伺服器會自動重新啟動，讓修改立即生效，不需手動重啟伺服器。\n",
    "        - **內建除錯器（debugger）**：當程式發生錯誤時，會在瀏覽器顯示詳細的錯誤追蹤（traceback）資訊，並且可以直接在錯誤頁面執行 Python 代碼進行調試。\n",
    "    - 這對於開發階段非常有用，能大幅提升除錯和開發效率。\n",
    "\n",
    "\n",
    "### 補充說明\n",
    "\n",
    "- Flask 也可以透過設定環境變數 `FLASK_ENV=development` 或 `FLASK_DEBUG=1` 來達成類似效果，但使用 `--debug` 參數更直觀且方便。\n",
    "- 在生產環境中不建議使用除錯模式，因為它會暴露詳細錯誤資訊，可能造成安全風險。\n",
    "- 使用 `--debug` 啟動時，VSCode 也能更好地支援斷點調試和即時程式碼變更。\n",
    "\n",
    "---\n",
    "\n",
    "#### 簡單比較表\n",
    "\n",
    "| 指令 | 是否啟用除錯模式 | 自動重載 | 詳細錯誤追蹤 | 適用場景 |\n",
    "| :-- | :-- | :-- | :-- | :-- |\n",
    "| `flask --app index run` | 否 | 否 | 否 | 生產環境或一般運行 |\n",
    "| `flask --app index run --debug` | 是 | 是 | 是 | 開發階段調試 |\n",
    "\n",
    "\n",
    "---\n",
    "\n",
    "總結來說，`flask --app index run` 是基本啟動伺服器的指令，而加上 `--debug` 則是開發時常用的除錯模式，能自動重載程式並提供錯誤追蹤，方便開發者快速調試與測試。"
   ]
  },
  {
   "cell_type": "markdown",
   "metadata": {},
   "source": [
    "---"
   ]
  }
 ],
 "metadata": {
  "language_info": {
   "name": "python"
  }
 },
 "nbformat": 4,
 "nbformat_minor": 2
}
