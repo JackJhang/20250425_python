{
 "cells": [
  {
   "cell_type": "markdown",
   "metadata": {},
   "source": [
    "### 20250516 lesson4 課程內容\n",
    "1. 進入專案的根目錄，新建一個 requirements.txt，將需要的第三方套件名字加入到 requirements.txt 裡面\n",
    "   * 此次課程所需套件共 2 個：requests、Flask\n",
    "2. **每個套件名稱各一行**（不要全部列在同一行裡！）\n",
    "3. 在終端機執行以下指令，便會自動安裝在 requirements.txt 裡面所列的第三方套件"
   ]
  },
  {
   "cell_type": "code",
   "execution_count": null,
   "metadata": {},
   "outputs": [],
   "source": [
    "pip install -r requirements.txt"
   ]
  },
  {
   "cell_type": "markdown",
   "metadata": {},
   "source": [
    "4. 在 lesson 資料夾裡，新增一個 index.py，在裡面寫入以下指令：\n"
   ]
  },
  {
   "cell_type": "code",
   "execution_count": null,
   "metadata": {},
   "outputs": [],
   "source": [
    "print (\"Hello! Flask!\")"
   ]
  },
  {
   "cell_type": "markdown",
   "metadata": {},
   "source": [
    "5. 進入到 flask 官網，找到以下指令，並貼在```print (\"Hello! Flask!\")```下方："
   ]
  },
  {
   "cell_type": "code",
   "execution_count": null,
   "metadata": {},
   "outputs": [],
   "source": [
    "from flask import Flask\n",
    "\n",
    "app = Flask(__name__)\n",
    "\n",
    "@app.route(\"/\")\n",
    "def hello_world():\n",
    "    return \"<p>Hello, World!</p>\""
   ]
  }
 ],
 "metadata": {
  "language_info": {
   "name": "python"
  }
 },
 "nbformat": 4,
 "nbformat_minor": 2
}
